{
  "nbformat": 4,
  "nbformat_minor": 0,
  "metadata": {
    "colab": {
      "provenance": [],
      "machine_shape": "hm",
      "gpuType": "L4",
      "mount_file_id": "1oSnzIkkpVUGtTYjehwMECN-3IEBJZLn5",
      "authorship_tag": "ABX9TyO7++EYUSIenZLFvBP7Hfs7",
      "include_colab_link": true
    },
    "kernelspec": {
      "name": "python3",
      "display_name": "Python 3"
    },
    "language_info": {
      "name": "python"
    },
    "accelerator": "GPU"
  },
  "cells": [
    {
      "cell_type": "markdown",
      "metadata": {
        "id": "view-in-github",
        "colab_type": "text"
      },
      "source": [
        "<a href=\"https://colab.research.google.com/github/masterinfo/COURS_ELEARNING/blob/master/recommendation_movies_Deep_Learning_wilfrid_limite.ipynb\" target=\"_parent\"><img src=\"https://colab.research.google.com/assets/colab-badge.svg\" alt=\"Open In Colab\"/></a>"
      ]
    },
    {
      "cell_type": "code",
      "source": [
        "import numpy as np\n",
        "import pandas as pd"
      ],
      "metadata": {
        "id": "Y7s6k1oElWJy"
      },
      "execution_count": null,
      "outputs": []
    },
    {
      "cell_type": "code",
      "execution_count": null,
      "metadata": {
        "colab": {
          "base_uri": "https://localhost:8080/"
        },
        "id": "XZpNo1nuji9M",
        "outputId": "b8c655e5-622c-44c7-8fb8-7b5cca0badca"
      },
      "outputs": [
        {
          "output_type": "stream",
          "name": "stdout",
          "text": [
            "Reviews shape: (1000209, 4)\n",
            "Users shape: (6040, 5)\n"
          ]
        }
      ],
      "source": [
        "reviews = pd.read_csv('/content/drive/My Drive/movies_recommendations/ratings.dat', names=['userId', 'movieId', 'rating', 'time'], delimiter='::', engine='python')\n",
        "users = pd.read_csv('/content/drive/My Drive/movies_recommendations/users.dat', names=['userId','gender','age','occupation','zip'], delimiter='::', engine='python')\n",
        "\n",
        "print('Reviews shape:', reviews.shape)\n",
        "print('Users shape:', users.shape)\n"
      ]
    },
    {
      "cell_type": "code",
      "source": [
        "try:\n",
        "    movies_df=pd.read_csv('/content/drive/My Drive/movies_recommendations/movies.dat', sep='::', header=None, engine='python', encoding='utf-8')\n",
        "except UnicodeDecodeError:\n",
        "    movies_df=pd.read_csv('/content/drive/My Drive/movies_recommendations/movies.dat', sep='::', header=None, engine='python', encoding='latin-1')\n",
        "movies_df.columns = ['movieId', 'title', 'genres']\n",
        "print(movies_df.head())"
      ],
      "metadata": {
        "colab": {
          "base_uri": "https://localhost:8080/"
        },
        "id": "0LwbqRernQ8m",
        "outputId": "78bce227-cf15-4d26-daf4-3a36216ca3b9"
      },
      "execution_count": null,
      "outputs": [
        {
          "output_type": "stream",
          "name": "stdout",
          "text": [
            "   movieId                               title                        genres\n",
            "0        1                    Toy Story (1995)   Animation|Children's|Comedy\n",
            "1        2                      Jumanji (1995)  Adventure|Children's|Fantasy\n",
            "2        3             Grumpier Old Men (1995)                Comedy|Romance\n",
            "3        4            Waiting to Exhale (1995)                  Comedy|Drama\n",
            "4        5  Father of the Bride Part II (1995)                        Comedy\n"
          ]
        }
      ]
    },
    {
      "cell_type": "code",
      "source": [
        "print('movies_df shape:', movies_df.shape)"
      ],
      "metadata": {
        "colab": {
          "base_uri": "https://localhost:8080/"
        },
        "id": "hj9QtrGXsRkJ",
        "outputId": "937681d1-9f97-4508-f05f-9f15d18e28e2"
      },
      "execution_count": null,
      "outputs": [
        {
          "output_type": "stream",
          "name": "stdout",
          "text": [
            "movies_df shape: (3883, 3)\n"
          ]
        }
      ]
    },
    {
      "cell_type": "code",
      "source": [
        "reviews.drop(['time'], axis=1, inplace=True)\n",
        "users.drop(['zip'], axis=1, inplace=True)"
      ],
      "metadata": {
        "id": "O69JQc-esczs"
      },
      "execution_count": null,
      "outputs": []
    },
    {
      "cell_type": "code",
      "source": [
        "movies_df['release_year'] = movies_df['title'].str.extract(r'(?:\\((\\d{4})\\))?\\s*$', expand=False)"
      ],
      "metadata": {
        "id": "GzLAI4ZgsfPT"
      },
      "execution_count": null,
      "outputs": []
    },
    {
      "cell_type": "markdown",
      "source": [
        "\n",
        "Merging all  *dataset* users, reviews et Movies"
      ],
      "metadata": {
        "id": "QxxEM5jxsqWR"
      }
    },
    {
      "cell_type": "code",
      "source": [
        "final_df = reviews.merge(movies_df, on='movieId', how='left').merge(users, on='userId', how='left')\n",
        "\n",
        "print('Final_df shape:', final_df.shape)"
      ],
      "metadata": {
        "colab": {
          "base_uri": "https://localhost:8080/"
        },
        "id": "X1NyX2UasrHL",
        "outputId": "2c297d27-f4fd-4b02-d014-099f048bdc86"
      },
      "execution_count": null,
      "outputs": [
        {
          "output_type": "stream",
          "name": "stdout",
          "text": [
            "Final_df shape: (1000209, 9)\n"
          ]
        }
      ]
    },
    {
      "cell_type": "code",
      "source": [
        "final_df.head()"
      ],
      "metadata": {
        "colab": {
          "base_uri": "https://localhost:8080/",
          "height": 206
        },
        "id": "Z0yokGpts9J_",
        "outputId": "a6eac3c2-c100-4d52-d3c1-7b3a8fa7e3b9"
      },
      "execution_count": null,
      "outputs": [
        {
          "output_type": "execute_result",
          "data": {
            "text/plain": [
              "   userId  movieId  rating                                   title  \\\n",
              "0       1     1193       5  One Flew Over the Cuckoo's Nest (1975)   \n",
              "1       1      661       3        James and the Giant Peach (1996)   \n",
              "2       1      914       3                     My Fair Lady (1964)   \n",
              "3       1     3408       4                  Erin Brockovich (2000)   \n",
              "4       1     2355       5                    Bug's Life, A (1998)   \n",
              "\n",
              "                         genres release_year gender  age  occupation  \n",
              "0                         Drama         1975      F    1          10  \n",
              "1  Animation|Children's|Musical         1996      F    1          10  \n",
              "2               Musical|Romance         1964      F    1          10  \n",
              "3                         Drama         2000      F    1          10  \n",
              "4   Animation|Children's|Comedy         1998      F    1          10  "
            ],
            "text/html": [
              "\n",
              "  <div id=\"df-489bfd1b-96a7-4518-a115-4e6db37196a1\" class=\"colab-df-container\">\n",
              "    <div>\n",
              "<style scoped>\n",
              "    .dataframe tbody tr th:only-of-type {\n",
              "        vertical-align: middle;\n",
              "    }\n",
              "\n",
              "    .dataframe tbody tr th {\n",
              "        vertical-align: top;\n",
              "    }\n",
              "\n",
              "    .dataframe thead th {\n",
              "        text-align: right;\n",
              "    }\n",
              "</style>\n",
              "<table border=\"1\" class=\"dataframe\">\n",
              "  <thead>\n",
              "    <tr style=\"text-align: right;\">\n",
              "      <th></th>\n",
              "      <th>userId</th>\n",
              "      <th>movieId</th>\n",
              "      <th>rating</th>\n",
              "      <th>title</th>\n",
              "      <th>genres</th>\n",
              "      <th>release_year</th>\n",
              "      <th>gender</th>\n",
              "      <th>age</th>\n",
              "      <th>occupation</th>\n",
              "    </tr>\n",
              "  </thead>\n",
              "  <tbody>\n",
              "    <tr>\n",
              "      <th>0</th>\n",
              "      <td>1</td>\n",
              "      <td>1193</td>\n",
              "      <td>5</td>\n",
              "      <td>One Flew Over the Cuckoo's Nest (1975)</td>\n",
              "      <td>Drama</td>\n",
              "      <td>1975</td>\n",
              "      <td>F</td>\n",
              "      <td>1</td>\n",
              "      <td>10</td>\n",
              "    </tr>\n",
              "    <tr>\n",
              "      <th>1</th>\n",
              "      <td>1</td>\n",
              "      <td>661</td>\n",
              "      <td>3</td>\n",
              "      <td>James and the Giant Peach (1996)</td>\n",
              "      <td>Animation|Children's|Musical</td>\n",
              "      <td>1996</td>\n",
              "      <td>F</td>\n",
              "      <td>1</td>\n",
              "      <td>10</td>\n",
              "    </tr>\n",
              "    <tr>\n",
              "      <th>2</th>\n",
              "      <td>1</td>\n",
              "      <td>914</td>\n",
              "      <td>3</td>\n",
              "      <td>My Fair Lady (1964)</td>\n",
              "      <td>Musical|Romance</td>\n",
              "      <td>1964</td>\n",
              "      <td>F</td>\n",
              "      <td>1</td>\n",
              "      <td>10</td>\n",
              "    </tr>\n",
              "    <tr>\n",
              "      <th>3</th>\n",
              "      <td>1</td>\n",
              "      <td>3408</td>\n",
              "      <td>4</td>\n",
              "      <td>Erin Brockovich (2000)</td>\n",
              "      <td>Drama</td>\n",
              "      <td>2000</td>\n",
              "      <td>F</td>\n",
              "      <td>1</td>\n",
              "      <td>10</td>\n",
              "    </tr>\n",
              "    <tr>\n",
              "      <th>4</th>\n",
              "      <td>1</td>\n",
              "      <td>2355</td>\n",
              "      <td>5</td>\n",
              "      <td>Bug's Life, A (1998)</td>\n",
              "      <td>Animation|Children's|Comedy</td>\n",
              "      <td>1998</td>\n",
              "      <td>F</td>\n",
              "      <td>1</td>\n",
              "      <td>10</td>\n",
              "    </tr>\n",
              "  </tbody>\n",
              "</table>\n",
              "</div>\n",
              "    <div class=\"colab-df-buttons\">\n",
              "\n",
              "  <div class=\"colab-df-container\">\n",
              "    <button class=\"colab-df-convert\" onclick=\"convertToInteractive('df-489bfd1b-96a7-4518-a115-4e6db37196a1')\"\n",
              "            title=\"Convert this dataframe to an interactive table.\"\n",
              "            style=\"display:none;\">\n",
              "\n",
              "  <svg xmlns=\"http://www.w3.org/2000/svg\" height=\"24px\" viewBox=\"0 -960 960 960\">\n",
              "    <path d=\"M120-120v-720h720v720H120Zm60-500h600v-160H180v160Zm220 220h160v-160H400v160Zm0 220h160v-160H400v160ZM180-400h160v-160H180v160Zm440 0h160v-160H620v160ZM180-180h160v-160H180v160Zm440 0h160v-160H620v160Z\"/>\n",
              "  </svg>\n",
              "    </button>\n",
              "\n",
              "  <style>\n",
              "    .colab-df-container {\n",
              "      display:flex;\n",
              "      gap: 12px;\n",
              "    }\n",
              "\n",
              "    .colab-df-convert {\n",
              "      background-color: #E8F0FE;\n",
              "      border: none;\n",
              "      border-radius: 50%;\n",
              "      cursor: pointer;\n",
              "      display: none;\n",
              "      fill: #1967D2;\n",
              "      height: 32px;\n",
              "      padding: 0 0 0 0;\n",
              "      width: 32px;\n",
              "    }\n",
              "\n",
              "    .colab-df-convert:hover {\n",
              "      background-color: #E2EBFA;\n",
              "      box-shadow: 0px 1px 2px rgba(60, 64, 67, 0.3), 0px 1px 3px 1px rgba(60, 64, 67, 0.15);\n",
              "      fill: #174EA6;\n",
              "    }\n",
              "\n",
              "    .colab-df-buttons div {\n",
              "      margin-bottom: 4px;\n",
              "    }\n",
              "\n",
              "    [theme=dark] .colab-df-convert {\n",
              "      background-color: #3B4455;\n",
              "      fill: #D2E3FC;\n",
              "    }\n",
              "\n",
              "    [theme=dark] .colab-df-convert:hover {\n",
              "      background-color: #434B5C;\n",
              "      box-shadow: 0px 1px 3px 1px rgba(0, 0, 0, 0.15);\n",
              "      filter: drop-shadow(0px 1px 2px rgba(0, 0, 0, 0.3));\n",
              "      fill: #FFFFFF;\n",
              "    }\n",
              "  </style>\n",
              "\n",
              "    <script>\n",
              "      const buttonEl =\n",
              "        document.querySelector('#df-489bfd1b-96a7-4518-a115-4e6db37196a1 button.colab-df-convert');\n",
              "      buttonEl.style.display =\n",
              "        google.colab.kernel.accessAllowed ? 'block' : 'none';\n",
              "\n",
              "      async function convertToInteractive(key) {\n",
              "        const element = document.querySelector('#df-489bfd1b-96a7-4518-a115-4e6db37196a1');\n",
              "        const dataTable =\n",
              "          await google.colab.kernel.invokeFunction('convertToInteractive',\n",
              "                                                    [key], {});\n",
              "        if (!dataTable) return;\n",
              "\n",
              "        const docLinkHtml = 'Like what you see? Visit the ' +\n",
              "          '<a target=\"_blank\" href=https://colab.research.google.com/notebooks/data_table.ipynb>data table notebook</a>'\n",
              "          + ' to learn more about interactive tables.';\n",
              "        element.innerHTML = '';\n",
              "        dataTable['output_type'] = 'display_data';\n",
              "        await google.colab.output.renderOutput(dataTable, element);\n",
              "        const docLink = document.createElement('div');\n",
              "        docLink.innerHTML = docLinkHtml;\n",
              "        element.appendChild(docLink);\n",
              "      }\n",
              "    </script>\n",
              "  </div>\n",
              "\n",
              "\n",
              "<div id=\"df-5b21961f-f9d8-448e-b465-1aadc98c56e6\">\n",
              "  <button class=\"colab-df-quickchart\" onclick=\"quickchart('df-5b21961f-f9d8-448e-b465-1aadc98c56e6')\"\n",
              "            title=\"Suggest charts\"\n",
              "            style=\"display:none;\">\n",
              "\n",
              "<svg xmlns=\"http://www.w3.org/2000/svg\" height=\"24px\"viewBox=\"0 0 24 24\"\n",
              "     width=\"24px\">\n",
              "    <g>\n",
              "        <path d=\"M19 3H5c-1.1 0-2 .9-2 2v14c0 1.1.9 2 2 2h14c1.1 0 2-.9 2-2V5c0-1.1-.9-2-2-2zM9 17H7v-7h2v7zm4 0h-2V7h2v10zm4 0h-2v-4h2v4z\"/>\n",
              "    </g>\n",
              "</svg>\n",
              "  </button>\n",
              "\n",
              "<style>\n",
              "  .colab-df-quickchart {\n",
              "      --bg-color: #E8F0FE;\n",
              "      --fill-color: #1967D2;\n",
              "      --hover-bg-color: #E2EBFA;\n",
              "      --hover-fill-color: #174EA6;\n",
              "      --disabled-fill-color: #AAA;\n",
              "      --disabled-bg-color: #DDD;\n",
              "  }\n",
              "\n",
              "  [theme=dark] .colab-df-quickchart {\n",
              "      --bg-color: #3B4455;\n",
              "      --fill-color: #D2E3FC;\n",
              "      --hover-bg-color: #434B5C;\n",
              "      --hover-fill-color: #FFFFFF;\n",
              "      --disabled-bg-color: #3B4455;\n",
              "      --disabled-fill-color: #666;\n",
              "  }\n",
              "\n",
              "  .colab-df-quickchart {\n",
              "    background-color: var(--bg-color);\n",
              "    border: none;\n",
              "    border-radius: 50%;\n",
              "    cursor: pointer;\n",
              "    display: none;\n",
              "    fill: var(--fill-color);\n",
              "    height: 32px;\n",
              "    padding: 0;\n",
              "    width: 32px;\n",
              "  }\n",
              "\n",
              "  .colab-df-quickchart:hover {\n",
              "    background-color: var(--hover-bg-color);\n",
              "    box-shadow: 0 1px 2px rgba(60, 64, 67, 0.3), 0 1px 3px 1px rgba(60, 64, 67, 0.15);\n",
              "    fill: var(--button-hover-fill-color);\n",
              "  }\n",
              "\n",
              "  .colab-df-quickchart-complete:disabled,\n",
              "  .colab-df-quickchart-complete:disabled:hover {\n",
              "    background-color: var(--disabled-bg-color);\n",
              "    fill: var(--disabled-fill-color);\n",
              "    box-shadow: none;\n",
              "  }\n",
              "\n",
              "  .colab-df-spinner {\n",
              "    border: 2px solid var(--fill-color);\n",
              "    border-color: transparent;\n",
              "    border-bottom-color: var(--fill-color);\n",
              "    animation:\n",
              "      spin 1s steps(1) infinite;\n",
              "  }\n",
              "\n",
              "  @keyframes spin {\n",
              "    0% {\n",
              "      border-color: transparent;\n",
              "      border-bottom-color: var(--fill-color);\n",
              "      border-left-color: var(--fill-color);\n",
              "    }\n",
              "    20% {\n",
              "      border-color: transparent;\n",
              "      border-left-color: var(--fill-color);\n",
              "      border-top-color: var(--fill-color);\n",
              "    }\n",
              "    30% {\n",
              "      border-color: transparent;\n",
              "      border-left-color: var(--fill-color);\n",
              "      border-top-color: var(--fill-color);\n",
              "      border-right-color: var(--fill-color);\n",
              "    }\n",
              "    40% {\n",
              "      border-color: transparent;\n",
              "      border-right-color: var(--fill-color);\n",
              "      border-top-color: var(--fill-color);\n",
              "    }\n",
              "    60% {\n",
              "      border-color: transparent;\n",
              "      border-right-color: var(--fill-color);\n",
              "    }\n",
              "    80% {\n",
              "      border-color: transparent;\n",
              "      border-right-color: var(--fill-color);\n",
              "      border-bottom-color: var(--fill-color);\n",
              "    }\n",
              "    90% {\n",
              "      border-color: transparent;\n",
              "      border-bottom-color: var(--fill-color);\n",
              "    }\n",
              "  }\n",
              "</style>\n",
              "\n",
              "  <script>\n",
              "    async function quickchart(key) {\n",
              "      const quickchartButtonEl =\n",
              "        document.querySelector('#' + key + ' button');\n",
              "      quickchartButtonEl.disabled = true;  // To prevent multiple clicks.\n",
              "      quickchartButtonEl.classList.add('colab-df-spinner');\n",
              "      try {\n",
              "        const charts = await google.colab.kernel.invokeFunction(\n",
              "            'suggestCharts', [key], {});\n",
              "      } catch (error) {\n",
              "        console.error('Error during call to suggestCharts:', error);\n",
              "      }\n",
              "      quickchartButtonEl.classList.remove('colab-df-spinner');\n",
              "      quickchartButtonEl.classList.add('colab-df-quickchart-complete');\n",
              "    }\n",
              "    (() => {\n",
              "      let quickchartButtonEl =\n",
              "        document.querySelector('#df-5b21961f-f9d8-448e-b465-1aadc98c56e6 button');\n",
              "      quickchartButtonEl.style.display =\n",
              "        google.colab.kernel.accessAllowed ? 'block' : 'none';\n",
              "    })();\n",
              "  </script>\n",
              "</div>\n",
              "\n",
              "    </div>\n",
              "  </div>\n"
            ],
            "application/vnd.google.colaboratory.intrinsic+json": {
              "type": "dataframe",
              "variable_name": "final_df"
            }
          },
          "metadata": {},
          "execution_count": 8
        }
      ]
    },
    {
      "cell_type": "markdown",
      "source": [
        "Collaborative Filtering - Deep Learning"
      ],
      "metadata": {
        "id": "Y2kFdMrHtWFj"
      }
    },
    {
      "cell_type": "markdown",
      "source": [
        "One important thing to keep in mind is that in an approach based purely on collaborative filtering, the similarity is not calculated using factors like the age of users, genre of the movie, or any other data about users or items.\n",
        "It is calculated only on the basis of the rating (explicit or implicit) a user gives to an item.\n",
        "For example, two users can be considered similar if they give the same ratings to ten movies despite there being a big difference in their age"
      ],
      "metadata": {
        "id": "rWlcwjsltae_"
      }
    },
    {
      "cell_type": "code",
      "source": [
        "userid_nunique = final_df['userId'].nunique()\n",
        "movieid_nunique = final_df['movieId'].nunique()\n",
        "\n",
        "print('User_id total unique:', userid_nunique)\n",
        "print('Movieid total unique:', movieid_nunique)"
      ],
      "metadata": {
        "colab": {
          "base_uri": "https://localhost:8080/"
        },
        "id": "HwjYjBwMtWlZ",
        "outputId": "bce37672-b399-4e40-c19a-cc7601e0cb26"
      },
      "execution_count": null,
      "outputs": [
        {
          "output_type": "stream",
          "name": "stdout",
          "text": [
            "User_id total unique: 6040\n",
            "Movieid total unique: 3706\n"
          ]
        }
      ]
    },
    {
      "cell_type": "markdown",
      "source": [
        "build our first collaborative filtering ann model"
      ],
      "metadata": {
        "id": "B29YCbx8tm1e"
      }
    },
    {
      "cell_type": "markdown",
      "source": [
        "\n",
        "    The user / movie features are currently non-sequential integers representing some unique ID for that entity\n",
        "    We need them to be sequential starting at zero to use for modeling (if not, it will throw an error)\n",
        "    We can use scikit-learn’s LabelEncoder class to transform the fields\n",
        "    Finally, We’ll also create variables with the total number of unique users and movies in the data\n"
      ],
      "metadata": {
        "id": "onDf0tZMtpFJ"
      }
    },
    {
      "cell_type": "code",
      "source": [
        "\n",
        "\n",
        "from sklearn.preprocessing import LabelEncoder\n",
        "\n",
        "user_enc = LabelEncoder()\n",
        "final_df['userId'] = user_enc.fit_transform(final_df['userId'])\n",
        "\n",
        "movie_enc = LabelEncoder()\n",
        "final_df['movieId'] = movie_enc.fit_transform(final_df['movieId'])\n",
        "\n"
      ],
      "metadata": {
        "id": "I8NpPO6ktq0c"
      },
      "execution_count": null,
      "outputs": []
    },
    {
      "cell_type": "code",
      "source": [
        "print(final_df.head())"
      ],
      "metadata": {
        "colab": {
          "base_uri": "https://localhost:8080/"
        },
        "id": "Hac3NlU1uLaV",
        "outputId": "8ccc4587-6fac-4153-ce7f-ebee523e5d5d"
      },
      "execution_count": null,
      "outputs": [
        {
          "output_type": "stream",
          "name": "stdout",
          "text": [
            "   userId  movieId  rating                                   title  \\\n",
            "0       0     1104       5  One Flew Over the Cuckoo's Nest (1975)   \n",
            "1       0      639       3        James and the Giant Peach (1996)   \n",
            "2       0      853       3                     My Fair Lady (1964)   \n",
            "3       0     3177       4                  Erin Brockovich (2000)   \n",
            "4       0     2162       5                    Bug's Life, A (1998)   \n",
            "\n",
            "                         genres release_year gender  age  occupation  \n",
            "0                         Drama         1975      F    1          10  \n",
            "1  Animation|Children's|Musical         1996      F    1          10  \n",
            "2               Musical|Romance         1964      F    1          10  \n",
            "3                         Drama         2000      F    1          10  \n",
            "4   Animation|Children's|Comedy         1998      F    1          10  \n"
          ]
        }
      ]
    },
    {
      "cell_type": "code",
      "source": [
        "import tensorflow as tf\n",
        "from tensorflow.keras import Model\n",
        "from tensorflow.keras.layers import Input, Embedding, Reshape, Dot, Flatten, concatenate, Dense, Dropout\n",
        "from tensorflow.keras.optimizers import Adam\n",
        "from tensorflow.keras.callbacks import ModelCheckpoint\n",
        "\n",
        "from tensorflow.keras.utils import model_to_dot\n",
        "from IPython.display import SVG"
      ],
      "metadata": {
        "id": "TdHqdFZZuell"
      },
      "execution_count": null,
      "outputs": []
    },
    {
      "cell_type": "markdown",
      "source": [
        "Model 1\n",
        "\n",
        "---\n",
        "\n"
      ],
      "metadata": {
        "id": "snYQ7hEqukgz"
      }
    },
    {
      "cell_type": "code",
      "source": [
        "# # Notes: Reshape(n_dim, ) is same with Flatten, we can use both (choose one)\n",
        "\n",
        "# def RecommenderV1(n_users, n_movies, n_dim):\n",
        "\n",
        "#     # User\n",
        "#     user = Input(shape=(1,))\n",
        "#     U = Embedding(n_users, n_dim)(user)\n",
        "#     U = Flatten()(U)\n",
        "\n",
        "#     # Movie\n",
        "#     movie = Input(shape=(1,))\n",
        "#     M = Embedding(n_movies, n_dim)(movie)\n",
        "#     M = Flatten()(M)\n",
        "\n",
        "#     # Dot U and M\n",
        "#     x = Dot(axes=1)([U, M])\n",
        "\n",
        "#     model = Model(inputs=[user, movie], outputs=x)\n",
        "\n",
        "#     model.compile(optimizer=Adam(0.0001),\n",
        "#                   loss='mean_squared_error')\n",
        "\n",
        "#     return model"
      ],
      "metadata": {
        "id": "dCg1fDE0uj57"
      },
      "execution_count": null,
      "outputs": []
    },
    {
      "cell_type": "code",
      "source": [
        "# model1 = RecommenderV1(userid_nunique, movieid_nunique, 100)"
      ],
      "metadata": {
        "id": "wBi2mMZ8u8BG"
      },
      "execution_count": null,
      "outputs": []
    },
    {
      "cell_type": "code",
      "source": [
        "\n",
        "\n",
        "# svg = SVG(model_to_dot(model1, show_shapes=True, show_layer_names=True, rankdir='HB', dpi=70).create(prog='dot', format='svg'))\n",
        "# display(svg)\n"
      ],
      "metadata": {
        "collapsed": true,
        "id": "e2aKMEMUvAys"
      },
      "execution_count": null,
      "outputs": []
    },
    {
      "cell_type": "code",
      "source": [
        "# print(model1.summary())\n"
      ],
      "metadata": {
        "id": "r9w3qxhivWqp"
      },
      "execution_count": null,
      "outputs": []
    },
    {
      "cell_type": "markdown",
      "source": [
        "Train test split and ratins est utilisé comme label"
      ],
      "metadata": {
        "id": "gwvwlt3p6eE5"
      }
    },
    {
      "cell_type": "code",
      "source": [
        "from sklearn.model_selection import train_test_split\n",
        "\n",
        "X = final_df.drop(['rating'], axis=1)\n",
        "y = final_df['rating']\n",
        "\n",
        "X_train, X_val, y_train, y_val = train_test_split(X, y, test_size=0.1, stratify=y, random_state=2020)\n",
        "\n",
        "X_train.shape, X_val.shape, y_train.shape, y_val.shape"
      ],
      "metadata": {
        "colab": {
          "base_uri": "https://localhost:8080/"
        },
        "id": "neI8Uqoz6XGK",
        "outputId": "ff986cb5-241a-452b-81ba-1c14aebd8b3f"
      },
      "execution_count": null,
      "outputs": [
        {
          "output_type": "execute_result",
          "data": {
            "text/plain": [
              "((900188, 8), (100021, 8), (900188,), (100021,))"
            ]
          },
          "metadata": {},
          "execution_count": 13
        }
      ]
    },
    {
      "cell_type": "markdown",
      "source": [
        "  train model 1"
      ],
      "metadata": {
        "id": "eErjadCJ6qvd"
      }
    },
    {
      "cell_type": "code",
      "source": [
        "from keras.callbacks import ModelCheckpoint"
      ],
      "metadata": {
        "id": "tt-gs12X7rWs"
      },
      "execution_count": null,
      "outputs": []
    },
    {
      "cell_type": "code",
      "source": [
        "# checkpoint1 = ModelCheckpoint('model1.h5.keras', monitor='val_loss', verbose=1, save_best_only=True)"
      ],
      "metadata": {
        "id": "OUKEVyn56r_m"
      },
      "execution_count": null,
      "outputs": []
    },
    {
      "cell_type": "markdown",
      "source": [
        "La métrique à surveiller pour décider quand sauvegarder le modèle. Ici, la perte de validation (val_loss) est surveillée. Cela signifie que le modèle sera sauvegardé chaque fois que la perte de validation s'améliore"
      ],
      "metadata": {
        "id": "xMnKHa5MMHsn"
      }
    },
    {
      "cell_type": "code",
      "source": [
        "# history1 = model1.fit(x=[X_train['userId'], X_train['movieId']], y=y_train, batch_size=64, epochs=10, verbose=1, validation_data=([X_val['userId'], X_val['movieId']], y_val), callbacks=[checkpoint1])"
      ],
      "metadata": {
        "id": "sOGknPnB7V3t"
      },
      "execution_count": null,
      "outputs": []
    },
    {
      "cell_type": "markdown",
      "source": [
        "Model 1 Evaluation"
      ],
      "metadata": {
        "id": "h58Z0aYZVXiX"
      }
    },
    {
      "cell_type": "code",
      "source": [
        "# import matplotlib.pyplot as plt\n",
        "\n",
        "# # Get training and test loss histories\n",
        "# training_loss1 = history1.history['loss']\n",
        "# test_loss1 = history1.history['val_loss']\n",
        "\n",
        "# # Create count of the number of epochs\n",
        "# epoch_count = range(1, len(training_loss1) + 1)\n",
        "# plt.title(\"Model 1: Collaborative Filtering with Deep Learning (ANN)\")\n",
        "# # Visualize loss history\n",
        "# plt.plot(epoch_count, training_loss1, 'r--')\n",
        "# plt.plot(epoch_count, test_loss1, 'b-')\n",
        "# plt.legend(['Training Loss', 'Test Loss'])\n",
        "# plt.xlabel('Epoch')\n",
        "# plt.ylabel('Loss')\n",
        "# plt.show()\n",
        "\n"
      ],
      "metadata": {
        "id": "jEQGoWgOVZV1"
      },
      "execution_count": null,
      "outputs": []
    },
    {
      "cell_type": "markdown",
      "source": [
        "Model 2"
      ],
      "metadata": {
        "id": "asF3WoOeVhb5"
      }
    },
    {
      "cell_type": "code",
      "source": [
        "# # Notes: Reshape(n_dim, ) is same with Flatten, we can use both (choose one)\n",
        "\n",
        "# def RecommenderV2(n_users, n_movies, n_dim):\n",
        "\n",
        "#     # User\n",
        "#     user = Input(shape=(1,))\n",
        "#     U = Embedding(n_users, n_dim)(user)\n",
        "#     U = Flatten()(U)\n",
        "\n",
        "#     # Movie\n",
        "#     movie = Input(shape=(1,))\n",
        "#     M = Embedding(n_movies, n_dim)(movie)\n",
        "#     M = Flatten()(M)\n",
        "\n",
        "#     # Ganti disini\n",
        "#     merged_vector = concatenate([U, M])\n",
        "#     dense_1 = Dense(128, activation='relu')(merged_vector)\n",
        "#     dropout = Dropout(0.5)(dense_1)\n",
        "#     final = Dense(1)(dropout)\n",
        "\n",
        "#     model = Model(inputs=[user, movie], outputs=final)\n",
        "\n",
        "#     model.compile(optimizer=Adam(0.001),\n",
        "#                   loss='mean_squared_error')\n",
        "\n",
        "#     return model"
      ],
      "metadata": {
        "id": "SmqTjlvuVgyu"
      },
      "execution_count": null,
      "outputs": []
    },
    {
      "cell_type": "code",
      "source": [
        "# model2 = RecommenderV2(userid_nunique, movieid_nunique, 100)"
      ],
      "metadata": {
        "id": "RkxmxIR7VmJO"
      },
      "execution_count": null,
      "outputs": []
    },
    {
      "cell_type": "code",
      "source": [
        "# svg2 = SVG(model_to_dot(model2, show_shapes=True, show_layer_names=True, rankdir='HB', dpi=70).create(prog='dot', format='svg'))\n",
        "# display(svg2)"
      ],
      "metadata": {
        "id": "tPTxuH4UVp_M"
      },
      "execution_count": null,
      "outputs": []
    },
    {
      "cell_type": "code",
      "source": [
        "# model2.summary()"
      ],
      "metadata": {
        "id": "2ZAAxq-yV01Q"
      },
      "execution_count": null,
      "outputs": []
    },
    {
      "cell_type": "code",
      "source": [
        "# checkpoint2 = ModelCheckpoint('model2.h5.keras', monitor='val_loss', verbose=0, save_best_only=True)"
      ],
      "metadata": {
        "id": "ZXxK1pV4V3My"
      },
      "execution_count": null,
      "outputs": []
    },
    {
      "cell_type": "code",
      "source": [
        "# history2 = model2.fit(x=[X_train['userId'], X_train['movieId']], y=y_train, batch_size=64, epochs=20,\n",
        "#                       verbose=1, validation_data=([X_val['userId'], X_val['movieId']], y_val), callbacks=[checkpoint2])"
      ],
      "metadata": {
        "id": "4tuAoidoXru-"
      },
      "execution_count": null,
      "outputs": []
    },
    {
      "cell_type": "markdown",
      "source": [
        "\n",
        "Model 2 Evaluation"
      ],
      "metadata": {
        "id": "gr_hjmukXvC_"
      }
    },
    {
      "cell_type": "code",
      "source": [
        "# # Get training and test loss histories\n",
        "# training_loss2 = history2.history['loss']\n",
        "# test_loss2 = history2.history['val_loss']\n",
        "\n",
        "# # Create count of the number of epochs\n",
        "# epoch_count = range(1, len(training_loss2) + 1)\n",
        "\n",
        "# # Visualize loss history\n",
        "# plt.plot(epoch_count, training_loss2, 'r--')\n",
        "# plt.plot(epoch_count, test_loss2, 'b-')\n",
        "# plt.legend(['Training Loss', 'Test Loss'])\n",
        "# plt.xlabel('Epoch')\n",
        "# plt.ylabel('Loss')\n",
        "# plt.show()"
      ],
      "metadata": {
        "id": "0tJscpoqXy8c"
      },
      "execution_count": null,
      "outputs": []
    },
    {
      "cell_type": "markdown",
      "source": [
        "Model 3"
      ],
      "metadata": {
        "id": "otsDyu7VX3Us"
      }
    },
    {
      "cell_type": "code",
      "source": [
        "# # Notes: Reshape(n_dim, ) is same with Flatten, we can use both (choose one)\n",
        "\n",
        "# def RecommenderV3(n_users, n_movies, n_dim):\n",
        "\n",
        "#     # User\n",
        "#     user = Input(shape=(1,))\n",
        "#     U = Embedding(n_users, n_dim)(user)\n",
        "#     U = Flatten()(U)\n",
        "#     U = Dense(64, activation='relu')(U)\n",
        "\n",
        "#     # Movie\n",
        "#     movie = Input(shape=(1,))\n",
        "#     M = Embedding(n_movies, n_dim)(movie)\n",
        "#     M = Flatten()(M)\n",
        "#     M = Dense(64, activation='relu')(M)\n",
        "\n",
        "#     # Dot U and M\n",
        "#     x = concatenate([U, M])\n",
        "#     x = Dropout(0.25)(x)\n",
        "#     x = Dense(64, activation='relu')(x)\n",
        "#     x = Dropout(0.5)(x)\n",
        "#     final = Dense(1)(x)\n",
        "\n",
        "#     model = Model(inputs=[user, movie], outputs=final)\n",
        "\n",
        "#     model.compile(optimizer=Adam(0.0001),\n",
        "#                   loss='mean_squared_error')\n",
        "\n",
        "#     return model"
      ],
      "metadata": {
        "id": "6abhtaDCX4Ey"
      },
      "execution_count": null,
      "outputs": []
    },
    {
      "cell_type": "code",
      "source": [
        "# model3 = RecommenderV3(userid_nunique, movieid_nunique, 100)"
      ],
      "metadata": {
        "id": "JI3mVvMPX70N"
      },
      "execution_count": null,
      "outputs": []
    },
    {
      "cell_type": "markdown",
      "source": [
        "Model 3 - plot and summary"
      ],
      "metadata": {
        "id": "Bg1fqT3gX-Ew"
      }
    },
    {
      "cell_type": "code",
      "source": [
        "# svg3 = SVG(model_to_dot(model3, show_shapes=True, show_layer_names=True, rankdir='HB', dpi=70).create(prog='dot', format='svg'))\n",
        "# display(svg3)"
      ],
      "metadata": {
        "id": "CGRrR-tgYFlT"
      },
      "execution_count": null,
      "outputs": []
    },
    {
      "cell_type": "code",
      "source": [
        "# model3.summary()"
      ],
      "metadata": {
        "id": "GZpUkDZdYM8k"
      },
      "execution_count": null,
      "outputs": []
    },
    {
      "cell_type": "code",
      "source": [
        "# checkpoint3 = ModelCheckpoint('model3.h5.keras', monitor='val_loss', verbose=0, save_best_only=True)"
      ],
      "metadata": {
        "id": "icYWrcs9YQRn"
      },
      "execution_count": null,
      "outputs": []
    },
    {
      "cell_type": "code",
      "source": [
        "# history3 = model3.fit(x=[X_train['userId'], X_train['movieId']], y=y_train, batch_size=64, epochs=20,\n",
        "#                       verbose=1, validation_data=([X_val['userId'], X_val['movieId']], y_val), callbacks=[checkpoint3])"
      ],
      "metadata": {
        "id": "BgN00bt2YUOk"
      },
      "execution_count": null,
      "outputs": []
    },
    {
      "cell_type": "markdown",
      "source": [
        "Model 3 - evaluation"
      ],
      "metadata": {
        "id": "2O1vbUJkYXii"
      }
    },
    {
      "cell_type": "code",
      "source": [
        "# # Get training and test loss histories\n",
        "# training_loss3 = history3.history['loss']\n",
        "# test_loss3 = history3.history['val_loss']\n",
        "\n",
        "# # Create count of the number of epochs\n",
        "# epoch_count = range(1, len(training_loss3) + 1)\n",
        "\n",
        "# # Visualize loss history\n",
        "# plt.plot(epoch_count, training_loss3, 'r--')\n",
        "# plt.plot(epoch_count, test_loss3, 'b-')\n",
        "# plt.legend(['Training Loss', 'Test Loss'])\n",
        "# plt.xlabel('Epoch')\n",
        "# plt.ylabel('Loss')\n",
        "# plt.show()"
      ],
      "metadata": {
        "id": "W5D4dDVpYYKp"
      },
      "execution_count": null,
      "outputs": []
    },
    {
      "cell_type": "markdown",
      "source": [
        "\n",
        "\n",
        "---\n",
        "\n"
      ],
      "metadata": {
        "id": "nkDybaN7YFKd"
      }
    },
    {
      "cell_type": "markdown",
      "source": [
        "Model 4 avec genres et descriptions"
      ],
      "metadata": {
        "id": "gYOIRyyUY05t"
      }
    },
    {
      "cell_type": "code",
      "source": [
        "from sklearn.feature_extraction.text import TfidfVectorizer\n",
        "from keras.layers import Input, Embedding, Flatten, Dot, Concatenate, Dense"
      ],
      "metadata": {
        "id": "TFiZ5Rabdepb"
      },
      "execution_count": null,
      "outputs": []
    },
    {
      "cell_type": "code",
      "source": [
        "X_train['combined_features'] = X_train['genres'] + ' ' + X_train['title']\n",
        "X_val['combined_features'] = X_val['genres'] + ' ' + X_val['title']"
      ],
      "metadata": {
        "id": "aFoGuZ40hNw4"
      },
      "execution_count": null,
      "outputs": []
    },
    {
      "cell_type": "code",
      "source": [
        "from sklearn.feature_extraction.text import TfidfVectorizer\n",
        "\n",
        "tfidf = TfidfVectorizer(stop_words='english')\n",
        "tfidf_matrix_train = tfidf.fit_transform(X_train['combined_features'])\n",
        "tfidf_matrix_val = tfidf.transform(X_val['combined_features'])"
      ],
      "metadata": {
        "id": "SjluVLVdhQbT"
      },
      "execution_count": null,
      "outputs": []
    },
    {
      "cell_type": "code",
      "source": [
        "def RecommenderV4(n_users, n_movies, n_dim, tfidf_dim):\n",
        "    # User Input\n",
        "    user = Input(shape=(1,))\n",
        "    U = Embedding(n_users, n_dim)(user)\n",
        "    U = Flatten()(U)\n",
        "\n",
        "    # Movie Input\n",
        "    movie = Input(shape=(1,))\n",
        "    M = Embedding(n_movies, n_dim)(movie)\n",
        "    M = Flatten()(M)\n",
        "\n",
        "    # Additional Features Input\n",
        "    additional_features = Input(shape=(tfidf_dim,))\n",
        "\n",
        "    # Concatenate Embeddings and Additional Features\n",
        "    x = Concatenate()([U, M, additional_features])\n",
        "\n",
        "    # Dense Layers\n",
        "    x = Dense(128, activation='relu')(x)\n",
        "    output = Dense(1)(x)\n",
        "\n",
        "    # Create and Compile Model\n",
        "    model = Model(inputs=[user, movie, additional_features], outputs=output)\n",
        "    model.compile(loss='mean_squared_error', optimizer='adam')\n",
        "\n",
        "    return model\n"
      ],
      "metadata": {
        "id": "G9x7tgcZY2jI"
      },
      "execution_count": null,
      "outputs": []
    },
    {
      "cell_type": "code",
      "source": [
        "# Combiner les genres et les titres\n",
        "X_train['combined_features'] = X_train['genres']\n",
        "X_val['combined_features'] = X_val['genres']"
      ],
      "metadata": {
        "id": "NTAnJBR3ZFma"
      },
      "execution_count": null,
      "outputs": []
    },
    {
      "cell_type": "code",
      "source": [
        "tfidf = TfidfVectorizer(stop_words='english')\n",
        "tfidf_matrix_train = tfidf.fit_transform(X_train['combined_features'])\n",
        "tfidf_matrix_val = tfidf.transform(X_val['combined_features'])"
      ],
      "metadata": {
        "id": "OeHo8hgk0CWz"
      },
      "execution_count": null,
      "outputs": []
    },
    {
      "cell_type": "code",
      "source": [
        "n_users = final_df['userId'].nunique()\n",
        "n_movies = final_df['movieId'].nunique()\n",
        "n_dim = 100\n",
        "tfidf_matrix_shape = tfidf_matrix_train.shape[1]"
      ],
      "metadata": {
        "id": "B5eIQCh00LYp"
      },
      "execution_count": null,
      "outputs": []
    },
    {
      "cell_type": "code",
      "source": [
        "# Créer le modèle 4\n",
        "model4 = RecommenderV4(n_users, n_movies, n_dim, tfidf_matrix_shape)"
      ],
      "metadata": {
        "id": "n9bntuSo0b7h"
      },
      "execution_count": null,
      "outputs": []
    },
    {
      "cell_type": "code",
      "source": [
        "print(model4.summary())"
      ],
      "metadata": {
        "colab": {
          "base_uri": "https://localhost:8080/",
          "height": 547
        },
        "id": "Pr0K4JvsaCkx",
        "outputId": "b5d8ecc3-bf97-473c-f79e-e81e99bfb75b"
      },
      "execution_count": null,
      "outputs": [
        {
          "output_type": "display_data",
          "data": {
            "text/plain": [
              "\u001b[1mModel: \"functional_3\"\u001b[0m\n"
            ],
            "text/html": [
              "<pre style=\"white-space:pre;overflow-x:auto;line-height:normal;font-family:Menlo,'DejaVu Sans Mono',consolas,'Courier New',monospace\"><span style=\"font-weight: bold\">Model: \"functional_3\"</span>\n",
              "</pre>\n"
            ]
          },
          "metadata": {}
        },
        {
          "output_type": "display_data",
          "data": {
            "text/plain": [
              "┏━━━━━━━━━━━━━━━━━━━━━━━━━━━┳━━━━━━━━━━━━━━━━━━━━━━━━┳━━━━━━━━━━━━━━━━┳━━━━━━━━━━━━━━━━━━━━━━━━┓\n",
              "┃\u001b[1m \u001b[0m\u001b[1mLayer (type)             \u001b[0m\u001b[1m \u001b[0m┃\u001b[1m \u001b[0m\u001b[1mOutput Shape          \u001b[0m\u001b[1m \u001b[0m┃\u001b[1m \u001b[0m\u001b[1m       Param #\u001b[0m\u001b[1m \u001b[0m┃\u001b[1m \u001b[0m\u001b[1mConnected to          \u001b[0m\u001b[1m \u001b[0m┃\n",
              "┡━━━━━━━━━━━━━━━━━━━━━━━━━━━╇━━━━━━━━━━━━━━━━━━━━━━━━╇━━━━━━━━━━━━━━━━╇━━━━━━━━━━━━━━━━━━━━━━━━┩\n",
              "│ input_layer_9             │ (\u001b[38;5;45mNone\u001b[0m, \u001b[38;5;34m1\u001b[0m)              │              \u001b[38;5;34m0\u001b[0m │ -                      │\n",
              "│ (\u001b[38;5;33mInputLayer\u001b[0m)              │                        │                │                        │\n",
              "├───────────────────────────┼────────────────────────┼────────────────┼────────────────────────┤\n",
              "│ input_layer_10            │ (\u001b[38;5;45mNone\u001b[0m, \u001b[38;5;34m1\u001b[0m)              │              \u001b[38;5;34m0\u001b[0m │ -                      │\n",
              "│ (\u001b[38;5;33mInputLayer\u001b[0m)              │                        │                │                        │\n",
              "├───────────────────────────┼────────────────────────┼────────────────┼────────────────────────┤\n",
              "│ embedding_6 (\u001b[38;5;33mEmbedding\u001b[0m)   │ (\u001b[38;5;45mNone\u001b[0m, \u001b[38;5;34m1\u001b[0m, \u001b[38;5;34m100\u001b[0m)         │        \u001b[38;5;34m604,000\u001b[0m │ input_layer_9[\u001b[38;5;34m0\u001b[0m][\u001b[38;5;34m0\u001b[0m]    │\n",
              "├───────────────────────────┼────────────────────────┼────────────────┼────────────────────────┤\n",
              "│ embedding_7 (\u001b[38;5;33mEmbedding\u001b[0m)   │ (\u001b[38;5;45mNone\u001b[0m, \u001b[38;5;34m1\u001b[0m, \u001b[38;5;34m100\u001b[0m)         │        \u001b[38;5;34m370,600\u001b[0m │ input_layer_10[\u001b[38;5;34m0\u001b[0m][\u001b[38;5;34m0\u001b[0m]   │\n",
              "├───────────────────────────┼────────────────────────┼────────────────┼────────────────────────┤\n",
              "│ flatten_6 (\u001b[38;5;33mFlatten\u001b[0m)       │ (\u001b[38;5;45mNone\u001b[0m, \u001b[38;5;34m100\u001b[0m)            │              \u001b[38;5;34m0\u001b[0m │ embedding_6[\u001b[38;5;34m0\u001b[0m][\u001b[38;5;34m0\u001b[0m]      │\n",
              "├───────────────────────────┼────────────────────────┼────────────────┼────────────────────────┤\n",
              "│ flatten_7 (\u001b[38;5;33mFlatten\u001b[0m)       │ (\u001b[38;5;45mNone\u001b[0m, \u001b[38;5;34m100\u001b[0m)            │              \u001b[38;5;34m0\u001b[0m │ embedding_7[\u001b[38;5;34m0\u001b[0m][\u001b[38;5;34m0\u001b[0m]      │\n",
              "├───────────────────────────┼────────────────────────┼────────────────┼────────────────────────┤\n",
              "│ input_layer_11            │ (\u001b[38;5;45mNone\u001b[0m, \u001b[38;5;34m20\u001b[0m)             │              \u001b[38;5;34m0\u001b[0m │ -                      │\n",
              "│ (\u001b[38;5;33mInputLayer\u001b[0m)              │                        │                │                        │\n",
              "├───────────────────────────┼────────────────────────┼────────────────┼────────────────────────┤\n",
              "│ concatenate_3             │ (\u001b[38;5;45mNone\u001b[0m, \u001b[38;5;34m220\u001b[0m)            │              \u001b[38;5;34m0\u001b[0m │ flatten_6[\u001b[38;5;34m0\u001b[0m][\u001b[38;5;34m0\u001b[0m],       │\n",
              "│ (\u001b[38;5;33mConcatenate\u001b[0m)             │                        │                │ flatten_7[\u001b[38;5;34m0\u001b[0m][\u001b[38;5;34m0\u001b[0m],       │\n",
              "│                           │                        │                │ input_layer_11[\u001b[38;5;34m0\u001b[0m][\u001b[38;5;34m0\u001b[0m]   │\n",
              "├───────────────────────────┼────────────────────────┼────────────────┼────────────────────────┤\n",
              "│ dense_6 (\u001b[38;5;33mDense\u001b[0m)           │ (\u001b[38;5;45mNone\u001b[0m, \u001b[38;5;34m128\u001b[0m)            │         \u001b[38;5;34m28,288\u001b[0m │ concatenate_3[\u001b[38;5;34m0\u001b[0m][\u001b[38;5;34m0\u001b[0m]    │\n",
              "├───────────────────────────┼────────────────────────┼────────────────┼────────────────────────┤\n",
              "│ dense_7 (\u001b[38;5;33mDense\u001b[0m)           │ (\u001b[38;5;45mNone\u001b[0m, \u001b[38;5;34m1\u001b[0m)              │            \u001b[38;5;34m129\u001b[0m │ dense_6[\u001b[38;5;34m0\u001b[0m][\u001b[38;5;34m0\u001b[0m]          │\n",
              "└───────────────────────────┴────────────────────────┴────────────────┴────────────────────────┘\n"
            ],
            "text/html": [
              "<pre style=\"white-space:pre;overflow-x:auto;line-height:normal;font-family:Menlo,'DejaVu Sans Mono',consolas,'Courier New',monospace\">┏━━━━━━━━━━━━━━━━━━━━━━━━━━━┳━━━━━━━━━━━━━━━━━━━━━━━━┳━━━━━━━━━━━━━━━━┳━━━━━━━━━━━━━━━━━━━━━━━━┓\n",
              "┃<span style=\"font-weight: bold\"> Layer (type)              </span>┃<span style=\"font-weight: bold\"> Output Shape           </span>┃<span style=\"font-weight: bold\">        Param # </span>┃<span style=\"font-weight: bold\"> Connected to           </span>┃\n",
              "┡━━━━━━━━━━━━━━━━━━━━━━━━━━━╇━━━━━━━━━━━━━━━━━━━━━━━━╇━━━━━━━━━━━━━━━━╇━━━━━━━━━━━━━━━━━━━━━━━━┩\n",
              "│ input_layer_9             │ (<span style=\"color: #00d7ff; text-decoration-color: #00d7ff\">None</span>, <span style=\"color: #00af00; text-decoration-color: #00af00\">1</span>)              │              <span style=\"color: #00af00; text-decoration-color: #00af00\">0</span> │ -                      │\n",
              "│ (<span style=\"color: #0087ff; text-decoration-color: #0087ff\">InputLayer</span>)              │                        │                │                        │\n",
              "├───────────────────────────┼────────────────────────┼────────────────┼────────────────────────┤\n",
              "│ input_layer_10            │ (<span style=\"color: #00d7ff; text-decoration-color: #00d7ff\">None</span>, <span style=\"color: #00af00; text-decoration-color: #00af00\">1</span>)              │              <span style=\"color: #00af00; text-decoration-color: #00af00\">0</span> │ -                      │\n",
              "│ (<span style=\"color: #0087ff; text-decoration-color: #0087ff\">InputLayer</span>)              │                        │                │                        │\n",
              "├───────────────────────────┼────────────────────────┼────────────────┼────────────────────────┤\n",
              "│ embedding_6 (<span style=\"color: #0087ff; text-decoration-color: #0087ff\">Embedding</span>)   │ (<span style=\"color: #00d7ff; text-decoration-color: #00d7ff\">None</span>, <span style=\"color: #00af00; text-decoration-color: #00af00\">1</span>, <span style=\"color: #00af00; text-decoration-color: #00af00\">100</span>)         │        <span style=\"color: #00af00; text-decoration-color: #00af00\">604,000</span> │ input_layer_9[<span style=\"color: #00af00; text-decoration-color: #00af00\">0</span>][<span style=\"color: #00af00; text-decoration-color: #00af00\">0</span>]    │\n",
              "├───────────────────────────┼────────────────────────┼────────────────┼────────────────────────┤\n",
              "│ embedding_7 (<span style=\"color: #0087ff; text-decoration-color: #0087ff\">Embedding</span>)   │ (<span style=\"color: #00d7ff; text-decoration-color: #00d7ff\">None</span>, <span style=\"color: #00af00; text-decoration-color: #00af00\">1</span>, <span style=\"color: #00af00; text-decoration-color: #00af00\">100</span>)         │        <span style=\"color: #00af00; text-decoration-color: #00af00\">370,600</span> │ input_layer_10[<span style=\"color: #00af00; text-decoration-color: #00af00\">0</span>][<span style=\"color: #00af00; text-decoration-color: #00af00\">0</span>]   │\n",
              "├───────────────────────────┼────────────────────────┼────────────────┼────────────────────────┤\n",
              "│ flatten_6 (<span style=\"color: #0087ff; text-decoration-color: #0087ff\">Flatten</span>)       │ (<span style=\"color: #00d7ff; text-decoration-color: #00d7ff\">None</span>, <span style=\"color: #00af00; text-decoration-color: #00af00\">100</span>)            │              <span style=\"color: #00af00; text-decoration-color: #00af00\">0</span> │ embedding_6[<span style=\"color: #00af00; text-decoration-color: #00af00\">0</span>][<span style=\"color: #00af00; text-decoration-color: #00af00\">0</span>]      │\n",
              "├───────────────────────────┼────────────────────────┼────────────────┼────────────────────────┤\n",
              "│ flatten_7 (<span style=\"color: #0087ff; text-decoration-color: #0087ff\">Flatten</span>)       │ (<span style=\"color: #00d7ff; text-decoration-color: #00d7ff\">None</span>, <span style=\"color: #00af00; text-decoration-color: #00af00\">100</span>)            │              <span style=\"color: #00af00; text-decoration-color: #00af00\">0</span> │ embedding_7[<span style=\"color: #00af00; text-decoration-color: #00af00\">0</span>][<span style=\"color: #00af00; text-decoration-color: #00af00\">0</span>]      │\n",
              "├───────────────────────────┼────────────────────────┼────────────────┼────────────────────────┤\n",
              "│ input_layer_11            │ (<span style=\"color: #00d7ff; text-decoration-color: #00d7ff\">None</span>, <span style=\"color: #00af00; text-decoration-color: #00af00\">20</span>)             │              <span style=\"color: #00af00; text-decoration-color: #00af00\">0</span> │ -                      │\n",
              "│ (<span style=\"color: #0087ff; text-decoration-color: #0087ff\">InputLayer</span>)              │                        │                │                        │\n",
              "├───────────────────────────┼────────────────────────┼────────────────┼────────────────────────┤\n",
              "│ concatenate_3             │ (<span style=\"color: #00d7ff; text-decoration-color: #00d7ff\">None</span>, <span style=\"color: #00af00; text-decoration-color: #00af00\">220</span>)            │              <span style=\"color: #00af00; text-decoration-color: #00af00\">0</span> │ flatten_6[<span style=\"color: #00af00; text-decoration-color: #00af00\">0</span>][<span style=\"color: #00af00; text-decoration-color: #00af00\">0</span>],       │\n",
              "│ (<span style=\"color: #0087ff; text-decoration-color: #0087ff\">Concatenate</span>)             │                        │                │ flatten_7[<span style=\"color: #00af00; text-decoration-color: #00af00\">0</span>][<span style=\"color: #00af00; text-decoration-color: #00af00\">0</span>],       │\n",
              "│                           │                        │                │ input_layer_11[<span style=\"color: #00af00; text-decoration-color: #00af00\">0</span>][<span style=\"color: #00af00; text-decoration-color: #00af00\">0</span>]   │\n",
              "├───────────────────────────┼────────────────────────┼────────────────┼────────────────────────┤\n",
              "│ dense_6 (<span style=\"color: #0087ff; text-decoration-color: #0087ff\">Dense</span>)           │ (<span style=\"color: #00d7ff; text-decoration-color: #00d7ff\">None</span>, <span style=\"color: #00af00; text-decoration-color: #00af00\">128</span>)            │         <span style=\"color: #00af00; text-decoration-color: #00af00\">28,288</span> │ concatenate_3[<span style=\"color: #00af00; text-decoration-color: #00af00\">0</span>][<span style=\"color: #00af00; text-decoration-color: #00af00\">0</span>]    │\n",
              "├───────────────────────────┼────────────────────────┼────────────────┼────────────────────────┤\n",
              "│ dense_7 (<span style=\"color: #0087ff; text-decoration-color: #0087ff\">Dense</span>)           │ (<span style=\"color: #00d7ff; text-decoration-color: #00d7ff\">None</span>, <span style=\"color: #00af00; text-decoration-color: #00af00\">1</span>)              │            <span style=\"color: #00af00; text-decoration-color: #00af00\">129</span> │ dense_6[<span style=\"color: #00af00; text-decoration-color: #00af00\">0</span>][<span style=\"color: #00af00; text-decoration-color: #00af00\">0</span>]          │\n",
              "└───────────────────────────┴────────────────────────┴────────────────┴────────────────────────┘\n",
              "</pre>\n"
            ]
          },
          "metadata": {}
        },
        {
          "output_type": "display_data",
          "data": {
            "text/plain": [
              "\u001b[1m Total params: \u001b[0m\u001b[38;5;34m1,003,017\u001b[0m (3.83 MB)\n"
            ],
            "text/html": [
              "<pre style=\"white-space:pre;overflow-x:auto;line-height:normal;font-family:Menlo,'DejaVu Sans Mono',consolas,'Courier New',monospace\"><span style=\"font-weight: bold\"> Total params: </span><span style=\"color: #00af00; text-decoration-color: #00af00\">1,003,017</span> (3.83 MB)\n",
              "</pre>\n"
            ]
          },
          "metadata": {}
        },
        {
          "output_type": "display_data",
          "data": {
            "text/plain": [
              "\u001b[1m Trainable params: \u001b[0m\u001b[38;5;34m1,003,017\u001b[0m (3.83 MB)\n"
            ],
            "text/html": [
              "<pre style=\"white-space:pre;overflow-x:auto;line-height:normal;font-family:Menlo,'DejaVu Sans Mono',consolas,'Courier New',monospace\"><span style=\"font-weight: bold\"> Trainable params: </span><span style=\"color: #00af00; text-decoration-color: #00af00\">1,003,017</span> (3.83 MB)\n",
              "</pre>\n"
            ]
          },
          "metadata": {}
        },
        {
          "output_type": "display_data",
          "data": {
            "text/plain": [
              "\u001b[1m Non-trainable params: \u001b[0m\u001b[38;5;34m0\u001b[0m (0.00 B)\n"
            ],
            "text/html": [
              "<pre style=\"white-space:pre;overflow-x:auto;line-height:normal;font-family:Menlo,'DejaVu Sans Mono',consolas,'Courier New',monospace\"><span style=\"font-weight: bold\"> Non-trainable params: </span><span style=\"color: #00af00; text-decoration-color: #00af00\">0</span> (0.00 B)\n",
              "</pre>\n"
            ]
          },
          "metadata": {}
        },
        {
          "output_type": "stream",
          "name": "stdout",
          "text": [
            "None\n"
          ]
        }
      ]
    },
    {
      "cell_type": "code",
      "source": [
        "svg4 = SVG(model_to_dot(model4, show_shapes=True, show_layer_names=True, rankdir='HB', dpi=70).create(prog='dot', format='svg'))\n",
        "display(svg4)"
      ],
      "metadata": {
        "colab": {
          "base_uri": "https://localhost:8080/",
          "height": 938
        },
        "id": "RnnoiO9Gej6W",
        "outputId": "ecff34c2-947e-44ac-c830-359e158db134"
      },
      "execution_count": null,
      "outputs": [
        {
          "output_type": "display_data",
          "data": {
            "text/plain": [
              "<IPython.core.display.SVG object>"
            ],
            "image/svg+xml": "<svg xmlns=\"http://www.w3.org/2000/svg\" xmlns:xlink=\"http://www.w3.org/1999/xlink\" width=\"1009pt\" height=\"673pt\" viewBox=\"0.00 0.00 1037.50 692.00\">\n<g id=\"graph0\" class=\"graph\" transform=\"scale(0.97 0.97) rotate(0) translate(4 688)\">\n<title>G</title>\n<polygon fill=\"white\" stroke=\"transparent\" points=\"-4,4 -4,-688 1033.5,-688 1033.5,4 -4,4\"/>\n<!-- 134497096170704 -->\n<g id=\"node1\" class=\"node\">\n<title>134497096170704</title>\n<polygon fill=\"none\" stroke=\"black\" points=\"78,-600.5 78,-683.5 302,-683.5 302,-600.5 78,-600.5\"/>\n<polygon fill=\"black\" stroke=\"transparent\" points=\"78,-600.5 78,-683.5 302,-683.5 302,-600.5 78,-600.5\"/>\n<polygon fill=\"black\" stroke=\"transparent\" points=\"80,-641 80,-681 300,-681 300,-641 80,-641\"/>\n<polygon fill=\"none\" stroke=\"black\" points=\"80,-641 80,-681 300,-681 300,-641 80,-641\"/>\n<text text-anchor=\"start\" x=\"92\" y=\"-658.2\" font-family=\"Helvetica,sans-Serif\" font-weight=\"bold\" font-size=\"16.00\" fill=\"white\">input_layer_9</text>\n<text text-anchor=\"start\" x=\"196\" y=\"-658.2\" font-family=\"Helvetica,sans-Serif\" font-size=\"16.00\" fill=\"white\"> (InputLayer)</text>\n<polygon fill=\"white\" stroke=\"transparent\" points=\"80,-602 80,-639 274,-639 274,-602 80,-602\"/>\n<polygon fill=\"none\" stroke=\"black\" points=\"80,-602 80,-639 274,-639 274,-602 80,-602\"/>\n<text text-anchor=\"start\" x=\"103\" y=\"-617.8\" font-family=\"Helvetica,sans-Serif\" font-size=\"14.00\">Output shape: </text>\n<text text-anchor=\"start\" x=\"193\" y=\"-617.8\" font-family=\"Helvetica,sans-Serif\" font-weight=\"bold\" font-size=\"14.00\">(None, 1)</text>\n</g>\n<!-- 134497096168496 -->\n<g id=\"node3\" class=\"node\">\n<title>134497096168496</title>\n<polygon fill=\"none\" stroke=\"black\" points=\"7.5,-480.5 7.5,-563.5 372.5,-563.5 372.5,-480.5 7.5,-480.5\"/>\n<polygon fill=\"black\" stroke=\"transparent\" points=\"7.5,-480.5 7.5,-563.5 372.5,-563.5 372.5,-480.5 7.5,-480.5\"/>\n<polygon fill=\"black\" stroke=\"transparent\" points=\"10,-521 10,-561 371,-561 371,-521 10,-521\"/>\n<polygon fill=\"none\" stroke=\"black\" points=\"10,-521 10,-561 371,-561 371,-521 10,-521\"/>\n<text text-anchor=\"start\" x=\"90\" y=\"-538.2\" font-family=\"Helvetica,sans-Serif\" font-weight=\"bold\" font-size=\"16.00\" fill=\"white\">embedding_6</text>\n<text text-anchor=\"start\" x=\"194\" y=\"-538.2\" font-family=\"Helvetica,sans-Serif\" font-size=\"16.00\" fill=\"white\"> (Embedding)</text>\n<polygon fill=\"white\" stroke=\"transparent\" points=\"10,-482 10,-519 169,-519 169,-482 10,-482\"/>\n<polygon fill=\"none\" stroke=\"black\" points=\"10,-482 10,-519 169,-519 169,-482 10,-482\"/>\n<text text-anchor=\"start\" x=\"21\" y=\"-497.8\" font-family=\"Helvetica,sans-Serif\" font-size=\"14.00\">Input shape: </text>\n<text text-anchor=\"start\" x=\"100\" y=\"-497.8\" font-family=\"Helvetica,sans-Serif\" font-weight=\"bold\" font-size=\"14.00\">(None, 1)</text>\n<polygon fill=\"white\" stroke=\"transparent\" points=\"171,-482 171,-519 371,-519 371,-482 171,-482\"/>\n<polygon fill=\"none\" stroke=\"black\" points=\"171,-482 171,-519 371,-519 371,-482 171,-482\"/>\n<text text-anchor=\"start\" x=\"182\" y=\"-497.8\" font-family=\"Helvetica,sans-Serif\" font-size=\"14.00\">Output shape: </text>\n<text text-anchor=\"start\" x=\"272\" y=\"-497.8\" font-family=\"Helvetica,sans-Serif\" font-weight=\"bold\" font-size=\"14.00\">(None, 1, 100)</text>\n</g>\n<!-- 134497096170704&#45;&gt;134497096168496 -->\n<g id=\"edge1\" class=\"edge\">\n<title>134497096170704-&gt;134497096168496</title>\n<path fill=\"none\" stroke=\"black\" stroke-width=\"2\" d=\"M190,-600.37C190,-600.37 190,-573.56 190,-573.56\"/>\n<polygon fill=\"black\" stroke=\"black\" stroke-width=\"2\" points=\"193.5,-573.56 190,-563.56 186.5,-573.56 193.5,-573.56\"/>\n</g>\n<!-- 134497096166000 -->\n<g id=\"node2\" class=\"node\">\n<title>134497096166000</title>\n<polygon fill=\"none\" stroke=\"black\" points=\"471.5,-600.5 471.5,-683.5 704.5,-683.5 704.5,-600.5 471.5,-600.5\"/>\n<polygon fill=\"black\" stroke=\"transparent\" points=\"471.5,-600.5 471.5,-683.5 704.5,-683.5 704.5,-600.5 471.5,-600.5\"/>\n<polygon fill=\"black\" stroke=\"transparent\" points=\"474,-641 474,-681 703,-681 703,-641 474,-641\"/>\n<polygon fill=\"none\" stroke=\"black\" points=\"474,-641 474,-681 703,-681 703,-641 474,-641\"/>\n<text text-anchor=\"start\" x=\"486\" y=\"-658.2\" font-family=\"Helvetica,sans-Serif\" font-weight=\"bold\" font-size=\"16.00\" fill=\"white\">input_layer_10</text>\n<text text-anchor=\"start\" x=\"599\" y=\"-658.2\" font-family=\"Helvetica,sans-Serif\" font-size=\"16.00\" fill=\"white\"> (InputLayer)</text>\n<polygon fill=\"white\" stroke=\"transparent\" points=\"474,-602 474,-639 672,-639 672,-602 474,-602\"/>\n<polygon fill=\"none\" stroke=\"black\" points=\"474,-602 474,-639 672,-639 672,-602 474,-602\"/>\n<text text-anchor=\"start\" x=\"499\" y=\"-617.8\" font-family=\"Helvetica,sans-Serif\" font-size=\"14.00\">Output shape: </text>\n<text text-anchor=\"start\" x=\"589\" y=\"-617.8\" font-family=\"Helvetica,sans-Serif\" font-weight=\"bold\" font-size=\"14.00\">(None, 1)</text>\n</g>\n<!-- 134497096165472 -->\n<g id=\"node4\" class=\"node\">\n<title>134497096165472</title>\n<polygon fill=\"none\" stroke=\"black\" points=\"405.5,-480.5 405.5,-563.5 770.5,-563.5 770.5,-480.5 405.5,-480.5\"/>\n<polygon fill=\"black\" stroke=\"transparent\" points=\"405.5,-480.5 405.5,-563.5 770.5,-563.5 770.5,-480.5 405.5,-480.5\"/>\n<polygon fill=\"black\" stroke=\"transparent\" points=\"408,-521 408,-561 769,-561 769,-521 408,-521\"/>\n<polygon fill=\"none\" stroke=\"black\" points=\"408,-521 408,-561 769,-561 769,-521 408,-521\"/>\n<text text-anchor=\"start\" x=\"488\" y=\"-538.2\" font-family=\"Helvetica,sans-Serif\" font-weight=\"bold\" font-size=\"16.00\" fill=\"white\">embedding_7</text>\n<text text-anchor=\"start\" x=\"592\" y=\"-538.2\" font-family=\"Helvetica,sans-Serif\" font-size=\"16.00\" fill=\"white\"> (Embedding)</text>\n<polygon fill=\"white\" stroke=\"transparent\" points=\"408,-482 408,-519 567,-519 567,-482 408,-482\"/>\n<polygon fill=\"none\" stroke=\"black\" points=\"408,-482 408,-519 567,-519 567,-482 408,-482\"/>\n<text text-anchor=\"start\" x=\"419\" y=\"-497.8\" font-family=\"Helvetica,sans-Serif\" font-size=\"14.00\">Input shape: </text>\n<text text-anchor=\"start\" x=\"498\" y=\"-497.8\" font-family=\"Helvetica,sans-Serif\" font-weight=\"bold\" font-size=\"14.00\">(None, 1)</text>\n<polygon fill=\"white\" stroke=\"transparent\" points=\"569,-482 569,-519 769,-519 769,-482 569,-482\"/>\n<polygon fill=\"none\" stroke=\"black\" points=\"569,-482 569,-519 769,-519 769,-482 569,-482\"/>\n<text text-anchor=\"start\" x=\"580\" y=\"-497.8\" font-family=\"Helvetica,sans-Serif\" font-size=\"14.00\">Output shape: </text>\n<text text-anchor=\"start\" x=\"670\" y=\"-497.8\" font-family=\"Helvetica,sans-Serif\" font-weight=\"bold\" font-size=\"14.00\">(None, 1, 100)</text>\n</g>\n<!-- 134497096166000&#45;&gt;134497096165472 -->\n<g id=\"edge2\" class=\"edge\">\n<title>134497096166000-&gt;134497096165472</title>\n<path fill=\"none\" stroke=\"black\" stroke-width=\"2\" d=\"M588,-600.37C588,-600.37 588,-573.56 588,-573.56\"/>\n<polygon fill=\"black\" stroke=\"black\" stroke-width=\"2\" points=\"591.5,-573.56 588,-563.56 584.5,-573.56 591.5,-573.56\"/>\n</g>\n<!-- 134497096167824 -->\n<g id=\"node5\" class=\"node\">\n<title>134497096167824</title>\n<polygon fill=\"none\" stroke=\"black\" points=\"0,-360.5 0,-443.5 380,-443.5 380,-360.5 0,-360.5\"/>\n<polygon fill=\"black\" stroke=\"transparent\" points=\"0,-360.5 0,-443.5 380,-443.5 380,-360.5 0,-360.5\"/>\n<polygon fill=\"black\" stroke=\"transparent\" points=\"2,-401 2,-441 378,-441 378,-401 2,-401\"/>\n<polygon fill=\"none\" stroke=\"black\" points=\"2,-401 2,-441 378,-441 378,-401 2,-401\"/>\n<text text-anchor=\"start\" x=\"124\" y=\"-418.2\" font-family=\"Helvetica,sans-Serif\" font-weight=\"bold\" font-size=\"16.00\" fill=\"white\">flatten_6</text>\n<text text-anchor=\"start\" x=\"191\" y=\"-418.2\" font-family=\"Helvetica,sans-Serif\" font-size=\"16.00\" fill=\"white\"> (Flatten)</text>\n<polygon fill=\"white\" stroke=\"transparent\" points=\"2,-362 2,-399 191,-399 191,-362 2,-362\"/>\n<polygon fill=\"none\" stroke=\"black\" points=\"2,-362 2,-399 191,-399 191,-362 2,-362\"/>\n<text text-anchor=\"start\" x=\"13\" y=\"-377.8\" font-family=\"Helvetica,sans-Serif\" font-size=\"14.00\">Input shape: </text>\n<text text-anchor=\"start\" x=\"92\" y=\"-377.8\" font-family=\"Helvetica,sans-Serif\" font-weight=\"bold\" font-size=\"14.00\">(None, 1, 100)</text>\n<polygon fill=\"white\" stroke=\"transparent\" points=\"193,-362 193,-399 378,-399 378,-362 193,-362\"/>\n<polygon fill=\"none\" stroke=\"black\" points=\"193,-362 193,-399 378,-399 378,-362 193,-362\"/>\n<text text-anchor=\"start\" x=\"204\" y=\"-377.8\" font-family=\"Helvetica,sans-Serif\" font-size=\"14.00\">Output shape: </text>\n<text text-anchor=\"start\" x=\"294\" y=\"-377.8\" font-family=\"Helvetica,sans-Serif\" font-weight=\"bold\" font-size=\"14.00\">(None, 100)</text>\n</g>\n<!-- 134497096168496&#45;&gt;134497096167824 -->\n<g id=\"edge3\" class=\"edge\">\n<title>134497096168496-&gt;134497096167824</title>\n<path fill=\"none\" stroke=\"black\" stroke-width=\"2\" d=\"M190,-480.37C190,-480.37 190,-453.56 190,-453.56\"/>\n<polygon fill=\"black\" stroke=\"black\" stroke-width=\"2\" points=\"193.5,-453.56 190,-443.56 186.5,-453.56 193.5,-453.56\"/>\n</g>\n<!-- 134497096164704 -->\n<g id=\"node6\" class=\"node\">\n<title>134497096164704</title>\n<polygon fill=\"none\" stroke=\"black\" points=\"398,-360.5 398,-443.5 778,-443.5 778,-360.5 398,-360.5\"/>\n<polygon fill=\"black\" stroke=\"transparent\" points=\"398,-360.5 398,-443.5 778,-443.5 778,-360.5 398,-360.5\"/>\n<polygon fill=\"black\" stroke=\"transparent\" points=\"400,-401 400,-441 776,-441 776,-401 400,-401\"/>\n<polygon fill=\"none\" stroke=\"black\" points=\"400,-401 400,-441 776,-441 776,-401 400,-401\"/>\n<text text-anchor=\"start\" x=\"522\" y=\"-418.2\" font-family=\"Helvetica,sans-Serif\" font-weight=\"bold\" font-size=\"16.00\" fill=\"white\">flatten_7</text>\n<text text-anchor=\"start\" x=\"589\" y=\"-418.2\" font-family=\"Helvetica,sans-Serif\" font-size=\"16.00\" fill=\"white\"> (Flatten)</text>\n<polygon fill=\"white\" stroke=\"transparent\" points=\"400,-362 400,-399 589,-399 589,-362 400,-362\"/>\n<polygon fill=\"none\" stroke=\"black\" points=\"400,-362 400,-399 589,-399 589,-362 400,-362\"/>\n<text text-anchor=\"start\" x=\"411\" y=\"-377.8\" font-family=\"Helvetica,sans-Serif\" font-size=\"14.00\">Input shape: </text>\n<text text-anchor=\"start\" x=\"490\" y=\"-377.8\" font-family=\"Helvetica,sans-Serif\" font-weight=\"bold\" font-size=\"14.00\">(None, 1, 100)</text>\n<polygon fill=\"white\" stroke=\"transparent\" points=\"591,-362 591,-399 776,-399 776,-362 591,-362\"/>\n<polygon fill=\"none\" stroke=\"black\" points=\"591,-362 591,-399 776,-399 776,-362 591,-362\"/>\n<text text-anchor=\"start\" x=\"602\" y=\"-377.8\" font-family=\"Helvetica,sans-Serif\" font-size=\"14.00\">Output shape: </text>\n<text text-anchor=\"start\" x=\"692\" y=\"-377.8\" font-family=\"Helvetica,sans-Serif\" font-weight=\"bold\" font-size=\"14.00\">(None, 100)</text>\n</g>\n<!-- 134497096165472&#45;&gt;134497096164704 -->\n<g id=\"edge4\" class=\"edge\">\n<title>134497096165472-&gt;134497096164704</title>\n<path fill=\"none\" stroke=\"black\" stroke-width=\"2\" d=\"M588,-480.37C588,-480.37 588,-453.56 588,-453.56\"/>\n<polygon fill=\"black\" stroke=\"black\" stroke-width=\"2\" points=\"591.5,-453.56 588,-443.56 584.5,-453.56 591.5,-453.56\"/>\n</g>\n<!-- 134497216281712 -->\n<g id=\"node8\" class=\"node\">\n<title>134497216281712</title>\n<polygon fill=\"none\" stroke=\"black\" points=\"324.5,-240.5 324.5,-323.5 851.5,-323.5 851.5,-240.5 324.5,-240.5\"/>\n<polygon fill=\"black\" stroke=\"transparent\" points=\"324.5,-240.5 324.5,-323.5 851.5,-323.5 851.5,-240.5 324.5,-240.5\"/>\n<polygon fill=\"black\" stroke=\"transparent\" points=\"327,-281 327,-321 850,-321 850,-281 327,-281\"/>\n<polygon fill=\"none\" stroke=\"black\" points=\"327,-281 327,-321 850,-321 850,-281 327,-281\"/>\n<text text-anchor=\"start\" x=\"479\" y=\"-298.2\" font-family=\"Helvetica,sans-Serif\" font-weight=\"bold\" font-size=\"16.00\" fill=\"white\">concatenate_3</text>\n<text text-anchor=\"start\" x=\"591\" y=\"-298.2\" font-family=\"Helvetica,sans-Serif\" font-size=\"16.00\" fill=\"white\"> (Concatenate)</text>\n<polygon fill=\"white\" stroke=\"transparent\" points=\"327,-242 327,-279 663,-279 663,-242 327,-242\"/>\n<polygon fill=\"none\" stroke=\"black\" points=\"327,-242 327,-279 663,-279 663,-242 327,-242\"/>\n<text text-anchor=\"start\" x=\"338\" y=\"-257.8\" font-family=\"Helvetica,sans-Serif\" font-size=\"14.00\">Input shape: </text>\n<text text-anchor=\"start\" x=\"417\" y=\"-257.8\" font-family=\"Helvetica,sans-Serif\" font-weight=\"bold\" font-size=\"14.00\">[(None, 100), (None, 100), (None, 20)]</text>\n<polygon fill=\"white\" stroke=\"transparent\" points=\"665,-242 665,-279 850,-279 850,-242 665,-242\"/>\n<polygon fill=\"none\" stroke=\"black\" points=\"665,-242 665,-279 850,-279 850,-242 665,-242\"/>\n<text text-anchor=\"start\" x=\"676\" y=\"-257.8\" font-family=\"Helvetica,sans-Serif\" font-size=\"14.00\">Output shape: </text>\n<text text-anchor=\"start\" x=\"766\" y=\"-257.8\" font-family=\"Helvetica,sans-Serif\" font-weight=\"bold\" font-size=\"14.00\">(None, 220)</text>\n</g>\n<!-- 134497096167824&#45;&gt;134497216281712 -->\n<g id=\"edge5\" class=\"edge\">\n<title>134497096167824-&gt;134497216281712</title>\n<path fill=\"none\" stroke=\"black\" stroke-width=\"2\" d=\"M352.25,-360.37C352.25,-360.37 352.25,-333.56 352.25,-333.56\"/>\n<polygon fill=\"black\" stroke=\"black\" stroke-width=\"2\" points=\"355.75,-333.56 352.25,-323.56 348.75,-333.56 355.75,-333.56\"/>\n</g>\n<!-- 134497096164704&#45;&gt;134497216281712 -->\n<g id=\"edge6\" class=\"edge\">\n<title>134497096164704-&gt;134497216281712</title>\n<path fill=\"none\" stroke=\"black\" stroke-width=\"2\" d=\"M588,-360.37C588,-360.37 588,-333.56 588,-333.56\"/>\n<polygon fill=\"black\" stroke=\"black\" stroke-width=\"2\" points=\"591.5,-333.56 588,-323.56 584.5,-333.56 591.5,-333.56\"/>\n</g>\n<!-- 134497216270912 -->\n<g id=\"node7\" class=\"node\">\n<title>134497216270912</title>\n<polygon fill=\"none\" stroke=\"black\" points=\"796.5,-360.5 796.5,-443.5 1029.5,-443.5 1029.5,-360.5 796.5,-360.5\"/>\n<polygon fill=\"black\" stroke=\"transparent\" points=\"796.5,-360.5 796.5,-443.5 1029.5,-443.5 1029.5,-360.5 796.5,-360.5\"/>\n<polygon fill=\"black\" stroke=\"transparent\" points=\"799,-401 799,-441 1028,-441 1028,-401 799,-401\"/>\n<polygon fill=\"none\" stroke=\"black\" points=\"799,-401 799,-441 1028,-441 1028,-401 799,-401\"/>\n<text text-anchor=\"start\" x=\"811\" y=\"-418.2\" font-family=\"Helvetica,sans-Serif\" font-weight=\"bold\" font-size=\"16.00\" fill=\"white\">input_layer_11</text>\n<text text-anchor=\"start\" x=\"924\" y=\"-418.2\" font-family=\"Helvetica,sans-Serif\" font-size=\"16.00\" fill=\"white\"> (InputLayer)</text>\n<polygon fill=\"white\" stroke=\"transparent\" points=\"799,-362 799,-399 1001,-399 1001,-362 799,-362\"/>\n<polygon fill=\"none\" stroke=\"black\" points=\"799,-362 799,-399 1001,-399 1001,-362 799,-362\"/>\n<text text-anchor=\"start\" x=\"822\" y=\"-377.8\" font-family=\"Helvetica,sans-Serif\" font-size=\"14.00\">Output shape: </text>\n<text text-anchor=\"start\" x=\"912\" y=\"-377.8\" font-family=\"Helvetica,sans-Serif\" font-weight=\"bold\" font-size=\"14.00\">(None, 20)</text>\n</g>\n<!-- 134497216270912&#45;&gt;134497216281712 -->\n<g id=\"edge7\" class=\"edge\">\n<title>134497216270912-&gt;134497216281712</title>\n<path fill=\"none\" stroke=\"black\" stroke-width=\"2\" d=\"M824,-360.37C824,-360.37 824,-333.56 824,-333.56\"/>\n<polygon fill=\"black\" stroke=\"black\" stroke-width=\"2\" points=\"827.5,-333.56 824,-323.56 820.5,-333.56 827.5,-333.56\"/>\n</g>\n<!-- 134497216278880 -->\n<g id=\"node9\" class=\"node\">\n<title>134497216278880</title>\n<polygon fill=\"none\" stroke=\"black\" points=\"405.5,-120.5 405.5,-203.5 770.5,-203.5 770.5,-120.5 405.5,-120.5\"/>\n<polygon fill=\"black\" stroke=\"transparent\" points=\"405.5,-120.5 405.5,-203.5 770.5,-203.5 770.5,-120.5 405.5,-120.5\"/>\n<polygon fill=\"black\" stroke=\"transparent\" points=\"408,-161 408,-201 769,-201 769,-161 408,-161\"/>\n<polygon fill=\"none\" stroke=\"black\" points=\"408,-161 408,-201 769,-201 769,-161 408,-161\"/>\n<text text-anchor=\"start\" x=\"525\" y=\"-178.2\" font-family=\"Helvetica,sans-Serif\" font-weight=\"bold\" font-size=\"16.00\" fill=\"white\">dense_6</text>\n<text text-anchor=\"start\" x=\"590\" y=\"-178.2\" font-family=\"Helvetica,sans-Serif\" font-size=\"16.00\" fill=\"white\"> (Dense)</text>\n<polygon fill=\"white\" stroke=\"transparent\" points=\"408,-122 408,-159 582,-159 582,-122 408,-122\"/>\n<polygon fill=\"none\" stroke=\"black\" points=\"408,-122 408,-159 582,-159 582,-122 408,-122\"/>\n<text text-anchor=\"start\" x=\"419\" y=\"-137.8\" font-family=\"Helvetica,sans-Serif\" font-size=\"14.00\">Input shape: </text>\n<text text-anchor=\"start\" x=\"498\" y=\"-137.8\" font-family=\"Helvetica,sans-Serif\" font-weight=\"bold\" font-size=\"14.00\">(None, 220)</text>\n<polygon fill=\"white\" stroke=\"transparent\" points=\"584,-122 584,-159 769,-159 769,-122 584,-122\"/>\n<polygon fill=\"none\" stroke=\"black\" points=\"584,-122 584,-159 769,-159 769,-122 584,-122\"/>\n<text text-anchor=\"start\" x=\"595\" y=\"-137.8\" font-family=\"Helvetica,sans-Serif\" font-size=\"14.00\">Output shape: </text>\n<text text-anchor=\"start\" x=\"685\" y=\"-137.8\" font-family=\"Helvetica,sans-Serif\" font-weight=\"bold\" font-size=\"14.00\">(None, 128)</text>\n</g>\n<!-- 134497216281712&#45;&gt;134497216278880 -->\n<g id=\"edge8\" class=\"edge\">\n<title>134497216281712-&gt;134497216278880</title>\n<path fill=\"none\" stroke=\"black\" stroke-width=\"2\" d=\"M588,-240.37C588,-240.37 588,-213.56 588,-213.56\"/>\n<polygon fill=\"black\" stroke=\"black\" stroke-width=\"2\" points=\"591.5,-213.56 588,-203.56 584.5,-213.56 591.5,-213.56\"/>\n</g>\n<!-- 134497095461920 -->\n<g id=\"node10\" class=\"node\">\n<title>134497095461920</title>\n<polygon fill=\"none\" stroke=\"black\" points=\"413,-0.5 413,-83.5 763,-83.5 763,-0.5 413,-0.5\"/>\n<polygon fill=\"black\" stroke=\"transparent\" points=\"413,-0.5 413,-83.5 763,-83.5 763,-0.5 413,-0.5\"/>\n<polygon fill=\"black\" stroke=\"transparent\" points=\"415,-41 415,-81 761,-81 761,-41 415,-41\"/>\n<polygon fill=\"none\" stroke=\"black\" points=\"415,-41 415,-81 761,-81 761,-41 415,-41\"/>\n<text text-anchor=\"start\" x=\"524.5\" y=\"-58.2\" font-family=\"Helvetica,sans-Serif\" font-weight=\"bold\" font-size=\"16.00\" fill=\"white\">dense_7</text>\n<text text-anchor=\"start\" x=\"589.5\" y=\"-58.2\" font-family=\"Helvetica,sans-Serif\" font-size=\"16.00\" fill=\"white\"> (Dense)</text>\n<polygon fill=\"white\" stroke=\"transparent\" points=\"415,-2 415,-39 589,-39 589,-2 415,-2\"/>\n<polygon fill=\"none\" stroke=\"black\" points=\"415,-2 415,-39 589,-39 589,-2 415,-2\"/>\n<text text-anchor=\"start\" x=\"426\" y=\"-17.8\" font-family=\"Helvetica,sans-Serif\" font-size=\"14.00\">Input shape: </text>\n<text text-anchor=\"start\" x=\"505\" y=\"-17.8\" font-family=\"Helvetica,sans-Serif\" font-weight=\"bold\" font-size=\"14.00\">(None, 128)</text>\n<polygon fill=\"white\" stroke=\"transparent\" points=\"591,-2 591,-39 761,-39 761,-2 591,-2\"/>\n<polygon fill=\"none\" stroke=\"black\" points=\"591,-2 591,-39 761,-39 761,-2 591,-2\"/>\n<text text-anchor=\"start\" x=\"602\" y=\"-17.8\" font-family=\"Helvetica,sans-Serif\" font-size=\"14.00\">Output shape: </text>\n<text text-anchor=\"start\" x=\"692\" y=\"-17.8\" font-family=\"Helvetica,sans-Serif\" font-weight=\"bold\" font-size=\"14.00\">(None, 1)</text>\n</g>\n<!-- 134497216278880&#45;&gt;134497095461920 -->\n<g id=\"edge9\" class=\"edge\">\n<title>134497216278880-&gt;134497095461920</title>\n<path fill=\"none\" stroke=\"black\" stroke-width=\"2\" d=\"M588,-120.37C588,-120.37 588,-93.56 588,-93.56\"/>\n<polygon fill=\"black\" stroke=\"black\" stroke-width=\"2\" points=\"591.5,-93.56 588,-83.56 584.5,-93.56 591.5,-93.56\"/>\n</g>\n</g>\n</svg>"
          },
          "metadata": {}
        }
      ]
    },
    {
      "cell_type": "code",
      "source": [
        "checkpoint4 = ModelCheckpoint('model4.h5.keras', monitor='val_loss', verbose=0, save_best_only=True)"
      ],
      "metadata": {
        "id": "wSiLzh7ZaFal"
      },
      "execution_count": null,
      "outputs": []
    },
    {
      "cell_type": "code",
      "source": [
        "X_train['userId']"
      ],
      "metadata": {
        "colab": {
          "base_uri": "https://localhost:8080/"
        },
        "id": "g1w0sAKAgwyW",
        "outputId": "37532bd8-45b6-4364-ee6d-9a00cfbb278d"
      },
      "execution_count": null,
      "outputs": [
        {
          "output_type": "execute_result",
          "data": {
            "text/plain": [
              "961865    5794\n",
              "801747    4801\n",
              "426626    2589\n",
              "552498    3400\n",
              "40971      274\n",
              "          ... \n",
              "769701    4584\n",
              "578153    3531\n",
              "105650     697\n",
              "850016    5103\n",
              "930492    5620\n",
              "Name: userId, Length: 900188, dtype: int64"
            ]
          },
          "metadata": {},
          "execution_count": 23
        }
      ]
    },
    {
      "cell_type": "code",
      "source": [
        "X_train['movieId']"
      ],
      "metadata": {
        "colab": {
          "base_uri": "https://localhost:8080/"
        },
        "id": "XKtbNwj2O8w5",
        "outputId": "bb1a5ad9-b2ef-40b9-e9a2-1a5b6096a179"
      },
      "execution_count": null,
      "outputs": [
        {
          "output_type": "execute_result",
          "data": {
            "text/plain": [
              "961865    3104\n",
              "801747    1296\n",
              "426626     356\n",
              "552498    2977\n",
              "40971      578\n",
              "          ... \n",
              "769701      41\n",
              "578153    1890\n",
              "105650    3081\n",
              "850016    1106\n",
              "930492    1111\n",
              "Name: movieId, Length: 900188, dtype: int64"
            ]
          },
          "metadata": {},
          "execution_count": 24
        }
      ]
    },
    {
      "cell_type": "code",
      "source": [
        "tfidf_matrix_train.toarray()"
      ],
      "metadata": {
        "colab": {
          "base_uri": "https://localhost:8080/"
        },
        "id": "OGWTpxgYPCP0",
        "outputId": "2bf169f7-71d2-413d-fa6c-fde86b199d03"
      },
      "execution_count": null,
      "outputs": [
        {
          "output_type": "execute_result",
          "data": {
            "text/plain": [
              "array([[0.        , 0.        , 0.        , ..., 0.        , 0.        ,\n",
              "        0.        ],\n",
              "       [0.        , 0.        , 0.        , ..., 0.        , 0.        ,\n",
              "        0.        ],\n",
              "       [0.        , 0.        , 0.        , ..., 0.        , 0.        ,\n",
              "        0.        ],\n",
              "       ...,\n",
              "       [0.        , 0.        , 0.        , ..., 0.        , 0.        ,\n",
              "        0.        ],\n",
              "       [0.33820368, 0.43199025, 0.        , ..., 0.        , 0.52810306,\n",
              "        0.        ],\n",
              "       [0.43503734, 0.        , 0.        , ..., 0.        , 0.        ,\n",
              "        0.90041241]])"
            ]
          },
          "metadata": {},
          "execution_count": 44
        }
      ]
    },
    {
      "cell_type": "code",
      "source": [
        "tfidf_matrix_train.toarray().shape"
      ],
      "metadata": {
        "colab": {
          "base_uri": "https://localhost:8080/"
        },
        "id": "6uoE4OWouwb9",
        "outputId": "d7667e46-3299-4b1c-c1dd-503f3ece1878"
      },
      "execution_count": null,
      "outputs": [
        {
          "output_type": "execute_result",
          "data": {
            "text/plain": [
              "(900188, 20)"
            ]
          },
          "metadata": {},
          "execution_count": 45
        }
      ]
    },
    {
      "cell_type": "code",
      "source": [
        "import matplotlib.pyplot as plt\n",
        "\n",
        "from tensorflow.keras.utils import plot_model\n",
        "from tensorflow.keras.models import Sequential\n",
        "from tensorflow.keras.layers import Dense\n",
        "# Afficher le modèle\n",
        "plt.figure(figsize=(15,15))\n",
        "plot_model(model4, to_file='model4.png', show_shapes=True, show_layer_names=True)\n",
        "img = plt.imread('model4.png')\n",
        "plt.imshow(img)\n",
        "plt.show()"
      ],
      "metadata": {
        "colab": {
          "base_uri": "https://localhost:8080/",
          "height": 814
        },
        "id": "2z1nphew0taX",
        "outputId": "ba48c50c-e2d6-4f82-a34f-b69245826f49"
      },
      "execution_count": null,
      "outputs": [
        {
          "output_type": "display_data",
          "data": {
            "text/plain": [
              "<Figure size 1500x1500 with 1 Axes>"
            ],
            "image/png": "[encoded data removed]"
          },
          "metadata": {}
        }
      ]
    },
    {
      "cell_type": "code",
      "source": [
        "history4 = model4.fit(\n",
        "    [X_train['userId'], X_train['movieId'], tfidf_matrix_train.toarray()],\n",
        "    y_train,\n",
        "    epochs=10,\n",
        "    validation_data=(\n",
        "        [X_val['userId'], X_val['movieId'], tfidf_matrix_val.toarray()],\n",
        "        y_val\n",
        "    ),\n",
        "    verbose=1,\n",
        "    callbacks=[checkpoint4]\n",
        ")\n"
      ],
      "metadata": {
        "colab": {
          "base_uri": "https://localhost:8080/"
        },
        "collapsed": true,
        "id": "6Vh-zXeAdvml",
        "outputId": "21504a7d-73ce-4fea-ecad-82399a9f338c"
      },
      "execution_count": null,
      "outputs": [
        {
          "output_type": "stream",
          "name": "stdout",
          "text": [
            "Epoch 1/10\n",
            "\u001b[1m28131/28131\u001b[0m \u001b[32m━━━━━━━━━━━━━━━━━━━━\u001b[0m\u001b[37m\u001b[0m \u001b[1m41s\u001b[0m 1ms/step - loss: 1.0846 - val_loss: 0.7956\n",
            "Epoch 2/10\n",
            "\u001b[1m28131/28131\u001b[0m \u001b[32m━━━━━━━━━━━━━━━━━━━━\u001b[0m\u001b[37m\u001b[0m \u001b[1m38s\u001b[0m 1ms/step - loss: 0.7745 - val_loss: 0.7610\n",
            "Epoch 3/10\n",
            "\u001b[1m28131/28131\u001b[0m \u001b[32m━━━━━━━━━━━━━━━━━━━━\u001b[0m\u001b[37m\u001b[0m \u001b[1m38s\u001b[0m 1ms/step - loss: 0.7249 - val_loss: 0.7464\n",
            "Epoch 4/10\n",
            "\u001b[1m28131/28131\u001b[0m \u001b[32m━━━━━━━━━━━━━━━━━━━━\u001b[0m\u001b[37m\u001b[0m \u001b[1m38s\u001b[0m 1ms/step - loss: 0.6919 - val_loss: 0.7396\n",
            "Epoch 5/10\n",
            "\u001b[1m28131/28131\u001b[0m \u001b[32m━━━━━━━━━━━━━━━━━━━━\u001b[0m\u001b[37m\u001b[0m \u001b[1m38s\u001b[0m 1ms/step - loss: 0.6634 - val_loss: 0.7446\n",
            "Epoch 6/10\n",
            "\u001b[1m28131/28131\u001b[0m \u001b[32m━━━━━━━━━━━━━━━━━━━━\u001b[0m\u001b[37m\u001b[0m \u001b[1m38s\u001b[0m 1ms/step - loss: 0.6321 - val_loss: 0.7427\n",
            "Epoch 7/10\n",
            "\u001b[1m28131/28131\u001b[0m \u001b[32m━━━━━━━━━━━━━━━━━━━━\u001b[0m\u001b[37m\u001b[0m \u001b[1m38s\u001b[0m 1ms/step - loss: 0.6072 - val_loss: 0.7489\n",
            "Epoch 8/10\n",
            "\u001b[1m28131/28131\u001b[0m \u001b[32m━━━━━━━━━━━━━━━━━━━━\u001b[0m\u001b[37m\u001b[0m \u001b[1m38s\u001b[0m 1ms/step - loss: 0.5865 - val_loss: 0.7490\n",
            "Epoch 9/10\n",
            "\u001b[1m28131/28131\u001b[0m \u001b[32m━━━━━━━━━━━━━━━━━━━━\u001b[0m\u001b[37m\u001b[0m \u001b[1m38s\u001b[0m 1ms/step - loss: 0.5663 - val_loss: 0.7647\n",
            "Epoch 10/10\n",
            "\u001b[1m28131/28131\u001b[0m \u001b[32m━━━━━━━━━━━━━━━━━━━━\u001b[0m\u001b[37m\u001b[0m \u001b[1m38s\u001b[0m 1ms/step - loss: 0.5461 - val_loss: 0.7664\n"
          ]
        }
      ]
    },
    {
      "cell_type": "code",
      "source": [
        "# Get training and test loss histories\n",
        "training_loss4 = history4.history['loss']\n",
        "test_loss4 = history4.history['val_loss']\n",
        "\n",
        "# Create count of the number of epochs\n",
        "epoch_count = range(1, len(training_loss4) + 1)\n",
        "\n",
        "# Visualize loss history\n",
        "plt.plot(epoch_count, training_loss4, 'r--')\n",
        "plt.plot(epoch_count, test_loss4, 'b-')\n",
        "plt.legend(['Training Loss', 'Test Loss'])\n",
        "plt.xlabel('Epoch')\n",
        "plt.ylabel('Loss')\n",
        "plt.show()"
      ],
      "metadata": {
        "colab": {
          "base_uri": "https://localhost:8080/",
          "height": 449
        },
        "id": "d2ke1sRlb-It",
        "outputId": "270b7bb0-0ff3-4f2c-a2fb-9ed4c30343c8"
      },
      "execution_count": null,
      "outputs": [
        {
          "output_type": "display_data",
          "data": {
            "text/plain": [
              "<Figure size 640x480 with 1 Axes>"
            ],
            "image/png": "[encoded data removed]"
          },
          "metadata": {}
        }
      ]
    },
    {
      "cell_type": "markdown",
      "source": [
        "Model 5 avec genres ,descriptions, age,gender et occupattions"
      ],
      "metadata": {
        "id": "rpEoXt9ZaFsc"
      }
    },
    {
      "cell_type": "code",
      "source": [
        "\n",
        "def RecommenderV5(n_users, n_movies,  genres,title, age, gender,occupation,n_dim,):\n",
        "    # User Input\n",
        "    user = Input(shape=(1,))\n",
        "    U = Embedding(n_users, n_dim)(user)\n",
        "    U = Flatten()(U)\n",
        "\n",
        "    # Movie Input\n",
        "    movie = Input(shape=(1,))\n",
        "    M = Embedding(n_movies, n_dim)(movie)\n",
        "    M = Flatten()(M)\n",
        "\n",
        "    # Combine Genres and Descriptions *****\n",
        "    combined_features = genres + ' ' + title + ' ' + age + ' ' + gender + ' ' + occupation\n",
        "    tfidf = TfidfVectorizer(stop_words='english')\n",
        "    tfidf_matrix = tfidf.fit_transform(combined_features)\n",
        "\n",
        "    # Additional Features Input\n",
        "    additional_features = Input(shape=(tfidf_matrix.shape[1],))\n",
        "\n",
        "    # Concatenate Embeddings and Additional Features\n",
        "    x = Concatenate()([U, M, additional_features])\n",
        "\n",
        "    # Dense Layers\n",
        "    x = Dense(128, activation='relu')(x)\n",
        "    output = Dense(1)(x)\n",
        "\n",
        "    # Create and Compile Model\n",
        "    model = Model(inputs=[user, movie, additional_features], outputs=output)\n",
        "    model.compile(optimizer=Adam(0.0001), loss='mean_squared_error')\n",
        "\n",
        "    return model"
      ],
      "metadata": {
        "id": "c-9TvcgnaUyT"
      },
      "execution_count": null,
      "outputs": []
    },
    {
      "cell_type": "code",
      "source": [
        "model5 = RecommenderV4(userid_nunique, movieid_nunique, X_train['genres'], X_train['title'], X_train['ages'], X_train['gender'] 100)\n"
      ],
      "metadata": {
        "id": "tflqPnBIakZT"
      },
      "execution_count": null,
      "outputs": []
    },
    {
      "cell_type": "code",
      "source": [
        "print(model5.summary())"
      ],
      "metadata": {
        "id": "1VgBBBAjakSd"
      },
      "execution_count": null,
      "outputs": []
    },
    {
      "cell_type": "code",
      "source": [
        "svg5 = SVG(model_to_dot(model5, show_shapes=True, show_layer_names=True, rankdir='HB', dpi=70).create(prog='dot', format='svg'))\n",
        "display(svg5)"
      ],
      "metadata": {
        "id": "VLcsossUbH0T"
      },
      "execution_count": null,
      "outputs": []
    },
    {
      "cell_type": "code",
      "source": [
        "checkpoint5= ModelCheckpoint('model5.h5.keras', monitor='val_loss', verbose=0, save_best_only=True)"
      ],
      "metadata": {
        "id": "qcAW96mfbQXl"
      },
      "execution_count": null,
      "outputs": []
    },
    {
      "cell_type": "code",
      "source": [
        "history5 = model5.fit([X_train['userId'], X_train['movieId'],X_train['genres'], X_train['title'], X_train['ages'], X_train['gender']], y_train, epochs=10, validation_data=([X_val['userId'], X_val['movieId'], X_val['genres'], X_val['title'], X_val['ages'], X_val['gender']], y_val), verbose=1, callbacks=[checkpoint4])"
      ],
      "metadata": {
        "id": "vURqcda6bW_4"
      },
      "execution_count": null,
      "outputs": []
    },
    {
      "cell_type": "code",
      "source": [
        "# Get training and test loss histories\n",
        "training_loss5 = history5.history['loss']\n",
        "test_loss5 = history5.history['val_loss']\n",
        "\n",
        "# Create count of the number of epochs\n",
        "epoch_count = range(1, len(training_loss5) + 1)\n",
        "\n",
        "# Visualize loss history\n",
        "plt.plot(epoch_count, training_loss5, 'r--')\n",
        "plt.plot(epoch_count, test_loss5, 'b-')\n",
        "plt.legend(['Training Loss', 'Test Loss'])\n",
        "plt.xlabel('Epoch')\n",
        "plt.ylabel('Loss')\n",
        "plt.show()"
      ],
      "metadata": {
        "id": "g47e7KN6cPDx"
      },
      "execution_count": null,
      "outputs": []
    },
    {
      "cell_type": "markdown",
      "source": [
        "\n",
        "\n",
        "---\n",
        "\n",
        "\n",
        "\n",
        "---\n",
        "\n",
        "Let's compare Top-N recommendation made by all three models\n",
        "\n",
        "\n",
        "---\n",
        "\n",
        "\n",
        "\n",
        "---\n",
        "\n"
      ],
      "metadata": {
        "id": "vzkktEZ5Yghk"
      }
    },
    {
      "cell_type": "code",
      "source": [
        "from tensorflow.keras.models import load_model\n",
        "\n",
        "model1 = load_model('model1.h5.keras')\n",
        "model2 = load_model('model2.h5.keras')\n",
        "model3 = load_model('model3.h5.keras')"
      ],
      "metadata": {
        "colab": {
          "base_uri": "https://localhost:8080/",
          "height": 359
        },
        "id": "ixE9C-2aYjSV",
        "outputId": "b45d8930-3437-4b1b-dd0b-33a7213d0873"
      },
      "execution_count": null,
      "outputs": [
        {
          "output_type": "error",
          "ename": "ValueError",
          "evalue": "File not found: filepath=model1.h5.keras. Please ensure the file is an accessible `.keras` zip file.",
          "traceback": [
            "\u001b[0;31m---------------------------------------------------------------------------\u001b[0m",
            "\u001b[0;31mValueError\u001b[0m                                Traceback (most recent call last)",
            "\u001b[0;32m<ipython-input-5-7ce2d71a6ea7>\u001b[0m in \u001b[0;36m<cell line: 3>\u001b[0;34m()\u001b[0m\n\u001b[1;32m      1\u001b[0m \u001b[0;32mfrom\u001b[0m \u001b[0mtensorflow\u001b[0m\u001b[0;34m.\u001b[0m\u001b[0mkeras\u001b[0m\u001b[0;34m.\u001b[0m\u001b[0mmodels\u001b[0m \u001b[0;32mimport\u001b[0m \u001b[0mload_model\u001b[0m\u001b[0;34m\u001b[0m\u001b[0;34m\u001b[0m\u001b[0m\n\u001b[1;32m      2\u001b[0m \u001b[0;34m\u001b[0m\u001b[0m\n\u001b[0;32m----> 3\u001b[0;31m \u001b[0mmodel1\u001b[0m \u001b[0;34m=\u001b[0m \u001b[0mload_model\u001b[0m\u001b[0;34m(\u001b[0m\u001b[0;34m'model1.h5.keras'\u001b[0m\u001b[0;34m)\u001b[0m\u001b[0;34m\u001b[0m\u001b[0;34m\u001b[0m\u001b[0m\n\u001b[0m\u001b[1;32m      4\u001b[0m \u001b[0mmodel2\u001b[0m \u001b[0;34m=\u001b[0m \u001b[0mload_model\u001b[0m\u001b[0;34m(\u001b[0m\u001b[0;34m'model2.h5.keras'\u001b[0m\u001b[0;34m)\u001b[0m\u001b[0;34m\u001b[0m\u001b[0;34m\u001b[0m\u001b[0m\n\u001b[1;32m      5\u001b[0m \u001b[0mmodel3\u001b[0m \u001b[0;34m=\u001b[0m \u001b[0mload_model\u001b[0m\u001b[0;34m(\u001b[0m\u001b[0;34m'model3.h5.keras'\u001b[0m\u001b[0;34m)\u001b[0m\u001b[0;34m\u001b[0m\u001b[0;34m\u001b[0m\u001b[0m\n",
            "\u001b[0;32m/usr/local/lib/python3.10/dist-packages/keras/src/saving/saving_api.py\u001b[0m in \u001b[0;36mload_model\u001b[0;34m(filepath, custom_objects, compile, safe_mode)\u001b[0m\n\u001b[1;32m    191\u001b[0m         )\n\u001b[1;32m    192\u001b[0m     \u001b[0;32melif\u001b[0m \u001b[0mstr\u001b[0m\u001b[0;34m(\u001b[0m\u001b[0mfilepath\u001b[0m\u001b[0;34m)\u001b[0m\u001b[0;34m.\u001b[0m\u001b[0mendswith\u001b[0m\u001b[0;34m(\u001b[0m\u001b[0;34m\".keras\"\u001b[0m\u001b[0;34m)\u001b[0m\u001b[0;34m:\u001b[0m\u001b[0;34m\u001b[0m\u001b[0;34m\u001b[0m\u001b[0m\n\u001b[0;32m--> 193\u001b[0;31m         raise ValueError(\n\u001b[0m\u001b[1;32m    194\u001b[0m             \u001b[0;34mf\"File not found: filepath={filepath}. \"\u001b[0m\u001b[0;34m\u001b[0m\u001b[0;34m\u001b[0m\u001b[0m\n\u001b[1;32m    195\u001b[0m             \u001b[0;34m\"Please ensure the file is an accessible `.keras` \"\u001b[0m\u001b[0;34m\u001b[0m\u001b[0;34m\u001b[0m\u001b[0m\n",
            "\u001b[0;31mValueError\u001b[0m: File not found: filepath=model1.h5.keras. Please ensure the file is an accessible `.keras` zip file."
          ]
        }
      ]
    },
    {
      "cell_type": "code",
      "source": [
        "def make_pred(user_id, movie_id, model):\n",
        "    return model.predict([np.array([user_id]), np.array([movie_id])])[0][0]"
      ],
      "metadata": {
        "id": "C9UnUCWYYqYP"
      },
      "execution_count": null,
      "outputs": []
    },
    {
      "cell_type": "code",
      "source": [
        "def get_topN_rec(user_id, model):\n",
        "\n",
        "    user_ratings = final_df[final_df['userId'] == user_id][['userId', 'movieId', 'rating']]\n",
        "    recommendation = final_df[~final_df['movieId'].isin(user_ratings['movieId'])][['movieId']].drop_duplicates()\n",
        "    recommendation['rating_predict'] = recommendation.apply(lambda x: make_pred(user_id, x['movieId'], model), axis=1)\n",
        "\n",
        "    final_rec = recommendation.sort_values(by='rating_predict', ascending=False).merge(movies[['movieId', 'Movie_names', 'release_year']],\n",
        "                                                                       on='movieId',\n",
        "                                                                       how='inner').head(10)\n",
        "\n",
        "    return final_rec.sort_values('release_year', ascending=False).drop(['movieId', 'release_year'], axis=1)  # sort by recent year"
      ],
      "metadata": {
        "id": "oCHeC_TfYsd4"
      },
      "execution_count": null,
      "outputs": []
    },
    {
      "cell_type": "code",
      "source": [
        "get_topN_rec(23, model1)"
      ],
      "metadata": {
        "colab": {
          "base_uri": "https://localhost:8080/",
          "height": 144
        },
        "id": "nw-csLaq4x-q",
        "outputId": "7372c0b7-1613-48e1-88df-117db984e037"
      },
      "execution_count": null,
      "outputs": [
        {
          "output_type": "error",
          "ename": "NameError",
          "evalue": "name 'get_topN_rec' is not defined",
          "traceback": [
            "\u001b[0;31m---------------------------------------------------------------------------\u001b[0m",
            "\u001b[0;31mNameError\u001b[0m                                 Traceback (most recent call last)",
            "\u001b[0;32m<ipython-input-3-04b91ff68c97>\u001b[0m in \u001b[0;36m<cell line: 1>\u001b[0;34m()\u001b[0m\n\u001b[0;32m----> 1\u001b[0;31m \u001b[0mget_topN_rec\u001b[0m\u001b[0;34m(\u001b[0m\u001b[0;36m23\u001b[0m\u001b[0;34m,\u001b[0m \u001b[0mmodel1\u001b[0m\u001b[0;34m)\u001b[0m\u001b[0;34m\u001b[0m\u001b[0;34m\u001b[0m\u001b[0m\n\u001b[0m",
            "\u001b[0;31mNameError\u001b[0m: name 'get_topN_rec' is not defined"
          ]
        }
      ]
    },
    {
      "cell_type": "code",
      "source": [
        "get_topN_rec(23, model3)"
      ],
      "metadata": {
        "colab": {
          "base_uri": "https://localhost:8080/",
          "height": 144
        },
        "id": "WzBdWwlh47z5",
        "outputId": "e0e0756a-7431-4e6f-d0d5-32fa4fb20ae1"
      },
      "execution_count": null,
      "outputs": [
        {
          "output_type": "error",
          "ename": "NameError",
          "evalue": "name 'get_topN_rec' is not defined",
          "traceback": [
            "\u001b[0;31m---------------------------------------------------------------------------\u001b[0m",
            "\u001b[0;31mNameError\u001b[0m                                 Traceback (most recent call last)",
            "\u001b[0;32m<ipython-input-4-f6f70ee66c0a>\u001b[0m in \u001b[0;36m<cell line: 1>\u001b[0;34m()\u001b[0m\n\u001b[0;32m----> 1\u001b[0;31m \u001b[0mget_topN_rec\u001b[0m\u001b[0;34m(\u001b[0m\u001b[0;36m23\u001b[0m\u001b[0;34m,\u001b[0m \u001b[0mmodel3\u001b[0m\u001b[0;34m)\u001b[0m\u001b[0;34m\u001b[0m\u001b[0;34m\u001b[0m\u001b[0m\n\u001b[0m",
            "\u001b[0;31mNameError\u001b[0m: name 'get_topN_rec' is not defined"
          ]
        }
      ]
    }
  ]
}