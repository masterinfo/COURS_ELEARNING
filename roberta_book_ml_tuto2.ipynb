{
  "nbformat": 4,
  "nbformat_minor": 0,
  "metadata": {
    "colab": {
      "provenance": [],
      "gpuType": "T4",
      "mount_file_id": "1t3m6fmb52LMHWMormUfQtUiftk3NccKr",
      "authorship_tag": "ABX9TyNdRtXvnj8RjLWGvGln5h+K",
      "include_colab_link": true
    },
    "kernelspec": {
      "name": "python3",
      "display_name": "Python 3"
    },
    "language_info": {
      "name": "python"
    },
    "accelerator": "GPU",
    "widgets": {
      "application/vnd.jupyter.widget-state+json": {
        "46c816871615413cbf5155b7554e9c34": {
          "model_module": "@jupyter-widgets/controls",
          "model_name": "HBoxModel",
          "model_module_version": "1.5.0",
          "state": {
            "_dom_classes": [],
            "_model_module": "@jupyter-widgets/controls",
            "_model_module_version": "1.5.0",
            "_model_name": "HBoxModel",
            "_view_count": null,
            "_view_module": "@jupyter-widgets/controls",
            "_view_module_version": "1.5.0",
            "_view_name": "HBoxView",
            "box_style": "",
            "children": [
              "IPY_MODEL_a65eb050b42c4c6f94ef9f8a7f11a69b",
              "IPY_MODEL_5a61916a9c90433499e8905ea5299145",
              "IPY_MODEL_1ac5cc1417cb4844a67ea78751ff18fc"
            ],
            "layout": "IPY_MODEL_2941d6470a37430594b78da976e8a015"
          }
        },
        "a65eb050b42c4c6f94ef9f8a7f11a69b": {
          "model_module": "@jupyter-widgets/controls",
          "model_name": "HTMLModel",
          "model_module_version": "1.5.0",
          "state": {
            "_dom_classes": [],
            "_model_module": "@jupyter-widgets/controls",
            "_model_module_version": "1.5.0",
            "_model_name": "HTMLModel",
            "_view_count": null,
            "_view_module": "@jupyter-widgets/controls",
            "_view_module_version": "1.5.0",
            "_view_name": "HTMLView",
            "description": "",
            "description_tooltip": null,
            "layout": "IPY_MODEL_5d4564861fc94fc9a3b11f72d4a32279",
            "placeholder": "​",
            "style": "IPY_MODEL_b0cfa026f18d416f8e43d7879dcdfcf9",
            "value": "tokenizer_config.json: 100%"
          }
        },
        "5a61916a9c90433499e8905ea5299145": {
          "model_module": "@jupyter-widgets/controls",
          "model_name": "FloatProgressModel",
          "model_module_version": "1.5.0",
          "state": {
            "_dom_classes": [],
            "_model_module": "@jupyter-widgets/controls",
            "_model_module_version": "1.5.0",
            "_model_name": "FloatProgressModel",
            "_view_count": null,
            "_view_module": "@jupyter-widgets/controls",
            "_view_module_version": "1.5.0",
            "_view_name": "ProgressView",
            "bar_style": "success",
            "description": "",
            "description_tooltip": null,
            "layout": "IPY_MODEL_eda28e93da25463f8d01357b8e2edacf",
            "max": 25,
            "min": 0,
            "orientation": "horizontal",
            "style": "IPY_MODEL_3c3be083e137456a8fb4d763623cb3af",
            "value": 25
          }
        },
        "1ac5cc1417cb4844a67ea78751ff18fc": {
          "model_module": "@jupyter-widgets/controls",
          "model_name": "HTMLModel",
          "model_module_version": "1.5.0",
          "state": {
            "_dom_classes": [],
            "_model_module": "@jupyter-widgets/controls",
            "_model_module_version": "1.5.0",
            "_model_name": "HTMLModel",
            "_view_count": null,
            "_view_module": "@jupyter-widgets/controls",
            "_view_module_version": "1.5.0",
            "_view_name": "HTMLView",
            "description": "",
            "description_tooltip": null,
            "layout": "IPY_MODEL_88dc904c35a04a918730134ebfb74fd2",
            "placeholder": "​",
            "style": "IPY_MODEL_193aa4338d1746ed8305d3e793e325aa",
            "value": " 25.0/25.0 [00:00&lt;00:00, 2.67kB/s]"
          }
        },
        "2941d6470a37430594b78da976e8a015": {
          "model_module": "@jupyter-widgets/base",
          "model_name": "LayoutModel",
          "model_module_version": "1.2.0",
          "state": {
            "_model_module": "@jupyter-widgets/base",
            "_model_module_version": "1.2.0",
            "_model_name": "LayoutModel",
            "_view_count": null,
            "_view_module": "@jupyter-widgets/base",
            "_view_module_version": "1.2.0",
            "_view_name": "LayoutView",
            "align_content": null,
            "align_items": null,
            "align_self": null,
            "border": null,
            "bottom": null,
            "display": null,
            "flex": null,
            "flex_flow": null,
            "grid_area": null,
            "grid_auto_columns": null,
            "grid_auto_flow": null,
            "grid_auto_rows": null,
            "grid_column": null,
            "grid_gap": null,
            "grid_row": null,
            "grid_template_areas": null,
            "grid_template_columns": null,
            "grid_template_rows": null,
            "height": null,
            "justify_content": null,
            "justify_items": null,
            "left": null,
            "margin": null,
            "max_height": null,
            "max_width": null,
            "min_height": null,
            "min_width": null,
            "object_fit": null,
            "object_position": null,
            "order": null,
            "overflow": null,
            "overflow_x": null,
            "overflow_y": null,
            "padding": null,
            "right": null,
            "top": null,
            "visibility": null,
            "width": null
          }
        },
        "5d4564861fc94fc9a3b11f72d4a32279": {
          "model_module": "@jupyter-widgets/base",
          "model_name": "LayoutModel",
          "model_module_version": "1.2.0",
          "state": {
            "_model_module": "@jupyter-widgets/base",
            "_model_module_version": "1.2.0",
            "_model_name": "LayoutModel",
            "_view_count": null,
            "_view_module": "@jupyter-widgets/base",
            "_view_module_version": "1.2.0",
            "_view_name": "LayoutView",
            "align_content": null,
            "align_items": null,
            "align_self": null,
            "border": null,
            "bottom": null,
            "display": null,
            "flex": null,
            "flex_flow": null,
            "grid_area": null,
            "grid_auto_columns": null,
            "grid_auto_flow": null,
            "grid_auto_rows": null,
            "grid_column": null,
            "grid_gap": null,
            "grid_row": null,
            "grid_template_areas": null,
            "grid_template_columns": null,
            "grid_template_rows": null,
            "height": null,
            "justify_content": null,
            "justify_items": null,
            "left": null,
            "margin": null,
            "max_height": null,
            "max_width": null,
            "min_height": null,
            "min_width": null,
            "object_fit": null,
            "object_position": null,
            "order": null,
            "overflow": null,
            "overflow_x": null,
            "overflow_y": null,
            "padding": null,
            "right": null,
            "top": null,
            "visibility": null,
            "width": null
          }
        },
        "b0cfa026f18d416f8e43d7879dcdfcf9": {
          "model_module": "@jupyter-widgets/controls",
          "model_name": "DescriptionStyleModel",
          "model_module_version": "1.5.0",
          "state": {
            "_model_module": "@jupyter-widgets/controls",
            "_model_module_version": "1.5.0",
            "_model_name": "DescriptionStyleModel",
            "_view_count": null,
            "_view_module": "@jupyter-widgets/base",
            "_view_module_version": "1.2.0",
            "_view_name": "StyleView",
            "description_width": ""
          }
        },
        "eda28e93da25463f8d01357b8e2edacf": {
          "model_module": "@jupyter-widgets/base",
          "model_name": "LayoutModel",
          "model_module_version": "1.2.0",
          "state": {
            "_model_module": "@jupyter-widgets/base",
            "_model_module_version": "1.2.0",
            "_model_name": "LayoutModel",
            "_view_count": null,
            "_view_module": "@jupyter-widgets/base",
            "_view_module_version": "1.2.0",
            "_view_name": "LayoutView",
            "align_content": null,
            "align_items": null,
            "align_self": null,
            "border": null,
            "bottom": null,
            "display": null,
            "flex": null,
            "flex_flow": null,
            "grid_area": null,
            "grid_auto_columns": null,
            "grid_auto_flow": null,
            "grid_auto_rows": null,
            "grid_column": null,
            "grid_gap": null,
            "grid_row": null,
            "grid_template_areas": null,
            "grid_template_columns": null,
            "grid_template_rows": null,
            "height": null,
            "justify_content": null,
            "justify_items": null,
            "left": null,
            "margin": null,
            "max_height": null,
            "max_width": null,
            "min_height": null,
            "min_width": null,
            "object_fit": null,
            "object_position": null,
            "order": null,
            "overflow": null,
            "overflow_x": null,
            "overflow_y": null,
            "padding": null,
            "right": null,
            "top": null,
            "visibility": null,
            "width": null
          }
        },
        "3c3be083e137456a8fb4d763623cb3af": {
          "model_module": "@jupyter-widgets/controls",
          "model_name": "ProgressStyleModel",
          "model_module_version": "1.5.0",
          "state": {
            "_model_module": "@jupyter-widgets/controls",
            "_model_module_version": "1.5.0",
            "_model_name": "ProgressStyleModel",
            "_view_count": null,
            "_view_module": "@jupyter-widgets/base",
            "_view_module_version": "1.2.0",
            "_view_name": "StyleView",
            "bar_color": null,
            "description_width": ""
          }
        },
        "88dc904c35a04a918730134ebfb74fd2": {
          "model_module": "@jupyter-widgets/base",
          "model_name": "LayoutModel",
          "model_module_version": "1.2.0",
          "state": {
            "_model_module": "@jupyter-widgets/base",
            "_model_module_version": "1.2.0",
            "_model_name": "LayoutModel",
            "_view_count": null,
            "_view_module": "@jupyter-widgets/base",
            "_view_module_version": "1.2.0",
            "_view_name": "LayoutView",
            "align_content": null,
            "align_items": null,
            "align_self": null,
            "border": null,
            "bottom": null,
            "display": null,
            "flex": null,
            "flex_flow": null,
            "grid_area": null,
            "grid_auto_columns": null,
            "grid_auto_flow": null,
            "grid_auto_rows": null,
            "grid_column": null,
            "grid_gap": null,
            "grid_row": null,
            "grid_template_areas": null,
            "grid_template_columns": null,
            "grid_template_rows": null,
            "height": null,
            "justify_content": null,
            "justify_items": null,
            "left": null,
            "margin": null,
            "max_height": null,
            "max_width": null,
            "min_height": null,
            "min_width": null,
            "object_fit": null,
            "object_position": null,
            "order": null,
            "overflow": null,
            "overflow_x": null,
            "overflow_y": null,
            "padding": null,
            "right": null,
            "top": null,
            "visibility": null,
            "width": null
          }
        },
        "193aa4338d1746ed8305d3e793e325aa": {
          "model_module": "@jupyter-widgets/controls",
          "model_name": "DescriptionStyleModel",
          "model_module_version": "1.5.0",
          "state": {
            "_model_module": "@jupyter-widgets/controls",
            "_model_module_version": "1.5.0",
            "_model_name": "DescriptionStyleModel",
            "_view_count": null,
            "_view_module": "@jupyter-widgets/base",
            "_view_module_version": "1.2.0",
            "_view_name": "StyleView",
            "description_width": ""
          }
        },
        "6b1b0f25807943589c7f5f3d65d6e48a": {
          "model_module": "@jupyter-widgets/controls",
          "model_name": "HBoxModel",
          "model_module_version": "1.5.0",
          "state": {
            "_dom_classes": [],
            "_model_module": "@jupyter-widgets/controls",
            "_model_module_version": "1.5.0",
            "_model_name": "HBoxModel",
            "_view_count": null,
            "_view_module": "@jupyter-widgets/controls",
            "_view_module_version": "1.5.0",
            "_view_name": "HBoxView",
            "box_style": "",
            "children": [
              "IPY_MODEL_d079deff437a4e7a9e897e74b49148ca",
              "IPY_MODEL_9c3bf13043ab4d2ca0506635ae3cec05",
              "IPY_MODEL_bab2cac5338f4bffaa8b14a488e593d5"
            ],
            "layout": "IPY_MODEL_5ebffe489a674790a9cce450a9cc73a2"
          }
        },
        "d079deff437a4e7a9e897e74b49148ca": {
          "model_module": "@jupyter-widgets/controls",
          "model_name": "HTMLModel",
          "model_module_version": "1.5.0",
          "state": {
            "_dom_classes": [],
            "_model_module": "@jupyter-widgets/controls",
            "_model_module_version": "1.5.0",
            "_model_name": "HTMLModel",
            "_view_count": null,
            "_view_module": "@jupyter-widgets/controls",
            "_view_module_version": "1.5.0",
            "_view_name": "HTMLView",
            "description": "",
            "description_tooltip": null,
            "layout": "IPY_MODEL_0b9ed7844e86495b82bc4d3eb97de2d6",
            "placeholder": "​",
            "style": "IPY_MODEL_22d04b6d12894bc4a5f5586388bbeefe",
            "value": "vocab.json: 100%"
          }
        },
        "9c3bf13043ab4d2ca0506635ae3cec05": {
          "model_module": "@jupyter-widgets/controls",
          "model_name": "FloatProgressModel",
          "model_module_version": "1.5.0",
          "state": {
            "_dom_classes": [],
            "_model_module": "@jupyter-widgets/controls",
            "_model_module_version": "1.5.0",
            "_model_name": "FloatProgressModel",
            "_view_count": null,
            "_view_module": "@jupyter-widgets/controls",
            "_view_module_version": "1.5.0",
            "_view_name": "ProgressView",
            "bar_style": "success",
            "description": "",
            "description_tooltip": null,
            "layout": "IPY_MODEL_b5a1861779f846c89756e52801659575",
            "max": 898823,
            "min": 0,
            "orientation": "horizontal",
            "style": "IPY_MODEL_833be936dd3a47ed80fe5484cc54fe76",
            "value": 898823
          }
        },
        "bab2cac5338f4bffaa8b14a488e593d5": {
          "model_module": "@jupyter-widgets/controls",
          "model_name": "HTMLModel",
          "model_module_version": "1.5.0",
          "state": {
            "_dom_classes": [],
            "_model_module": "@jupyter-widgets/controls",
            "_model_module_version": "1.5.0",
            "_model_name": "HTMLModel",
            "_view_count": null,
            "_view_module": "@jupyter-widgets/controls",
            "_view_module_version": "1.5.0",
            "_view_name": "HTMLView",
            "description": "",
            "description_tooltip": null,
            "layout": "IPY_MODEL_a07a1bd20e2b421185e8fe4ac5e067f9",
            "placeholder": "​",
            "style": "IPY_MODEL_84754ba595104bada0712d1c0f4abb83",
            "value": " 899k/899k [00:00&lt;00:00, 2.01MB/s]"
          }
        },
        "5ebffe489a674790a9cce450a9cc73a2": {
          "model_module": "@jupyter-widgets/base",
          "model_name": "LayoutModel",
          "model_module_version": "1.2.0",
          "state": {
            "_model_module": "@jupyter-widgets/base",
            "_model_module_version": "1.2.0",
            "_model_name": "LayoutModel",
            "_view_count": null,
            "_view_module": "@jupyter-widgets/base",
            "_view_module_version": "1.2.0",
            "_view_name": "LayoutView",
            "align_content": null,
            "align_items": null,
            "align_self": null,
            "border": null,
            "bottom": null,
            "display": null,
            "flex": null,
            "flex_flow": null,
            "grid_area": null,
            "grid_auto_columns": null,
            "grid_auto_flow": null,
            "grid_auto_rows": null,
            "grid_column": null,
            "grid_gap": null,
            "grid_row": null,
            "grid_template_areas": null,
            "grid_template_columns": null,
            "grid_template_rows": null,
            "height": null,
            "justify_content": null,
            "justify_items": null,
            "left": null,
            "margin": null,
            "max_height": null,
            "max_width": null,
            "min_height": null,
            "min_width": null,
            "object_fit": null,
            "object_position": null,
            "order": null,
            "overflow": null,
            "overflow_x": null,
            "overflow_y": null,
            "padding": null,
            "right": null,
            "top": null,
            "visibility": null,
            "width": null
          }
        },
        "0b9ed7844e86495b82bc4d3eb97de2d6": {
          "model_module": "@jupyter-widgets/base",
          "model_name": "LayoutModel",
          "model_module_version": "1.2.0",
          "state": {
            "_model_module": "@jupyter-widgets/base",
            "_model_module_version": "1.2.0",
            "_model_name": "LayoutModel",
            "_view_count": null,
            "_view_module": "@jupyter-widgets/base",
            "_view_module_version": "1.2.0",
            "_view_name": "LayoutView",
            "align_content": null,
            "align_items": null,
            "align_self": null,
            "border": null,
            "bottom": null,
            "display": null,
            "flex": null,
            "flex_flow": null,
            "grid_area": null,
            "grid_auto_columns": null,
            "grid_auto_flow": null,
            "grid_auto_rows": null,
            "grid_column": null,
            "grid_gap": null,
            "grid_row": null,
            "grid_template_areas": null,
            "grid_template_columns": null,
            "grid_template_rows": null,
            "height": null,
            "justify_content": null,
            "justify_items": null,
            "left": null,
            "margin": null,
            "max_height": null,
            "max_width": null,
            "min_height": null,
            "min_width": null,
            "object_fit": null,
            "object_position": null,
            "order": null,
            "overflow": null,
            "overflow_x": null,
            "overflow_y": null,
            "padding": null,
            "right": null,
            "top": null,
            "visibility": null,
            "width": null
          }
        },
        "22d04b6d12894bc4a5f5586388bbeefe": {
          "model_module": "@jupyter-widgets/controls",
          "model_name": "DescriptionStyleModel",
          "model_module_version": "1.5.0",
          "state": {
            "_model_module": "@jupyter-widgets/controls",
            "_model_module_version": "1.5.0",
            "_model_name": "DescriptionStyleModel",
            "_view_count": null,
            "_view_module": "@jupyter-widgets/base",
            "_view_module_version": "1.2.0",
            "_view_name": "StyleView",
            "description_width": ""
          }
        },
        "b5a1861779f846c89756e52801659575": {
          "model_module": "@jupyter-widgets/base",
          "model_name": "LayoutModel",
          "model_module_version": "1.2.0",
          "state": {
            "_model_module": "@jupyter-widgets/base",
            "_model_module_version": "1.2.0",
            "_model_name": "LayoutModel",
            "_view_count": null,
            "_view_module": "@jupyter-widgets/base",
            "_view_module_version": "1.2.0",
            "_view_name": "LayoutView",
            "align_content": null,
            "align_items": null,
            "align_self": null,
            "border": null,
            "bottom": null,
            "display": null,
            "flex": null,
            "flex_flow": null,
            "grid_area": null,
            "grid_auto_columns": null,
            "grid_auto_flow": null,
            "grid_auto_rows": null,
            "grid_column": null,
            "grid_gap": null,
            "grid_row": null,
            "grid_template_areas": null,
            "grid_template_columns": null,
            "grid_template_rows": null,
            "height": null,
            "justify_content": null,
            "justify_items": null,
            "left": null,
            "margin": null,
            "max_height": null,
            "max_width": null,
            "min_height": null,
            "min_width": null,
            "object_fit": null,
            "object_position": null,
            "order": null,
            "overflow": null,
            "overflow_x": null,
            "overflow_y": null,
            "padding": null,
            "right": null,
            "top": null,
            "visibility": null,
            "width": null
          }
        },
        "833be936dd3a47ed80fe5484cc54fe76": {
          "model_module": "@jupyter-widgets/controls",
          "model_name": "ProgressStyleModel",
          "model_module_version": "1.5.0",
          "state": {
            "_model_module": "@jupyter-widgets/controls",
            "_model_module_version": "1.5.0",
            "_model_name": "ProgressStyleModel",
            "_view_count": null,
            "_view_module": "@jupyter-widgets/base",
            "_view_module_version": "1.2.0",
            "_view_name": "StyleView",
            "bar_color": null,
            "description_width": ""
          }
        },
        "a07a1bd20e2b421185e8fe4ac5e067f9": {
          "model_module": "@jupyter-widgets/base",
          "model_name": "LayoutModel",
          "model_module_version": "1.2.0",
          "state": {
            "_model_module": "@jupyter-widgets/base",
            "_model_module_version": "1.2.0",
            "_model_name": "LayoutModel",
            "_view_count": null,
            "_view_module": "@jupyter-widgets/base",
            "_view_module_version": "1.2.0",
            "_view_name": "LayoutView",
            "align_content": null,
            "align_items": null,
            "align_self": null,
            "border": null,
            "bottom": null,
            "display": null,
            "flex": null,
            "flex_flow": null,
            "grid_area": null,
            "grid_auto_columns": null,
            "grid_auto_flow": null,
            "grid_auto_rows": null,
            "grid_column": null,
            "grid_gap": null,
            "grid_row": null,
            "grid_template_areas": null,
            "grid_template_columns": null,
            "grid_template_rows": null,
            "height": null,
            "justify_content": null,
            "justify_items": null,
            "left": null,
            "margin": null,
            "max_height": null,
            "max_width": null,
            "min_height": null,
            "min_width": null,
            "object_fit": null,
            "object_position": null,
            "order": null,
            "overflow": null,
            "overflow_x": null,
            "overflow_y": null,
            "padding": null,
            "right": null,
            "top": null,
            "visibility": null,
            "width": null
          }
        },
        "84754ba595104bada0712d1c0f4abb83": {
          "model_module": "@jupyter-widgets/controls",
          "model_name": "DescriptionStyleModel",
          "model_module_version": "1.5.0",
          "state": {
            "_model_module": "@jupyter-widgets/controls",
            "_model_module_version": "1.5.0",
            "_model_name": "DescriptionStyleModel",
            "_view_count": null,
            "_view_module": "@jupyter-widgets/base",
            "_view_module_version": "1.2.0",
            "_view_name": "StyleView",
            "description_width": ""
          }
        },
        "cada0820f84e46e191ac26a203b75cbb": {
          "model_module": "@jupyter-widgets/controls",
          "model_name": "HBoxModel",
          "model_module_version": "1.5.0",
          "state": {
            "_dom_classes": [],
            "_model_module": "@jupyter-widgets/controls",
            "_model_module_version": "1.5.0",
            "_model_name": "HBoxModel",
            "_view_count": null,
            "_view_module": "@jupyter-widgets/controls",
            "_view_module_version": "1.5.0",
            "_view_name": "HBoxView",
            "box_style": "",
            "children": [
              "IPY_MODEL_ca8e34735b23403792794305e0e5e594",
              "IPY_MODEL_ba49477a186743aca42b1fd6d9033063",
              "IPY_MODEL_7d71c9ba07f8441ca63186336b3afd2b"
            ],
            "layout": "IPY_MODEL_f91ac93c22a24c4ab800bf69a26951d7"
          }
        },
        "ca8e34735b23403792794305e0e5e594": {
          "model_module": "@jupyter-widgets/controls",
          "model_name": "HTMLModel",
          "model_module_version": "1.5.0",
          "state": {
            "_dom_classes": [],
            "_model_module": "@jupyter-widgets/controls",
            "_model_module_version": "1.5.0",
            "_model_name": "HTMLModel",
            "_view_count": null,
            "_view_module": "@jupyter-widgets/controls",
            "_view_module_version": "1.5.0",
            "_view_name": "HTMLView",
            "description": "",
            "description_tooltip": null,
            "layout": "IPY_MODEL_fd5b4f915ef146398a4fed50fc1310e4",
            "placeholder": "​",
            "style": "IPY_MODEL_e06d44916b6841f2beb4885cd4e00669",
            "value": "merges.txt: 100%"
          }
        },
        "ba49477a186743aca42b1fd6d9033063": {
          "model_module": "@jupyter-widgets/controls",
          "model_name": "FloatProgressModel",
          "model_module_version": "1.5.0",
          "state": {
            "_dom_classes": [],
            "_model_module": "@jupyter-widgets/controls",
            "_model_module_version": "1.5.0",
            "_model_name": "FloatProgressModel",
            "_view_count": null,
            "_view_module": "@jupyter-widgets/controls",
            "_view_module_version": "1.5.0",
            "_view_name": "ProgressView",
            "bar_style": "success",
            "description": "",
            "description_tooltip": null,
            "layout": "IPY_MODEL_7f84006c48cb4303b510ddf6e5fff4a3",
            "max": 456318,
            "min": 0,
            "orientation": "horizontal",
            "style": "IPY_MODEL_af91ffc28824483b85184adcdf9dc45f",
            "value": 456318
          }
        },
        "7d71c9ba07f8441ca63186336b3afd2b": {
          "model_module": "@jupyter-widgets/controls",
          "model_name": "HTMLModel",
          "model_module_version": "1.5.0",
          "state": {
            "_dom_classes": [],
            "_model_module": "@jupyter-widgets/controls",
            "_model_module_version": "1.5.0",
            "_model_name": "HTMLModel",
            "_view_count": null,
            "_view_module": "@jupyter-widgets/controls",
            "_view_module_version": "1.5.0",
            "_view_name": "HTMLView",
            "description": "",
            "description_tooltip": null,
            "layout": "IPY_MODEL_658d6078528140dd850496a47912e736",
            "placeholder": "​",
            "style": "IPY_MODEL_a582065ca2044c21876e74f35501b95e",
            "value": " 456k/456k [00:00&lt;00:00, 19.6MB/s]"
          }
        },
        "f91ac93c22a24c4ab800bf69a26951d7": {
          "model_module": "@jupyter-widgets/base",
          "model_name": "LayoutModel",
          "model_module_version": "1.2.0",
          "state": {
            "_model_module": "@jupyter-widgets/base",
            "_model_module_version": "1.2.0",
            "_model_name": "LayoutModel",
            "_view_count": null,
            "_view_module": "@jupyter-widgets/base",
            "_view_module_version": "1.2.0",
            "_view_name": "LayoutView",
            "align_content": null,
            "align_items": null,
            "align_self": null,
            "border": null,
            "bottom": null,
            "display": null,
            "flex": null,
            "flex_flow": null,
            "grid_area": null,
            "grid_auto_columns": null,
            "grid_auto_flow": null,
            "grid_auto_rows": null,
            "grid_column": null,
            "grid_gap": null,
            "grid_row": null,
            "grid_template_areas": null,
            "grid_template_columns": null,
            "grid_template_rows": null,
            "height": null,
            "justify_content": null,
            "justify_items": null,
            "left": null,
            "margin": null,
            "max_height": null,
            "max_width": null,
            "min_height": null,
            "min_width": null,
            "object_fit": null,
            "object_position": null,
            "order": null,
            "overflow": null,
            "overflow_x": null,
            "overflow_y": null,
            "padding": null,
            "right": null,
            "top": null,
            "visibility": null,
            "width": null
          }
        },
        "fd5b4f915ef146398a4fed50fc1310e4": {
          "model_module": "@jupyter-widgets/base",
          "model_name": "LayoutModel",
          "model_module_version": "1.2.0",
          "state": {
            "_model_module": "@jupyter-widgets/base",
            "_model_module_version": "1.2.0",
            "_model_name": "LayoutModel",
            "_view_count": null,
            "_view_module": "@jupyter-widgets/base",
            "_view_module_version": "1.2.0",
            "_view_name": "LayoutView",
            "align_content": null,
            "align_items": null,
            "align_self": null,
            "border": null,
            "bottom": null,
            "display": null,
            "flex": null,
            "flex_flow": null,
            "grid_area": null,
            "grid_auto_columns": null,
            "grid_auto_flow": null,
            "grid_auto_rows": null,
            "grid_column": null,
            "grid_gap": null,
            "grid_row": null,
            "grid_template_areas": null,
            "grid_template_columns": null,
            "grid_template_rows": null,
            "height": null,
            "justify_content": null,
            "justify_items": null,
            "left": null,
            "margin": null,
            "max_height": null,
            "max_width": null,
            "min_height": null,
            "min_width": null,
            "object_fit": null,
            "object_position": null,
            "order": null,
            "overflow": null,
            "overflow_x": null,
            "overflow_y": null,
            "padding": null,
            "right": null,
            "top": null,
            "visibility": null,
            "width": null
          }
        },
        "e06d44916b6841f2beb4885cd4e00669": {
          "model_module": "@jupyter-widgets/controls",
          "model_name": "DescriptionStyleModel",
          "model_module_version": "1.5.0",
          "state": {
            "_model_module": "@jupyter-widgets/controls",
            "_model_module_version": "1.5.0",
            "_model_name": "DescriptionStyleModel",
            "_view_count": null,
            "_view_module": "@jupyter-widgets/base",
            "_view_module_version": "1.2.0",
            "_view_name": "StyleView",
            "description_width": ""
          }
        },
        "7f84006c48cb4303b510ddf6e5fff4a3": {
          "model_module": "@jupyter-widgets/base",
          "model_name": "LayoutModel",
          "model_module_version": "1.2.0",
          "state": {
            "_model_module": "@jupyter-widgets/base",
            "_model_module_version": "1.2.0",
            "_model_name": "LayoutModel",
            "_view_count": null,
            "_view_module": "@jupyter-widgets/base",
            "_view_module_version": "1.2.0",
            "_view_name": "LayoutView",
            "align_content": null,
            "align_items": null,
            "align_self": null,
            "border": null,
            "bottom": null,
            "display": null,
            "flex": null,
            "flex_flow": null,
            "grid_area": null,
            "grid_auto_columns": null,
            "grid_auto_flow": null,
            "grid_auto_rows": null,
            "grid_column": null,
            "grid_gap": null,
            "grid_row": null,
            "grid_template_areas": null,
            "grid_template_columns": null,
            "grid_template_rows": null,
            "height": null,
            "justify_content": null,
            "justify_items": null,
            "left": null,
            "margin": null,
            "max_height": null,
            "max_width": null,
            "min_height": null,
            "min_width": null,
            "object_fit": null,
            "object_position": null,
            "order": null,
            "overflow": null,
            "overflow_x": null,
            "overflow_y": null,
            "padding": null,
            "right": null,
            "top": null,
            "visibility": null,
            "width": null
          }
        },
        "af91ffc28824483b85184adcdf9dc45f": {
          "model_module": "@jupyter-widgets/controls",
          "model_name": "ProgressStyleModel",
          "model_module_version": "1.5.0",
          "state": {
            "_model_module": "@jupyter-widgets/controls",
            "_model_module_version": "1.5.0",
            "_model_name": "ProgressStyleModel",
            "_view_count": null,
            "_view_module": "@jupyter-widgets/base",
            "_view_module_version": "1.2.0",
            "_view_name": "StyleView",
            "bar_color": null,
            "description_width": ""
          }
        },
        "658d6078528140dd850496a47912e736": {
          "model_module": "@jupyter-widgets/base",
          "model_name": "LayoutModel",
          "model_module_version": "1.2.0",
          "state": {
            "_model_module": "@jupyter-widgets/base",
            "_model_module_version": "1.2.0",
            "_model_name": "LayoutModel",
            "_view_count": null,
            "_view_module": "@jupyter-widgets/base",
            "_view_module_version": "1.2.0",
            "_view_name": "LayoutView",
            "align_content": null,
            "align_items": null,
            "align_self": null,
            "border": null,
            "bottom": null,
            "display": null,
            "flex": null,
            "flex_flow": null,
            "grid_area": null,
            "grid_auto_columns": null,
            "grid_auto_flow": null,
            "grid_auto_rows": null,
            "grid_column": null,
            "grid_gap": null,
            "grid_row": null,
            "grid_template_areas": null,
            "grid_template_columns": null,
            "grid_template_rows": null,
            "height": null,
            "justify_content": null,
            "justify_items": null,
            "left": null,
            "margin": null,
            "max_height": null,
            "max_width": null,
            "min_height": null,
            "min_width": null,
            "object_fit": null,
            "object_position": null,
            "order": null,
            "overflow": null,
            "overflow_x": null,
            "overflow_y": null,
            "padding": null,
            "right": null,
            "top": null,
            "visibility": null,
            "width": null
          }
        },
        "a582065ca2044c21876e74f35501b95e": {
          "model_module": "@jupyter-widgets/controls",
          "model_name": "DescriptionStyleModel",
          "model_module_version": "1.5.0",
          "state": {
            "_model_module": "@jupyter-widgets/controls",
            "_model_module_version": "1.5.0",
            "_model_name": "DescriptionStyleModel",
            "_view_count": null,
            "_view_module": "@jupyter-widgets/base",
            "_view_module_version": "1.2.0",
            "_view_name": "StyleView",
            "description_width": ""
          }
        },
        "1fc18d4e0fdf4f37828623a967b207d3": {
          "model_module": "@jupyter-widgets/controls",
          "model_name": "HBoxModel",
          "model_module_version": "1.5.0",
          "state": {
            "_dom_classes": [],
            "_model_module": "@jupyter-widgets/controls",
            "_model_module_version": "1.5.0",
            "_model_name": "HBoxModel",
            "_view_count": null,
            "_view_module": "@jupyter-widgets/controls",
            "_view_module_version": "1.5.0",
            "_view_name": "HBoxView",
            "box_style": "",
            "children": [
              "IPY_MODEL_051ec1e706dc448bb4a7a87edf4733be",
              "IPY_MODEL_4d0a614bf18e4596aa76e9a92fa85985",
              "IPY_MODEL_b501963412414666a82eaba781a10c0a"
            ],
            "layout": "IPY_MODEL_42e3c0f2f6934523be128e5fc462abf8"
          }
        },
        "051ec1e706dc448bb4a7a87edf4733be": {
          "model_module": "@jupyter-widgets/controls",
          "model_name": "HTMLModel",
          "model_module_version": "1.5.0",
          "state": {
            "_dom_classes": [],
            "_model_module": "@jupyter-widgets/controls",
            "_model_module_version": "1.5.0",
            "_model_name": "HTMLModel",
            "_view_count": null,
            "_view_module": "@jupyter-widgets/controls",
            "_view_module_version": "1.5.0",
            "_view_name": "HTMLView",
            "description": "",
            "description_tooltip": null,
            "layout": "IPY_MODEL_63971a9d80c74fc19d99e2150150e7fd",
            "placeholder": "​",
            "style": "IPY_MODEL_efaffb59993e41f39cab592465e52418",
            "value": "tokenizer.json: 100%"
          }
        },
        "4d0a614bf18e4596aa76e9a92fa85985": {
          "model_module": "@jupyter-widgets/controls",
          "model_name": "FloatProgressModel",
          "model_module_version": "1.5.0",
          "state": {
            "_dom_classes": [],
            "_model_module": "@jupyter-widgets/controls",
            "_model_module_version": "1.5.0",
            "_model_name": "FloatProgressModel",
            "_view_count": null,
            "_view_module": "@jupyter-widgets/controls",
            "_view_module_version": "1.5.0",
            "_view_name": "ProgressView",
            "bar_style": "success",
            "description": "",
            "description_tooltip": null,
            "layout": "IPY_MODEL_22638ead3d4d4681a33e951a4b8a846d",
            "max": 1355863,
            "min": 0,
            "orientation": "horizontal",
            "style": "IPY_MODEL_c8d0667e9d1b40d5b3f77f1d2a2c5eb1",
            "value": 1355863
          }
        },
        "b501963412414666a82eaba781a10c0a": {
          "model_module": "@jupyter-widgets/controls",
          "model_name": "HTMLModel",
          "model_module_version": "1.5.0",
          "state": {
            "_dom_classes": [],
            "_model_module": "@jupyter-widgets/controls",
            "_model_module_version": "1.5.0",
            "_model_name": "HTMLModel",
            "_view_count": null,
            "_view_module": "@jupyter-widgets/controls",
            "_view_module_version": "1.5.0",
            "_view_name": "HTMLView",
            "description": "",
            "description_tooltip": null,
            "layout": "IPY_MODEL_e4275796e5c046fe806cabaf5c349728",
            "placeholder": "​",
            "style": "IPY_MODEL_d834c1823905451a9bdfd732687bb432",
            "value": " 1.36M/1.36M [00:00&lt;00:00, 4.66MB/s]"
          }
        },
        "42e3c0f2f6934523be128e5fc462abf8": {
          "model_module": "@jupyter-widgets/base",
          "model_name": "LayoutModel",
          "model_module_version": "1.2.0",
          "state": {
            "_model_module": "@jupyter-widgets/base",
            "_model_module_version": "1.2.0",
            "_model_name": "LayoutModel",
            "_view_count": null,
            "_view_module": "@jupyter-widgets/base",
            "_view_module_version": "1.2.0",
            "_view_name": "LayoutView",
            "align_content": null,
            "align_items": null,
            "align_self": null,
            "border": null,
            "bottom": null,
            "display": null,
            "flex": null,
            "flex_flow": null,
            "grid_area": null,
            "grid_auto_columns": null,
            "grid_auto_flow": null,
            "grid_auto_rows": null,
            "grid_column": null,
            "grid_gap": null,
            "grid_row": null,
            "grid_template_areas": null,
            "grid_template_columns": null,
            "grid_template_rows": null,
            "height": null,
            "justify_content": null,
            "justify_items": null,
            "left": null,
            "margin": null,
            "max_height": null,
            "max_width": null,
            "min_height": null,
            "min_width": null,
            "object_fit": null,
            "object_position": null,
            "order": null,
            "overflow": null,
            "overflow_x": null,
            "overflow_y": null,
            "padding": null,
            "right": null,
            "top": null,
            "visibility": null,
            "width": null
          }
        },
        "63971a9d80c74fc19d99e2150150e7fd": {
          "model_module": "@jupyter-widgets/base",
          "model_name": "LayoutModel",
          "model_module_version": "1.2.0",
          "state": {
            "_model_module": "@jupyter-widgets/base",
            "_model_module_version": "1.2.0",
            "_model_name": "LayoutModel",
            "_view_count": null,
            "_view_module": "@jupyter-widgets/base",
            "_view_module_version": "1.2.0",
            "_view_name": "LayoutView",
            "align_content": null,
            "align_items": null,
            "align_self": null,
            "border": null,
            "bottom": null,
            "display": null,
            "flex": null,
            "flex_flow": null,
            "grid_area": null,
            "grid_auto_columns": null,
            "grid_auto_flow": null,
            "grid_auto_rows": null,
            "grid_column": null,
            "grid_gap": null,
            "grid_row": null,
            "grid_template_areas": null,
            "grid_template_columns": null,
            "grid_template_rows": null,
            "height": null,
            "justify_content": null,
            "justify_items": null,
            "left": null,
            "margin": null,
            "max_height": null,
            "max_width": null,
            "min_height": null,
            "min_width": null,
            "object_fit": null,
            "object_position": null,
            "order": null,
            "overflow": null,
            "overflow_x": null,
            "overflow_y": null,
            "padding": null,
            "right": null,
            "top": null,
            "visibility": null,
            "width": null
          }
        },
        "efaffb59993e41f39cab592465e52418": {
          "model_module": "@jupyter-widgets/controls",
          "model_name": "DescriptionStyleModel",
          "model_module_version": "1.5.0",
          "state": {
            "_model_module": "@jupyter-widgets/controls",
            "_model_module_version": "1.5.0",
            "_model_name": "DescriptionStyleModel",
            "_view_count": null,
            "_view_module": "@jupyter-widgets/base",
            "_view_module_version": "1.2.0",
            "_view_name": "StyleView",
            "description_width": ""
          }
        },
        "22638ead3d4d4681a33e951a4b8a846d": {
          "model_module": "@jupyter-widgets/base",
          "model_name": "LayoutModel",
          "model_module_version": "1.2.0",
          "state": {
            "_model_module": "@jupyter-widgets/base",
            "_model_module_version": "1.2.0",
            "_model_name": "LayoutModel",
            "_view_count": null,
            "_view_module": "@jupyter-widgets/base",
            "_view_module_version": "1.2.0",
            "_view_name": "LayoutView",
            "align_content": null,
            "align_items": null,
            "align_self": null,
            "border": null,
            "bottom": null,
            "display": null,
            "flex": null,
            "flex_flow": null,
            "grid_area": null,
            "grid_auto_columns": null,
            "grid_auto_flow": null,
            "grid_auto_rows": null,
            "grid_column": null,
            "grid_gap": null,
            "grid_row": null,
            "grid_template_areas": null,
            "grid_template_columns": null,
            "grid_template_rows": null,
            "height": null,
            "justify_content": null,
            "justify_items": null,
            "left": null,
            "margin": null,
            "max_height": null,
            "max_width": null,
            "min_height": null,
            "min_width": null,
            "object_fit": null,
            "object_position": null,
            "order": null,
            "overflow": null,
            "overflow_x": null,
            "overflow_y": null,
            "padding": null,
            "right": null,
            "top": null,
            "visibility": null,
            "width": null
          }
        },
        "c8d0667e9d1b40d5b3f77f1d2a2c5eb1": {
          "model_module": "@jupyter-widgets/controls",
          "model_name": "ProgressStyleModel",
          "model_module_version": "1.5.0",
          "state": {
            "_model_module": "@jupyter-widgets/controls",
            "_model_module_version": "1.5.0",
            "_model_name": "ProgressStyleModel",
            "_view_count": null,
            "_view_module": "@jupyter-widgets/base",
            "_view_module_version": "1.2.0",
            "_view_name": "StyleView",
            "bar_color": null,
            "description_width": ""
          }
        },
        "e4275796e5c046fe806cabaf5c349728": {
          "model_module": "@jupyter-widgets/base",
          "model_name": "LayoutModel",
          "model_module_version": "1.2.0",
          "state": {
            "_model_module": "@jupyter-widgets/base",
            "_model_module_version": "1.2.0",
            "_model_name": "LayoutModel",
            "_view_count": null,
            "_view_module": "@jupyter-widgets/base",
            "_view_module_version": "1.2.0",
            "_view_name": "LayoutView",
            "align_content": null,
            "align_items": null,
            "align_self": null,
            "border": null,
            "bottom": null,
            "display": null,
            "flex": null,
            "flex_flow": null,
            "grid_area": null,
            "grid_auto_columns": null,
            "grid_auto_flow": null,
            "grid_auto_rows": null,
            "grid_column": null,
            "grid_gap": null,
            "grid_row": null,
            "grid_template_areas": null,
            "grid_template_columns": null,
            "grid_template_rows": null,
            "height": null,
            "justify_content": null,
            "justify_items": null,
            "left": null,
            "margin": null,
            "max_height": null,
            "max_width": null,
            "min_height": null,
            "min_width": null,
            "object_fit": null,
            "object_position": null,
            "order": null,
            "overflow": null,
            "overflow_x": null,
            "overflow_y": null,
            "padding": null,
            "right": null,
            "top": null,
            "visibility": null,
            "width": null
          }
        },
        "d834c1823905451a9bdfd732687bb432": {
          "model_module": "@jupyter-widgets/controls",
          "model_name": "DescriptionStyleModel",
          "model_module_version": "1.5.0",
          "state": {
            "_model_module": "@jupyter-widgets/controls",
            "_model_module_version": "1.5.0",
            "_model_name": "DescriptionStyleModel",
            "_view_count": null,
            "_view_module": "@jupyter-widgets/base",
            "_view_module_version": "1.2.0",
            "_view_name": "StyleView",
            "description_width": ""
          }
        },
        "465a0fe5a12949acaa5be6ca995560cb": {
          "model_module": "@jupyter-widgets/controls",
          "model_name": "HBoxModel",
          "model_module_version": "1.5.0",
          "state": {
            "_dom_classes": [],
            "_model_module": "@jupyter-widgets/controls",
            "_model_module_version": "1.5.0",
            "_model_name": "HBoxModel",
            "_view_count": null,
            "_view_module": "@jupyter-widgets/controls",
            "_view_module_version": "1.5.0",
            "_view_name": "HBoxView",
            "box_style": "",
            "children": [
              "IPY_MODEL_e4d5911a44654f2d925efa183238ed10",
              "IPY_MODEL_b190ff7be329417fbb650426d54da5de",
              "IPY_MODEL_b11e3be2def547a5a913fa4e3dbe0777"
            ],
            "layout": "IPY_MODEL_a3c6b1dee37a4afd9e6518db997c6664"
          }
        },
        "e4d5911a44654f2d925efa183238ed10": {
          "model_module": "@jupyter-widgets/controls",
          "model_name": "HTMLModel",
          "model_module_version": "1.5.0",
          "state": {
            "_dom_classes": [],
            "_model_module": "@jupyter-widgets/controls",
            "_model_module_version": "1.5.0",
            "_model_name": "HTMLModel",
            "_view_count": null,
            "_view_module": "@jupyter-widgets/controls",
            "_view_module_version": "1.5.0",
            "_view_name": "HTMLView",
            "description": "",
            "description_tooltip": null,
            "layout": "IPY_MODEL_6edfdf5cfe6247e1b0604082300126cf",
            "placeholder": "​",
            "style": "IPY_MODEL_33badfedbd1a42ddaa7f8d186ef21ee1",
            "value": "config.json: 100%"
          }
        },
        "b190ff7be329417fbb650426d54da5de": {
          "model_module": "@jupyter-widgets/controls",
          "model_name": "FloatProgressModel",
          "model_module_version": "1.5.0",
          "state": {
            "_dom_classes": [],
            "_model_module": "@jupyter-widgets/controls",
            "_model_module_version": "1.5.0",
            "_model_name": "FloatProgressModel",
            "_view_count": null,
            "_view_module": "@jupyter-widgets/controls",
            "_view_module_version": "1.5.0",
            "_view_name": "ProgressView",
            "bar_style": "success",
            "description": "",
            "description_tooltip": null,
            "layout": "IPY_MODEL_cdfa879d687b4cdaacb5e5a6644c41c3",
            "max": 481,
            "min": 0,
            "orientation": "horizontal",
            "style": "IPY_MODEL_2565e3bcba074f739970fba6934e5794",
            "value": 481
          }
        },
        "b11e3be2def547a5a913fa4e3dbe0777": {
          "model_module": "@jupyter-widgets/controls",
          "model_name": "HTMLModel",
          "model_module_version": "1.5.0",
          "state": {
            "_dom_classes": [],
            "_model_module": "@jupyter-widgets/controls",
            "_model_module_version": "1.5.0",
            "_model_name": "HTMLModel",
            "_view_count": null,
            "_view_module": "@jupyter-widgets/controls",
            "_view_module_version": "1.5.0",
            "_view_name": "HTMLView",
            "description": "",
            "description_tooltip": null,
            "layout": "IPY_MODEL_a772d33d16bb432abedd1d78f07c3343",
            "placeholder": "​",
            "style": "IPY_MODEL_6b98c669eefa41c5a37c6c0baccfa3b6",
            "value": " 481/481 [00:00&lt;00:00, 52.9kB/s]"
          }
        },
        "a3c6b1dee37a4afd9e6518db997c6664": {
          "model_module": "@jupyter-widgets/base",
          "model_name": "LayoutModel",
          "model_module_version": "1.2.0",
          "state": {
            "_model_module": "@jupyter-widgets/base",
            "_model_module_version": "1.2.0",
            "_model_name": "LayoutModel",
            "_view_count": null,
            "_view_module": "@jupyter-widgets/base",
            "_view_module_version": "1.2.0",
            "_view_name": "LayoutView",
            "align_content": null,
            "align_items": null,
            "align_self": null,
            "border": null,
            "bottom": null,
            "display": null,
            "flex": null,
            "flex_flow": null,
            "grid_area": null,
            "grid_auto_columns": null,
            "grid_auto_flow": null,
            "grid_auto_rows": null,
            "grid_column": null,
            "grid_gap": null,
            "grid_row": null,
            "grid_template_areas": null,
            "grid_template_columns": null,
            "grid_template_rows": null,
            "height": null,
            "justify_content": null,
            "justify_items": null,
            "left": null,
            "margin": null,
            "max_height": null,
            "max_width": null,
            "min_height": null,
            "min_width": null,
            "object_fit": null,
            "object_position": null,
            "order": null,
            "overflow": null,
            "overflow_x": null,
            "overflow_y": null,
            "padding": null,
            "right": null,
            "top": null,
            "visibility": null,
            "width": null
          }
        },
        "6edfdf5cfe6247e1b0604082300126cf": {
          "model_module": "@jupyter-widgets/base",
          "model_name": "LayoutModel",
          "model_module_version": "1.2.0",
          "state": {
            "_model_module": "@jupyter-widgets/base",
            "_model_module_version": "1.2.0",
            "_model_name": "LayoutModel",
            "_view_count": null,
            "_view_module": "@jupyter-widgets/base",
            "_view_module_version": "1.2.0",
            "_view_name": "LayoutView",
            "align_content": null,
            "align_items": null,
            "align_self": null,
            "border": null,
            "bottom": null,
            "display": null,
            "flex": null,
            "flex_flow": null,
            "grid_area": null,
            "grid_auto_columns": null,
            "grid_auto_flow": null,
            "grid_auto_rows": null,
            "grid_column": null,
            "grid_gap": null,
            "grid_row": null,
            "grid_template_areas": null,
            "grid_template_columns": null,
            "grid_template_rows": null,
            "height": null,
            "justify_content": null,
            "justify_items": null,
            "left": null,
            "margin": null,
            "max_height": null,
            "max_width": null,
            "min_height": null,
            "min_width": null,
            "object_fit": null,
            "object_position": null,
            "order": null,
            "overflow": null,
            "overflow_x": null,
            "overflow_y": null,
            "padding": null,
            "right": null,
            "top": null,
            "visibility": null,
            "width": null
          }
        },
        "33badfedbd1a42ddaa7f8d186ef21ee1": {
          "model_module": "@jupyter-widgets/controls",
          "model_name": "DescriptionStyleModel",
          "model_module_version": "1.5.0",
          "state": {
            "_model_module": "@jupyter-widgets/controls",
            "_model_module_version": "1.5.0",
            "_model_name": "DescriptionStyleModel",
            "_view_count": null,
            "_view_module": "@jupyter-widgets/base",
            "_view_module_version": "1.2.0",
            "_view_name": "StyleView",
            "description_width": ""
          }
        },
        "cdfa879d687b4cdaacb5e5a6644c41c3": {
          "model_module": "@jupyter-widgets/base",
          "model_name": "LayoutModel",
          "model_module_version": "1.2.0",
          "state": {
            "_model_module": "@jupyter-widgets/base",
            "_model_module_version": "1.2.0",
            "_model_name": "LayoutModel",
            "_view_count": null,
            "_view_module": "@jupyter-widgets/base",
            "_view_module_version": "1.2.0",
            "_view_name": "LayoutView",
            "align_content": null,
            "align_items": null,
            "align_self": null,
            "border": null,
            "bottom": null,
            "display": null,
            "flex": null,
            "flex_flow": null,
            "grid_area": null,
            "grid_auto_columns": null,
            "grid_auto_flow": null,
            "grid_auto_rows": null,
            "grid_column": null,
            "grid_gap": null,
            "grid_row": null,
            "grid_template_areas": null,
            "grid_template_columns": null,
            "grid_template_rows": null,
            "height": null,
            "justify_content": null,
            "justify_items": null,
            "left": null,
            "margin": null,
            "max_height": null,
            "max_width": null,
            "min_height": null,
            "min_width": null,
            "object_fit": null,
            "object_position": null,
            "order": null,
            "overflow": null,
            "overflow_x": null,
            "overflow_y": null,
            "padding": null,
            "right": null,
            "top": null,
            "visibility": null,
            "width": null
          }
        },
        "2565e3bcba074f739970fba6934e5794": {
          "model_module": "@jupyter-widgets/controls",
          "model_name": "ProgressStyleModel",
          "model_module_version": "1.5.0",
          "state": {
            "_model_module": "@jupyter-widgets/controls",
            "_model_module_version": "1.5.0",
            "_model_name": "ProgressStyleModel",
            "_view_count": null,
            "_view_module": "@jupyter-widgets/base",
            "_view_module_version": "1.2.0",
            "_view_name": "StyleView",
            "bar_color": null,
            "description_width": ""
          }
        },
        "a772d33d16bb432abedd1d78f07c3343": {
          "model_module": "@jupyter-widgets/base",
          "model_name": "LayoutModel",
          "model_module_version": "1.2.0",
          "state": {
            "_model_module": "@jupyter-widgets/base",
            "_model_module_version": "1.2.0",
            "_model_name": "LayoutModel",
            "_view_count": null,
            "_view_module": "@jupyter-widgets/base",
            "_view_module_version": "1.2.0",
            "_view_name": "LayoutView",
            "align_content": null,
            "align_items": null,
            "align_self": null,
            "border": null,
            "bottom": null,
            "display": null,
            "flex": null,
            "flex_flow": null,
            "grid_area": null,
            "grid_auto_columns": null,
            "grid_auto_flow": null,
            "grid_auto_rows": null,
            "grid_column": null,
            "grid_gap": null,
            "grid_row": null,
            "grid_template_areas": null,
            "grid_template_columns": null,
            "grid_template_rows": null,
            "height": null,
            "justify_content": null,
            "justify_items": null,
            "left": null,
            "margin": null,
            "max_height": null,
            "max_width": null,
            "min_height": null,
            "min_width": null,
            "object_fit": null,
            "object_position": null,
            "order": null,
            "overflow": null,
            "overflow_x": null,
            "overflow_y": null,
            "padding": null,
            "right": null,
            "top": null,
            "visibility": null,
            "width": null
          }
        },
        "6b98c669eefa41c5a37c6c0baccfa3b6": {
          "model_module": "@jupyter-widgets/controls",
          "model_name": "DescriptionStyleModel",
          "model_module_version": "1.5.0",
          "state": {
            "_model_module": "@jupyter-widgets/controls",
            "_model_module_version": "1.5.0",
            "_model_name": "DescriptionStyleModel",
            "_view_count": null,
            "_view_module": "@jupyter-widgets/base",
            "_view_module_version": "1.2.0",
            "_view_name": "StyleView",
            "description_width": ""
          }
        },
        "16d568870c1049fbb6ca6170d2209360": {
          "model_module": "@jupyter-widgets/controls",
          "model_name": "HBoxModel",
          "model_module_version": "1.5.0",
          "state": {
            "_dom_classes": [],
            "_model_module": "@jupyter-widgets/controls",
            "_model_module_version": "1.5.0",
            "_model_name": "HBoxModel",
            "_view_count": null,
            "_view_module": "@jupyter-widgets/controls",
            "_view_module_version": "1.5.0",
            "_view_name": "HBoxView",
            "box_style": "",
            "children": [
              "IPY_MODEL_7595f6de190e43c287a02c95d6afc54b",
              "IPY_MODEL_f76b543494a04139be27d739dc845cca",
              "IPY_MODEL_a80ab5e3448e41a08fc16584352990c5"
            ],
            "layout": "IPY_MODEL_ca69a3e972e14ee381d2bb1387e59b3a"
          }
        },
        "7595f6de190e43c287a02c95d6afc54b": {
          "model_module": "@jupyter-widgets/controls",
          "model_name": "HTMLModel",
          "model_module_version": "1.5.0",
          "state": {
            "_dom_classes": [],
            "_model_module": "@jupyter-widgets/controls",
            "_model_module_version": "1.5.0",
            "_model_name": "HTMLModel",
            "_view_count": null,
            "_view_module": "@jupyter-widgets/controls",
            "_view_module_version": "1.5.0",
            "_view_name": "HTMLView",
            "description": "",
            "description_tooltip": null,
            "layout": "IPY_MODEL_f2710c5726724f3ca9da5dbcaffda898",
            "placeholder": "​",
            "style": "IPY_MODEL_219a7e5ddb8d47f79f082f99279ba89f",
            "value": "model.safetensors: 100%"
          }
        },
        "f76b543494a04139be27d739dc845cca": {
          "model_module": "@jupyter-widgets/controls",
          "model_name": "FloatProgressModel",
          "model_module_version": "1.5.0",
          "state": {
            "_dom_classes": [],
            "_model_module": "@jupyter-widgets/controls",
            "_model_module_version": "1.5.0",
            "_model_name": "FloatProgressModel",
            "_view_count": null,
            "_view_module": "@jupyter-widgets/controls",
            "_view_module_version": "1.5.0",
            "_view_name": "ProgressView",
            "bar_style": "success",
            "description": "",
            "description_tooltip": null,
            "layout": "IPY_MODEL_88a977f44796405fb3685f01d00fa1d2",
            "max": 498818054,
            "min": 0,
            "orientation": "horizontal",
            "style": "IPY_MODEL_db01a93a63ec49e98331a0cacc856ed0",
            "value": 498818054
          }
        },
        "a80ab5e3448e41a08fc16584352990c5": {
          "model_module": "@jupyter-widgets/controls",
          "model_name": "HTMLModel",
          "model_module_version": "1.5.0",
          "state": {
            "_dom_classes": [],
            "_model_module": "@jupyter-widgets/controls",
            "_model_module_version": "1.5.0",
            "_model_name": "HTMLModel",
            "_view_count": null,
            "_view_module": "@jupyter-widgets/controls",
            "_view_module_version": "1.5.0",
            "_view_name": "HTMLView",
            "description": "",
            "description_tooltip": null,
            "layout": "IPY_MODEL_b241984545c34f248ff99df9a3353f3c",
            "placeholder": "​",
            "style": "IPY_MODEL_31a27bee10274f2dbaf991923733d960",
            "value": " 499M/499M [00:12&lt;00:00, 50.1MB/s]"
          }
        },
        "ca69a3e972e14ee381d2bb1387e59b3a": {
          "model_module": "@jupyter-widgets/base",
          "model_name": "LayoutModel",
          "model_module_version": "1.2.0",
          "state": {
            "_model_module": "@jupyter-widgets/base",
            "_model_module_version": "1.2.0",
            "_model_name": "LayoutModel",
            "_view_count": null,
            "_view_module": "@jupyter-widgets/base",
            "_view_module_version": "1.2.0",
            "_view_name": "LayoutView",
            "align_content": null,
            "align_items": null,
            "align_self": null,
            "border": null,
            "bottom": null,
            "display": null,
            "flex": null,
            "flex_flow": null,
            "grid_area": null,
            "grid_auto_columns": null,
            "grid_auto_flow": null,
            "grid_auto_rows": null,
            "grid_column": null,
            "grid_gap": null,
            "grid_row": null,
            "grid_template_areas": null,
            "grid_template_columns": null,
            "grid_template_rows": null,
            "height": null,
            "justify_content": null,
            "justify_items": null,
            "left": null,
            "margin": null,
            "max_height": null,
            "max_width": null,
            "min_height": null,
            "min_width": null,
            "object_fit": null,
            "object_position": null,
            "order": null,
            "overflow": null,
            "overflow_x": null,
            "overflow_y": null,
            "padding": null,
            "right": null,
            "top": null,
            "visibility": null,
            "width": null
          }
        },
        "f2710c5726724f3ca9da5dbcaffda898": {
          "model_module": "@jupyter-widgets/base",
          "model_name": "LayoutModel",
          "model_module_version": "1.2.0",
          "state": {
            "_model_module": "@jupyter-widgets/base",
            "_model_module_version": "1.2.0",
            "_model_name": "LayoutModel",
            "_view_count": null,
            "_view_module": "@jupyter-widgets/base",
            "_view_module_version": "1.2.0",
            "_view_name": "LayoutView",
            "align_content": null,
            "align_items": null,
            "align_self": null,
            "border": null,
            "bottom": null,
            "display": null,
            "flex": null,
            "flex_flow": null,
            "grid_area": null,
            "grid_auto_columns": null,
            "grid_auto_flow": null,
            "grid_auto_rows": null,
            "grid_column": null,
            "grid_gap": null,
            "grid_row": null,
            "grid_template_areas": null,
            "grid_template_columns": null,
            "grid_template_rows": null,
            "height": null,
            "justify_content": null,
            "justify_items": null,
            "left": null,
            "margin": null,
            "max_height": null,
            "max_width": null,
            "min_height": null,
            "min_width": null,
            "object_fit": null,
            "object_position": null,
            "order": null,
            "overflow": null,
            "overflow_x": null,
            "overflow_y": null,
            "padding": null,
            "right": null,
            "top": null,
            "visibility": null,
            "width": null
          }
        },
        "219a7e5ddb8d47f79f082f99279ba89f": {
          "model_module": "@jupyter-widgets/controls",
          "model_name": "DescriptionStyleModel",
          "model_module_version": "1.5.0",
          "state": {
            "_model_module": "@jupyter-widgets/controls",
            "_model_module_version": "1.5.0",
            "_model_name": "DescriptionStyleModel",
            "_view_count": null,
            "_view_module": "@jupyter-widgets/base",
            "_view_module_version": "1.2.0",
            "_view_name": "StyleView",
            "description_width": ""
          }
        },
        "88a977f44796405fb3685f01d00fa1d2": {
          "model_module": "@jupyter-widgets/base",
          "model_name": "LayoutModel",
          "model_module_version": "1.2.0",
          "state": {
            "_model_module": "@jupyter-widgets/base",
            "_model_module_version": "1.2.0",
            "_model_name": "LayoutModel",
            "_view_count": null,
            "_view_module": "@jupyter-widgets/base",
            "_view_module_version": "1.2.0",
            "_view_name": "LayoutView",
            "align_content": null,
            "align_items": null,
            "align_self": null,
            "border": null,
            "bottom": null,
            "display": null,
            "flex": null,
            "flex_flow": null,
            "grid_area": null,
            "grid_auto_columns": null,
            "grid_auto_flow": null,
            "grid_auto_rows": null,
            "grid_column": null,
            "grid_gap": null,
            "grid_row": null,
            "grid_template_areas": null,
            "grid_template_columns": null,
            "grid_template_rows": null,
            "height": null,
            "justify_content": null,
            "justify_items": null,
            "left": null,
            "margin": null,
            "max_height": null,
            "max_width": null,
            "min_height": null,
            "min_width": null,
            "object_fit": null,
            "object_position": null,
            "order": null,
            "overflow": null,
            "overflow_x": null,
            "overflow_y": null,
            "padding": null,
            "right": null,
            "top": null,
            "visibility": null,
            "width": null
          }
        },
        "db01a93a63ec49e98331a0cacc856ed0": {
          "model_module": "@jupyter-widgets/controls",
          "model_name": "ProgressStyleModel",
          "model_module_version": "1.5.0",
          "state": {
            "_model_module": "@jupyter-widgets/controls",
            "_model_module_version": "1.5.0",
            "_model_name": "ProgressStyleModel",
            "_view_count": null,
            "_view_module": "@jupyter-widgets/base",
            "_view_module_version": "1.2.0",
            "_view_name": "StyleView",
            "bar_color": null,
            "description_width": ""
          }
        },
        "b241984545c34f248ff99df9a3353f3c": {
          "model_module": "@jupyter-widgets/base",
          "model_name": "LayoutModel",
          "model_module_version": "1.2.0",
          "state": {
            "_model_module": "@jupyter-widgets/base",
            "_model_module_version": "1.2.0",
            "_model_name": "LayoutModel",
            "_view_count": null,
            "_view_module": "@jupyter-widgets/base",
            "_view_module_version": "1.2.0",
            "_view_name": "LayoutView",
            "align_content": null,
            "align_items": null,
            "align_self": null,
            "border": null,
            "bottom": null,
            "display": null,
            "flex": null,
            "flex_flow": null,
            "grid_area": null,
            "grid_auto_columns": null,
            "grid_auto_flow": null,
            "grid_auto_rows": null,
            "grid_column": null,
            "grid_gap": null,
            "grid_row": null,
            "grid_template_areas": null,
            "grid_template_columns": null,
            "grid_template_rows": null,
            "height": null,
            "justify_content": null,
            "justify_items": null,
            "left": null,
            "margin": null,
            "max_height": null,
            "max_width": null,
            "min_height": null,
            "min_width": null,
            "object_fit": null,
            "object_position": null,
            "order": null,
            "overflow": null,
            "overflow_x": null,
            "overflow_y": null,
            "padding": null,
            "right": null,
            "top": null,
            "visibility": null,
            "width": null
          }
        },
        "31a27bee10274f2dbaf991923733d960": {
          "model_module": "@jupyter-widgets/controls",
          "model_name": "DescriptionStyleModel",
          "model_module_version": "1.5.0",
          "state": {
            "_model_module": "@jupyter-widgets/controls",
            "_model_module_version": "1.5.0",
            "_model_name": "DescriptionStyleModel",
            "_view_count": null,
            "_view_module": "@jupyter-widgets/base",
            "_view_module_version": "1.2.0",
            "_view_name": "StyleView",
            "description_width": ""
          }
        }
      }
    }
  },
  "cells": [
    {
      "cell_type": "markdown",
      "metadata": {
        "id": "view-in-github",
        "colab_type": "text"
      },
      "source": [
        "<a href=\"https://colab.research.google.com/github/masterinfo/COURS_ELEARNING/blob/master/roberta_book_ml_tuto2.ipynb\" target=\"_parent\"><img src=\"https://colab.research.google.com/assets/colab-badge.svg\" alt=\"Open In Colab\"/></a>"
      ]
    },
    {
      "cell_type": "code",
      "execution_count": 1,
      "metadata": {
        "colab": {
          "base_uri": "https://localhost:8080/"
        },
        "id": "GKVvuVFKrTbU",
        "outputId": "9c08541e-ac68-4842-c113-67f25dc6f4be"
      },
      "outputs": [
        {
          "output_type": "stream",
          "name": "stdout",
          "text": [
            "    book_id                  book_name    genre  \\\n",
            "0   3248537          Drowned Wednesday  Fantasy   \n",
            "1  27796919              The Lost Hero  Fantasy   \n",
            "2   3910776  The Eyes of the Overworld  Fantasy   \n",
            "3   5969644            Magic's Promise  Fantasy   \n",
            "4   3173445             Taran Wanderer  Fantasy   \n",
            "\n",
            "                                             summary  \n",
            "0   Drowned Wednesday is the first Trustee among ...  \n",
            "1   As the book opens, Jason awakens on a school ...  \n",
            "2   Cugel is easily persuaded by the merchant Fia...  \n",
            "3   The book opens with Herald-Mage Vanyel return...  \n",
            "4   Taran and Gurgi have returned to Caer Dallben...  \n"
          ]
        }
      ],
      "source": [
        "# Charger le modèle fichier de datas du drive\n",
        "import pandas as pd\n",
        "books = pd.read_csv('drive/MyDrive/roberta_books/BooksDataSet.csv')\n",
        "books = books.drop(['Unnamed: 0'], axis=1)\n",
        "print(books.head())\n"
      ]
    },
    {
      "cell_type": "markdown",
      "source": [
        "informations sur le dataset"
      ],
      "metadata": {
        "id": "kiweYsrysPXn"
      }
    },
    {
      "cell_type": "code",
      "source": [
        "print(books.info())"
      ],
      "metadata": {
        "colab": {
          "base_uri": "https://localhost:8080/"
        },
        "id": "sdQY-OLgsGQn",
        "outputId": "e418b185-9bcd-47bf-908b-cc758ca32fbf"
      },
      "execution_count": 2,
      "outputs": [
        {
          "output_type": "stream",
          "name": "stdout",
          "text": [
            "<class 'pandas.core.frame.DataFrame'>\n",
            "RangeIndex: 3000 entries, 0 to 2999\n",
            "Data columns (total 4 columns):\n",
            " #   Column     Non-Null Count  Dtype \n",
            "---  ------     --------------  ----- \n",
            " 0   book_id    3000 non-null   int64 \n",
            " 1   book_name  3000 non-null   object\n",
            " 2   genre      3000 non-null   object\n",
            " 3   summary    3000 non-null   object\n",
            "dtypes: int64(1), object(3)\n",
            "memory usage: 93.9+ KB\n",
            "None\n"
          ]
        }
      ]
    },
    {
      "cell_type": "markdown",
      "source": [
        "nombre de genres du dataset"
      ],
      "metadata": {
        "id": "dnPHQPyFsKT_"
      }
    },
    {
      "cell_type": "code",
      "source": [
        "print(books['genre'].value_counts())\n",
        "genre_counts = books['genre'].value_counts()"
      ],
      "metadata": {
        "colab": {
          "base_uri": "https://localhost:8080/"
        },
        "id": "EiuWHS6csJF8",
        "outputId": "646b42a8-0c76-493f-b6f7-5627f584b76e"
      },
      "execution_count": 3,
      "outputs": [
        {
          "output_type": "stream",
          "name": "stdout",
          "text": [
            "genre\n",
            "Fantasy             500\n",
            "Science Fiction     500\n",
            "Crime Fiction       500\n",
            "Historical novel    500\n",
            "Horror              500\n",
            "Thriller            500\n",
            "Name: count, dtype: int64\n"
          ]
        }
      ]
    },
    {
      "cell_type": "markdown",
      "source": [
        "affichage des ratio de genres de livres dans un camembert"
      ],
      "metadata": {
        "id": "E2o5SPUtsqyt"
      }
    },
    {
      "cell_type": "code",
      "source": [
        "\n",
        "import matplotlib.pyplot as plt\n",
        "# Assuming 'genre' column exists in the 'books' DataFrame\n",
        "genre_counts = books['genre'].value_counts()\n",
        "# Create the pie chart\n",
        "plt.figure(figsize=(4, 4)) # Adjust figure size as needed\n",
        "plt.pie(genre_counts, labels=genre_counts.index, autopct='%1.1f%%', startangle=90)\n",
        "plt.title('Distribution of Book Genres')\n",
        "plt.axis('equal') # Equal aspect ratio ensures that the pie chart is circular\n",
        "plt.show()\n"
      ],
      "metadata": {
        "colab": {
          "base_uri": "https://localhost:8080/",
          "height": 367
        },
        "id": "ydJV_FWaspnK",
        "outputId": "33976f11-5d2e-476f-cc93-2835bd0449b5"
      },
      "execution_count": 4,
      "outputs": [
        {
          "output_type": "display_data",
          "data": {
            "text/plain": [
              "<Figure size 400x400 with 1 Axes>"
            ],
            "image/png": "[encoded data removed]"
          },
          "metadata": {}
        }
      ]
    },
    {
      "cell_type": "markdown",
      "source": [
        "affichage des ratio de genres de livres dans un diagramme en barres"
      ],
      "metadata": {
        "id": "bwmd_PFMtDoc"
      }
    },
    {
      "cell_type": "code",
      "source": [
        "import seaborn as sns\n",
        "plt.figure(figsize=(5, 3))\n",
        "sns.countplot(data=books, x='genre', order=books['genre'].value_counts().index, palette='viridis')\n",
        "plt.title('Number of Books per Genre')\n",
        "plt.xlabel('Genre')\n",
        "plt.ylabel('Number of Books')\n",
        "plt.xticks(rotation=45)\n",
        "plt.show()"
      ],
      "metadata": {
        "colab": {
          "base_uri": "https://localhost:8080/",
          "height": 514
        },
        "id": "zMcAn31KtFeT",
        "outputId": "44dbb927-1ede-4eb7-8dea-b7123fd9cb74"
      },
      "execution_count": 5,
      "outputs": [
        {
          "output_type": "stream",
          "name": "stderr",
          "text": [
            "/tmp/ipython-input-1254838737.py:3: FutureWarning: \n",
            "\n",
            "Passing `palette` without assigning `hue` is deprecated and will be removed in v0.14.0. Assign the `x` variable to `hue` and set `legend=False` for the same effect.\n",
            "\n",
            "  sns.countplot(data=books, x='genre', order=books['genre'].value_counts().index, palette='viridis')\n"
          ]
        },
        {
          "output_type": "display_data",
          "data": {
            "text/plain": [
              "<Figure size 500x300 with 1 Axes>"
            ],
            "image/png": "[encoded data removed]"
          },
          "metadata": {}
        }
      ]
    },
    {
      "cell_type": "markdown",
      "source": [
        "Retirer les caracteres et symboles spéciaux et mettre en minuscules"
      ],
      "metadata": {
        "id": "Xhzs9X1mtYsm"
      }
    },
    {
      "cell_type": "code",
      "source": [
        "print(\" avant -------------------------------\")\n",
        "print(books['summary'].iloc[1])\n",
        "import re\n",
        "def clean_text(text):\n",
        "    # Remove special symbols and convert text to lowercase in one step\n",
        "    text = re.sub(r\"[^a-zA-Z\\s]\", \"\", text).lower()\n",
        "    # Remove extra whitespaces\n",
        "    text = ' '.join(text.split())\n",
        "    return text\n",
        "\n",
        "books['summary'] = books['summary'].apply(clean_text)\n",
        "print(\" après -------------------------------\")\n",
        "print(books['summary'].iloc[1])"
      ],
      "metadata": {
        "colab": {
          "base_uri": "https://localhost:8080/"
        },
        "id": "GuqvP3EpteuM",
        "outputId": "a73333a4-91d8-4a9e-e270-bb93d05e4f15"
      },
      "execution_count": 6,
      "outputs": [
        {
          "output_type": "stream",
          "name": "stdout",
          "text": [
            " avant -------------------------------\n",
            " As the book opens, Jason awakens on a school bus, unable to remember who or where he is, or anything about his past. He is sitting next to Piper McLean and Leo Valdez, who call him by name and say they are his girlfriend and best friend respectively. All three are part of a class field trip to the Grand Canyon, and after they arrive, a classmate Dylan turns into a Venti (Storm Spirit) and attacks the trio and their trip leader, Coach Gleeson Hedge. In the ensuing fight, Jason surprises everyone, including himself, when one of his coins turns into a sword which he uses to battle the storm spirits. Coach Hedge, who reveals himself to be a satyr during the fight, is taken captive by a fleeing spirit. After the battle, a flying chariot arrives to rescue the trio, but one of the people in it, Annabeth, is upset when she discovers that her missing boyfriend, Percy Jackson, is not there as she expected. Annabeth, seeking Percy, was told in a vision from the goddess Hera to look there for the \"guy with one shoe\", but this turns out to be Jason, who had a shoe destroyed during the fight. Jason, Piper,and Leo are told that they are demigods and are taken back to Camp Half-Blood where they meet other greek demigod children like themselves. There, Leo is revealed as a son of Hephaestus, Piper as a daughter of Aphrodite and Jason as a son of Zeus, though Hera tells him he is her champion. Jason later discovers that he is the full brother of Zeus's demigod daughter Thalia Grace, who is a Hunter of Artemis. Shortly after they arrive, the three are given a quest to rescue Hera, who has been captured, and they set off. They soon discover that their enemies are working under orders from Gaea to overthrow the gods. During their quest, they encounter Thalia and the Hunters, who have been looking for Percy. Thalia and Jason reunite for the first since Jason was captured at the age of two. On the way to Aeolus's castle, Jason, Leo and Piper become separated from Thalia, who promises to meet them at the Wolf House, the last place Thalia had seen Jason before this meeting. After being nearly apprehended by Aeolus, who is under Gaea's orders, the trio manage to escape thanks to Mellie, Aeolus`s former assistant, and end up in San Francisco, thanks to the result of a dream Piper had with Aphrodite. After landing in San Francisco, the trio rush to Mt.Diablo to fight the giant Enceladus, who has kidnapped Piper's father. They manage to kill the giant and save Piper's father, after which they rush to the Wolf House to free Hera. Although the heroes and the Hunters save Hera, the king of the giants, Porphyrion, rises fully and disappears into a hole in the Earth. Jason's memory then starts returning, and he remembers that he is a hero from a Roman counterpart to Camp Half-Blood somewhere near San Francisco, and is the son of Jupiter, Zeus's Roman aspect. He realizes that Hera, also known as Juno, has switched him with Percy Jackson, who will be at the Roman camp with no memory of his life, in the hopes that the two camps would ultimately work together to fight the giants and defeat the goddess Gaea.\n",
            " après -------------------------------\n",
            "as the book opens jason awakens on a school bus unable to remember who or where he is or anything about his past he is sitting next to piper mclean and leo valdez who call him by name and say they are his girlfriend and best friend respectively all three are part of a class field trip to the grand canyon and after they arrive a classmate dylan turns into a venti storm spirit and attacks the trio and their trip leader coach gleeson hedge in the ensuing fight jason surprises everyone including himself when one of his coins turns into a sword which he uses to battle the storm spirits coach hedge who reveals himself to be a satyr during the fight is taken captive by a fleeing spirit after the battle a flying chariot arrives to rescue the trio but one of the people in it annabeth is upset when she discovers that her missing boyfriend percy jackson is not there as she expected annabeth seeking percy was told in a vision from the goddess hera to look there for the guy with one shoe but this turns out to be jason who had a shoe destroyed during the fight jason piperand leo are told that they are demigods and are taken back to camp halfblood where they meet other greek demigod children like themselves there leo is revealed as a son of hephaestus piper as a daughter of aphrodite and jason as a son of zeus though hera tells him he is her champion jason later discovers that he is the full brother of zeuss demigod daughter thalia grace who is a hunter of artemis shortly after they arrive the three are given a quest to rescue hera who has been captured and they set off they soon discover that their enemies are working under orders from gaea to overthrow the gods during their quest they encounter thalia and the hunters who have been looking for percy thalia and jason reunite for the first since jason was captured at the age of two on the way to aeoluss castle jason leo and piper become separated from thalia who promises to meet them at the wolf house the last place thalia had seen jason before this meeting after being nearly apprehended by aeolus who is under gaeas orders the trio manage to escape thanks to mellie aeoluss former assistant and end up in san francisco thanks to the result of a dream piper had with aphrodite after landing in san francisco the trio rush to mtdiablo to fight the giant enceladus who has kidnapped pipers father they manage to kill the giant and save pipers father after which they rush to the wolf house to free hera although the heroes and the hunters save hera the king of the giants porphyrion rises fully and disappears into a hole in the earth jasons memory then starts returning and he remembers that he is a hero from a roman counterpart to camp halfblood somewhere near san francisco and is the son of jupiter zeuss roman aspect he realizes that hera also known as juno has switched him with percy jackson who will be at the roman camp with no memory of his life in the hopes that the two camps would ultimately work together to fight the giants and defeat the goddess gaea\n"
          ]
        }
      ]
    },
    {
      "cell_type": "markdown",
      "source": [
        "Supression des \"stopwords\" anglais ( les mots ou termes inutiles a la compréhension )"
      ],
      "metadata": {
        "id": "EBKRgzBrucGR"
      }
    },
    {
      "cell_type": "code",
      "source": [
        "import nltk\n",
        "nltk.download('stopwords')\n",
        "from nltk.corpus import stopwords\n",
        "# Set of English stopwords\n",
        "stop_words = set(stopwords.words('english'))\n",
        "# Function to remove stopwords\n",
        "\n",
        "print(\"Stop words:\", stop_words)\n",
        "print(\"Number of stop words:\", len(stop_words))\n",
        "print(\"\\n\")\n",
        "\n",
        "print(\"Example avec le numero 3 ***********************\")\n",
        "print(\"   --------------------avant suppression des stop_words--------------------------\")\n",
        "\n",
        "print(books['summary'].iloc[3])\n",
        "print(\"  ************************************************\")\n",
        "def remove_stopwords(text):\n",
        "    return ' '.join([word for word in text.split() if word not in stop_words])\n",
        "    # Apply the function to the 'summary' column\n",
        "books['summary'] = books['summary'].apply(remove_stopwords)#remmove stopwords from the 'summary' column\n",
        "print(\"  --------------------apres suppression des stop_words-----------------\")\n",
        "print(\"\\n\")\n",
        "print(books['summary'].iloc[3])\n",
        "print(\"  ************************************************\")"
      ],
      "metadata": {
        "colab": {
          "base_uri": "https://localhost:8080/"
        },
        "id": "g04u0VOQubV6",
        "outputId": "6110d2cc-2e14-4cc4-fdb2-beb3b3f5987c"
      },
      "execution_count": 7,
      "outputs": [
        {
          "output_type": "stream",
          "name": "stderr",
          "text": [
            "[nltk_data] Downloading package stopwords to /root/nltk_data...\n",
            "[nltk_data]   Unzipping corpora/stopwords.zip.\n"
          ]
        },
        {
          "output_type": "stream",
          "name": "stdout",
          "text": [
            "Stop words: {'be', 'hadn', 'hasn', 'my', 'if', \"she's\", 'by', 'who', 'out', 'so', 'their', 'mightn', 'an', 'are', 'herself', \"she'd\", 'from', \"he's\", \"needn't\", 'under', 'over', 'mustn', 'with', 'couldn', 'wouldn', 'the', 'theirs', \"couldn't\", \"mustn't\", \"they're\", 'of', 'we', 'will', 'those', 'ours', \"shouldn't\", \"doesn't\", 'y', 'but', 'doing', 'themselves', 'about', \"you've\", 're', 'there', 'you', \"won't\", 'myself', \"hasn't\", 'any', \"hadn't\", 'should', \"he'd\", \"i'd\", 'above', 'too', 'than', 'wasn', \"i'll\", 'its', 'yours', 'few', 'which', 'to', 'they', 'when', 'ourselves', \"that'll\", 'am', \"i've\", 'have', 'hers', 'same', 'o', \"you'd\", \"you're\", 'nor', \"they'll\", 'each', 'his', 't', 'a', 'how', 'not', 'shan', \"she'll\", 'needn', 'yourselves', 'had', 'own', 'only', 'being', 'during', 'it', 'i', \"wasn't\", 'was', 'itself', 'off', 'into', 'in', 'aren', \"isn't\", 'other', \"shan't\", 'most', \"you'll\", 'him', 'both', 'for', 'at', \"he'll\", 'won', 'is', \"don't\", 'further', 'and', 'once', \"haven't\", 'very', 'she', 'through', 'did', 'does', 'because', 'here', 'our', 'weren', 'shouldn', 'before', 'on', \"it'll\", 'more', 'do', 'until', 'isn', 'no', \"mightn't\", \"wouldn't\", 'these', 'then', \"they've\", 'between', 'd', \"should've\", 'can', \"aren't\", 'or', 'himself', 'now', 'why', \"it's\", 'were', 'again', 'ain', 'having', 'what', \"didn't\", 'm', 'ma', 'me', \"i'm\", 'whom', \"we're\", 'don', 'that', 'll', \"they'd\", 'down', 's', 'against', 'some', 've', \"we'll\", \"weren't\", 'been', 'he', 'such', 'them', \"we'd\", 'didn', 'after', 'has', 'below', 'this', \"it'd\", 'while', \"we've\", 'doesn', 'as', 'your', 'her', 'haven', 'up', 'all', 'where', 'yourself', 'just'}\n",
            "Number of stop words: 198\n",
            "\n",
            "\n",
            "Example avec le numero 3 ***********************\n",
            "   --------------------avant suppression des stop_words--------------------------\n",
            "the book opens with heraldmage vanyel returning to his country valdemar from an extensive campaign along the border with karse the neighboring enemy country he checks in with valdemars king randale and his lifebonded mate shavri and their daughter jisa only a select few know that jisa is vanyels daughter because king randale is sterile he had asked vanyel to father an heir now shavri confides in vanyel her fear that randale is mortally ill vanyel and his mentor savil return to vanyels family home at forst reach where they find little rest or peace his parents both try to change his mind about being shayachern or homosexual vanyel becomes somewhat confused about his own sexuality he wonders if he is truly in love with shavri yfandes vanyels companion doesnt buy it and finds the situation amusing vanyel also meets his illegitimate nephew medren medren is small for his age as vanyel was and like him it appears that he is often bullied by the armsmaster jervis the boy has a powerful bardic gift and vanyel sponsors him for the bardic collegium vanyel confronts jervis and learns that the armsmaster is not being intentionally rough he also apologizes for beating vanyel long ago and explains his difficult position with vanyels father he also mentions that he knew vanyel was shayachern from the beginning but also knew from his army service that being gay does not keep men from being courageous warriors vanyel accepts this and they form an uneasy friendship the main plot focuses on how vanyel assists young prince tashir remoerdis vanyel and yandes receive a psychic summons into the neighboring country of lineas upon arrival they find tashir who has just become a herald with his companion leshya nicknamed ghost by yfandes another herald lores is beating the child and attacks ghost when he tries to interfere he believes that tashir is actually an evil sorcerer who has murdered his own family vanyel immediately stops lores and commands him to return to valdemar vanyel takes tashir back to his own home forst reach and begins to try and discover what truly happened to tashirs family he then returns to lineas disguised as a minstrel to gather information in lineas magic is taboo no one is supposed to perform it for any reason it shares a border with baires a country ruled by the mavelan a family of mages a treaty was signed to end the warring between the two countries sealed by the marriage of tashirs parents in the treaty there exists a clause that if the royal family of lineas dies out the mavelan can take over the lineas throne and vice versa vanyel meets an old servant of the remoerdis family who tells him of tashirs sad childhood tashir was physically and emotionally abused by his father and sexually abused by his mother his mother was mentally unstable and made seductive overtures to tashir even as a young child tashir looks very much like his mothers uncle vedric and rumor has it that he is the product of an incestuous affair between them returning to forst reach vanyel recruits savil and jervis to help together with tashir they return to lineas breaking through the palaces magic shields to search the place they find a secret room which contains a heartstone an ordinary rock connected with a magical node which is keeping a deep dangerous fault sealed as the stone was unstable and any magic done in the area could disturb it a guardian family without magic was appointed if the stone were to be removed a giant earthquake would occur destroying lineas parts of the outlands and the border of valdemar that was why magic was anathema in lineas and also why everyone in the palace was blood related member of the remoerdis family sworn to protect the node in the palace vanyel and savil discover a trapspell which targets one person and also kills the targets entire family tashirs family were the victims of the trapspell which was placed by tashirs uncle vedric whose intention is to control both lineas and baires he is not however tashirs father vedric tries the same trick on vanyel who has already caught on and sent savil away along with tashir while keeping jervis with him in defending himself vanyel ends up killing most of the baires family as well as vedric now king of both baires and lineas tashir considers himself too young and inexperienced he allows king randale to annex the two smaller countries into valdemar vanyel finally sorts out that he actually is gay and that shavri is just a good friend\n",
            "  ************************************************\n",
            "  --------------------apres suppression des stop_words-----------------\n",
            "\n",
            "\n",
            "book opens heraldmage vanyel returning country valdemar extensive campaign along border karse neighboring enemy country checks valdemars king randale lifebonded mate shavri daughter jisa select know jisa vanyels daughter king randale sterile asked vanyel father heir shavri confides vanyel fear randale mortally ill vanyel mentor savil return vanyels family home forst reach find little rest peace parents try change mind shayachern homosexual vanyel becomes somewhat confused sexuality wonders truly love shavri yfandes vanyels companion doesnt buy finds situation amusing vanyel also meets illegitimate nephew medren medren small age vanyel like appears often bullied armsmaster jervis boy powerful bardic gift vanyel sponsors bardic collegium vanyel confronts jervis learns armsmaster intentionally rough also apologizes beating vanyel long ago explains difficult position vanyels father also mentions knew vanyel shayachern beginning also knew army service gay keep men courageous warriors vanyel accepts form uneasy friendship main plot focuses vanyel assists young prince tashir remoerdis vanyel yandes receive psychic summons neighboring country lineas upon arrival find tashir become herald companion leshya nicknamed ghost yfandes another herald lores beating child attacks ghost tries interfere believes tashir actually evil sorcerer murdered family vanyel immediately stops lores commands return valdemar vanyel takes tashir back home forst reach begins try discover truly happened tashirs family returns lineas disguised minstrel gather information lineas magic taboo one supposed perform reason shares border baires country ruled mavelan family mages treaty signed end warring two countries sealed marriage tashirs parents treaty exists clause royal family lineas dies mavelan take lineas throne vice versa vanyel meets old servant remoerdis family tells tashirs sad childhood tashir physically emotionally abused father sexually abused mother mother mentally unstable made seductive overtures tashir even young child tashir looks much like mothers uncle vedric rumor product incestuous affair returning forst reach vanyel recruits savil jervis help together tashir return lineas breaking palaces magic shields search place find secret room contains heartstone ordinary rock connected magical node keeping deep dangerous fault sealed stone unstable magic done area could disturb guardian family without magic appointed stone removed giant earthquake would occur destroying lineas parts outlands border valdemar magic anathema lineas also everyone palace blood related member remoerdis family sworn protect node palace vanyel savil discover trapspell targets one person also kills targets entire family tashirs family victims trapspell placed tashirs uncle vedric whose intention control lineas baires however tashirs father vedric tries trick vanyel already caught sent savil away along tashir keeping jervis defending vanyel ends killing baires family well vedric king baires lineas tashir considers young inexperienced allows king randale annex two smaller countries valdemar vanyel finally sorts actually gay shavri good friend\n",
            "  ************************************************\n"
          ]
        }
      ]
    },
    {
      "cell_type": "markdown",
      "source": [
        "stemming et tokenization (cad reduire chaque mot a leur racine )"
      ],
      "metadata": {
        "id": "mdGUT_mGwmvQ"
      }
    },
    {
      "cell_type": "code",
      "source": [
        "import nltk\n",
        "from nltk.stem import PorterStemmer\n",
        "from nltk.tokenize import word_tokenize\n",
        "nltk.download('punkt_tab')\n",
        "stemmer = PorterStemmer()# Initialize the Porter Stemmer\n",
        "\n",
        "print(\" avant  tokenization et stemming : ***********************\")\n",
        "print(books['summary'].iloc[3])\n",
        "\n",
        "# Function to stem text\n",
        "\n",
        "word= word_tokenize(books['summary'].iloc[3])\n",
        "stemmed_word = [stemmer.stem(word) for word in word]\n",
        "print(\" apres tokenization puis stemming : ***********************\")\n",
        "print(stemmed_word)\n",
        "print(\"\\n\")\n"
      ],
      "metadata": {
        "colab": {
          "base_uri": "https://localhost:8080/"
        },
        "id": "h3nU4ioCyNY_",
        "outputId": "257895eb-3e63-4766-ff09-b51da55b6deb"
      },
      "execution_count": 8,
      "outputs": [
        {
          "output_type": "stream",
          "name": "stdout",
          "text": [
            " avant  tokenization et stemming : ***********************\n",
            "book opens heraldmage vanyel returning country valdemar extensive campaign along border karse neighboring enemy country checks valdemars king randale lifebonded mate shavri daughter jisa select know jisa vanyels daughter king randale sterile asked vanyel father heir shavri confides vanyel fear randale mortally ill vanyel mentor savil return vanyels family home forst reach find little rest peace parents try change mind shayachern homosexual vanyel becomes somewhat confused sexuality wonders truly love shavri yfandes vanyels companion doesnt buy finds situation amusing vanyel also meets illegitimate nephew medren medren small age vanyel like appears often bullied armsmaster jervis boy powerful bardic gift vanyel sponsors bardic collegium vanyel confronts jervis learns armsmaster intentionally rough also apologizes beating vanyel long ago explains difficult position vanyels father also mentions knew vanyel shayachern beginning also knew army service gay keep men courageous warriors vanyel accepts form uneasy friendship main plot focuses vanyel assists young prince tashir remoerdis vanyel yandes receive psychic summons neighboring country lineas upon arrival find tashir become herald companion leshya nicknamed ghost yfandes another herald lores beating child attacks ghost tries interfere believes tashir actually evil sorcerer murdered family vanyel immediately stops lores commands return valdemar vanyel takes tashir back home forst reach begins try discover truly happened tashirs family returns lineas disguised minstrel gather information lineas magic taboo one supposed perform reason shares border baires country ruled mavelan family mages treaty signed end warring two countries sealed marriage tashirs parents treaty exists clause royal family lineas dies mavelan take lineas throne vice versa vanyel meets old servant remoerdis family tells tashirs sad childhood tashir physically emotionally abused father sexually abused mother mother mentally unstable made seductive overtures tashir even young child tashir looks much like mothers uncle vedric rumor product incestuous affair returning forst reach vanyel recruits savil jervis help together tashir return lineas breaking palaces magic shields search place find secret room contains heartstone ordinary rock connected magical node keeping deep dangerous fault sealed stone unstable magic done area could disturb guardian family without magic appointed stone removed giant earthquake would occur destroying lineas parts outlands border valdemar magic anathema lineas also everyone palace blood related member remoerdis family sworn protect node palace vanyel savil discover trapspell targets one person also kills targets entire family tashirs family victims trapspell placed tashirs uncle vedric whose intention control lineas baires however tashirs father vedric tries trick vanyel already caught sent savil away along tashir keeping jervis defending vanyel ends killing baires family well vedric king baires lineas tashir considers young inexperienced allows king randale annex two smaller countries valdemar vanyel finally sorts actually gay shavri good friend\n"
          ]
        },
        {
          "output_type": "stream",
          "name": "stderr",
          "text": [
            "[nltk_data] Downloading package punkt_tab to /root/nltk_data...\n",
            "[nltk_data]   Unzipping tokenizers/punkt_tab.zip.\n"
          ]
        },
        {
          "output_type": "stream",
          "name": "stdout",
          "text": [
            " apres tokenization puis stemming : ***********************\n",
            "['book', 'open', 'heraldmag', 'vanyel', 'return', 'countri', 'valdemar', 'extens', 'campaign', 'along', 'border', 'kars', 'neighbor', 'enemi', 'countri', 'check', 'valdemar', 'king', 'randal', 'lifebond', 'mate', 'shavri', 'daughter', 'jisa', 'select', 'know', 'jisa', 'vanyel', 'daughter', 'king', 'randal', 'steril', 'ask', 'vanyel', 'father', 'heir', 'shavri', 'confid', 'vanyel', 'fear', 'randal', 'mortal', 'ill', 'vanyel', 'mentor', 'savil', 'return', 'vanyel', 'famili', 'home', 'forst', 'reach', 'find', 'littl', 'rest', 'peac', 'parent', 'tri', 'chang', 'mind', 'shayachern', 'homosexu', 'vanyel', 'becom', 'somewhat', 'confus', 'sexual', 'wonder', 'truli', 'love', 'shavri', 'yfand', 'vanyel', 'companion', 'doesnt', 'buy', 'find', 'situat', 'amus', 'vanyel', 'also', 'meet', 'illegitim', 'nephew', 'medren', 'medren', 'small', 'age', 'vanyel', 'like', 'appear', 'often', 'bulli', 'armsmast', 'jervi', 'boy', 'power', 'bardic', 'gift', 'vanyel', 'sponsor', 'bardic', 'collegium', 'vanyel', 'confront', 'jervi', 'learn', 'armsmast', 'intent', 'rough', 'also', 'apolog', 'beat', 'vanyel', 'long', 'ago', 'explain', 'difficult', 'posit', 'vanyel', 'father', 'also', 'mention', 'knew', 'vanyel', 'shayachern', 'begin', 'also', 'knew', 'armi', 'servic', 'gay', 'keep', 'men', 'courag', 'warrior', 'vanyel', 'accept', 'form', 'uneasi', 'friendship', 'main', 'plot', 'focus', 'vanyel', 'assist', 'young', 'princ', 'tashir', 'remoerdi', 'vanyel', 'yand', 'receiv', 'psychic', 'summon', 'neighbor', 'countri', 'linea', 'upon', 'arriv', 'find', 'tashir', 'becom', 'herald', 'companion', 'leshya', 'nicknam', 'ghost', 'yfand', 'anoth', 'herald', 'lore', 'beat', 'child', 'attack', 'ghost', 'tri', 'interfer', 'believ', 'tashir', 'actual', 'evil', 'sorcer', 'murder', 'famili', 'vanyel', 'immedi', 'stop', 'lore', 'command', 'return', 'valdemar', 'vanyel', 'take', 'tashir', 'back', 'home', 'forst', 'reach', 'begin', 'tri', 'discov', 'truli', 'happen', 'tashir', 'famili', 'return', 'linea', 'disguis', 'minstrel', 'gather', 'inform', 'linea', 'magic', 'taboo', 'one', 'suppos', 'perform', 'reason', 'share', 'border', 'bair', 'countri', 'rule', 'mavelan', 'famili', 'mage', 'treati', 'sign', 'end', 'war', 'two', 'countri', 'seal', 'marriag', 'tashir', 'parent', 'treati', 'exist', 'claus', 'royal', 'famili', 'linea', 'die', 'mavelan', 'take', 'linea', 'throne', 'vice', 'versa', 'vanyel', 'meet', 'old', 'servant', 'remoerdi', 'famili', 'tell', 'tashir', 'sad', 'childhood', 'tashir', 'physic', 'emot', 'abus', 'father', 'sexual', 'abus', 'mother', 'mother', 'mental', 'unstabl', 'made', 'seduct', 'overtur', 'tashir', 'even', 'young', 'child', 'tashir', 'look', 'much', 'like', 'mother', 'uncl', 'vedric', 'rumor', 'product', 'incestu', 'affair', 'return', 'forst', 'reach', 'vanyel', 'recruit', 'savil', 'jervi', 'help', 'togeth', 'tashir', 'return', 'linea', 'break', 'palac', 'magic', 'shield', 'search', 'place', 'find', 'secret', 'room', 'contain', 'heartston', 'ordinari', 'rock', 'connect', 'magic', 'node', 'keep', 'deep', 'danger', 'fault', 'seal', 'stone', 'unstabl', 'magic', 'done', 'area', 'could', 'disturb', 'guardian', 'famili', 'without', 'magic', 'appoint', 'stone', 'remov', 'giant', 'earthquak', 'would', 'occur', 'destroy', 'linea', 'part', 'outland', 'border', 'valdemar', 'magic', 'anathema', 'linea', 'also', 'everyon', 'palac', 'blood', 'relat', 'member', 'remoerdi', 'famili', 'sworn', 'protect', 'node', 'palac', 'vanyel', 'savil', 'discov', 'trapspel', 'target', 'one', 'person', 'also', 'kill', 'target', 'entir', 'famili', 'tashir', 'famili', 'victim', 'trapspel', 'place', 'tashir', 'uncl', 'vedric', 'whose', 'intent', 'control', 'linea', 'bair', 'howev', 'tashir', 'father', 'vedric', 'tri', 'trick', 'vanyel', 'alreadi', 'caught', 'sent', 'savil', 'away', 'along', 'tashir', 'keep', 'jervi', 'defend', 'vanyel', 'end', 'kill', 'bair', 'famili', 'well', 'vedric', 'king', 'bair', 'linea', 'tashir', 'consid', 'young', 'inexperienc', 'allow', 'king', 'randal', 'annex', 'two', 'smaller', 'countri', 'valdemar', 'vanyel', 'final', 'sort', 'actual', 'gay', 'shavri', 'good', 'friend']\n",
            "\n",
            "\n"
          ]
        }
      ]
    },
    {
      "cell_type": "markdown",
      "source": [
        "\n",
        "\n",
        "---\n",
        "\n",
        "\n",
        "\n",
        "---\n",
        "\n"
      ],
      "metadata": {
        "id": "I_E7ZmO0zBvK"
      }
    },
    {
      "cell_type": "markdown",
      "source": [
        "Creation d'un classe"
      ],
      "metadata": {
        "id": "l06AGHB0zDOf"
      }
    },
    {
      "cell_type": "code",
      "source": [
        "\n",
        "\n",
        "import nltk\n",
        "from nltk.stem import PorterStemmer\n",
        "from nltk.tokenize import word_tokenize\n",
        "from nltk.corpus import stopwords\n",
        "import pandas as pd\n",
        "# Download required NLTK data\n",
        "nltk.download('punkt', quiet=True)\n",
        "nltk.download('stopwords', quiet=True)\n",
        "nltk.download('omw-1.4', quiet=True)\n",
        "\n",
        "'''Ce code Python définit une classe TextStemmer qui permet de traiter efficacement\n",
        "des textes en anglais : il réalise le \"stemming\" (réduction des mots à leur racine)\n",
        " et peut aussi supprimer les mots vides (stopwords).'''\n",
        "class TextStemmer:\n",
        "    def __init__(self, remove_stopwords=False):\n",
        "        \"\"\"\n",
        "        Initialize stemmer with optional stopword removal.\n",
        "        Args:\n",
        "        remove_stopwords (bool): Whether to remove stopwords during processing\n",
        "        \"\"\"\n",
        "        self.stemmer = PorterStemmer()# Initialize the Porter Stemmer\n",
        "        self.stem_cache = {}\n",
        "        self.remove_stopwords = remove_stopwords\n",
        "        if remove_stopwords:\n",
        "            self.stop_words = set(stopwords.words('english'))\n",
        "\n",
        "    def stem_text(self, text):\n",
        "        \"\"\"\n",
        "        Stem text efficiently using caching and optimized string joining.\n",
        "        Args:\n",
        "        text (str): Input text to stem\n",
        "        Returns:\n",
        "        str: Stemmed text\n",
        "        \"\"\"\n",
        "        if not isinstance(text, str):\n",
        "            return \"\"\n",
        "        # Tokenize and convert to lowercase once\n",
        "        words = word_tokenize(text.lower())\n",
        "        # Filter stopwords if enabled\n",
        "        if self.remove_stopwords:\n",
        "            words = [word for word in words if word not in self.stop_words]\n",
        "        # Use list comprehension with cache lookup for stemming\n",
        "        stemmed_words = [\n",
        "            self.stem_cache.setdefault(word, self.stemmer.stem(word))\n",
        "            for word in words\n",
        "        ]\n",
        "        # Join words efficiently\n",
        "        return ' '.join(stemmed_words)\n",
        "    def process_dataframe(self, df, column):\n",
        "        \"\"\"\n",
        "        Process an entire dataframe column efficiently.\n",
        "        Args:\n",
        "        df (pd.DataFrame): Input dataframe\n",
        "        column (str): Column name to process\n",
        "        Returns:\n",
        "        pd.Series: Series with stemmed text\n",
        "        \"\"\"\n",
        "        return df[column].astype(str).apply(self.stem_text)\n",
        "    def get_example(self, df, column, index):\n",
        "        \"\"\"\n",
        "        Get a specific example from the processed dataframe.\n",
        "        Args:\n",
        "        df (pd.DataFrame): Input dataframe\n",
        "        column (str): Column name\n",
        "        index (int): Row index\n",
        "        Returns:\n",
        "        str: Processed text at specified index\n",
        "        \"\"\"\n",
        "        return df[column].iloc[index]"
      ],
      "metadata": {
        "id": "sPUQwzkgy5OW"
      },
      "execution_count": 9,
      "outputs": []
    },
    {
      "cell_type": "markdown",
      "source": [
        "Instanciation et utilisation"
      ],
      "metadata": {
        "id": "9Sd_62xvzSnO"
      }
    },
    {
      "cell_type": "code",
      "source": [
        "books_old = books.copy()  # Keep a copy of the original DataFrame\n",
        "\n",
        "stemmer_instance = TextStemmer(remove_stopwords=True) # Initialize with stopword removal\n",
        "print(f\" avant stemming: {books['summary'].iloc[3]}\")\n",
        "print(books['summary'].iloc[3])\n",
        "# Process the entire dataframe\n",
        "books['summary'] = stemmer_instance.process_dataframe(books, 'summary')\n",
        "# Get specific example\n",
        "print(\"-----------------------------------------------------------------\")\n",
        "print(f\" apres stemming: {books['summary'].iloc[3]}\")\n",
        "\n"
      ],
      "metadata": {
        "colab": {
          "base_uri": "https://localhost:8080/"
        },
        "collapsed": true,
        "id": "t9SS2DykzYVQ",
        "outputId": "e2831611-456c-4479-e27d-1c97f19b10d6"
      },
      "execution_count": 10,
      "outputs": [
        {
          "output_type": "stream",
          "name": "stdout",
          "text": [
            " avant stemming: book opens heraldmage vanyel returning country valdemar extensive campaign along border karse neighboring enemy country checks valdemars king randale lifebonded mate shavri daughter jisa select know jisa vanyels daughter king randale sterile asked vanyel father heir shavri confides vanyel fear randale mortally ill vanyel mentor savil return vanyels family home forst reach find little rest peace parents try change mind shayachern homosexual vanyel becomes somewhat confused sexuality wonders truly love shavri yfandes vanyels companion doesnt buy finds situation amusing vanyel also meets illegitimate nephew medren medren small age vanyel like appears often bullied armsmaster jervis boy powerful bardic gift vanyel sponsors bardic collegium vanyel confronts jervis learns armsmaster intentionally rough also apologizes beating vanyel long ago explains difficult position vanyels father also mentions knew vanyel shayachern beginning also knew army service gay keep men courageous warriors vanyel accepts form uneasy friendship main plot focuses vanyel assists young prince tashir remoerdis vanyel yandes receive psychic summons neighboring country lineas upon arrival find tashir become herald companion leshya nicknamed ghost yfandes another herald lores beating child attacks ghost tries interfere believes tashir actually evil sorcerer murdered family vanyel immediately stops lores commands return valdemar vanyel takes tashir back home forst reach begins try discover truly happened tashirs family returns lineas disguised minstrel gather information lineas magic taboo one supposed perform reason shares border baires country ruled mavelan family mages treaty signed end warring two countries sealed marriage tashirs parents treaty exists clause royal family lineas dies mavelan take lineas throne vice versa vanyel meets old servant remoerdis family tells tashirs sad childhood tashir physically emotionally abused father sexually abused mother mother mentally unstable made seductive overtures tashir even young child tashir looks much like mothers uncle vedric rumor product incestuous affair returning forst reach vanyel recruits savil jervis help together tashir return lineas breaking palaces magic shields search place find secret room contains heartstone ordinary rock connected magical node keeping deep dangerous fault sealed stone unstable magic done area could disturb guardian family without magic appointed stone removed giant earthquake would occur destroying lineas parts outlands border valdemar magic anathema lineas also everyone palace blood related member remoerdis family sworn protect node palace vanyel savil discover trapspell targets one person also kills targets entire family tashirs family victims trapspell placed tashirs uncle vedric whose intention control lineas baires however tashirs father vedric tries trick vanyel already caught sent savil away along tashir keeping jervis defending vanyel ends killing baires family well vedric king baires lineas tashir considers young inexperienced allows king randale annex two smaller countries valdemar vanyel finally sorts actually gay shavri good friend\n",
            "book opens heraldmage vanyel returning country valdemar extensive campaign along border karse neighboring enemy country checks valdemars king randale lifebonded mate shavri daughter jisa select know jisa vanyels daughter king randale sterile asked vanyel father heir shavri confides vanyel fear randale mortally ill vanyel mentor savil return vanyels family home forst reach find little rest peace parents try change mind shayachern homosexual vanyel becomes somewhat confused sexuality wonders truly love shavri yfandes vanyels companion doesnt buy finds situation amusing vanyel also meets illegitimate nephew medren medren small age vanyel like appears often bullied armsmaster jervis boy powerful bardic gift vanyel sponsors bardic collegium vanyel confronts jervis learns armsmaster intentionally rough also apologizes beating vanyel long ago explains difficult position vanyels father also mentions knew vanyel shayachern beginning also knew army service gay keep men courageous warriors vanyel accepts form uneasy friendship main plot focuses vanyel assists young prince tashir remoerdis vanyel yandes receive psychic summons neighboring country lineas upon arrival find tashir become herald companion leshya nicknamed ghost yfandes another herald lores beating child attacks ghost tries interfere believes tashir actually evil sorcerer murdered family vanyel immediately stops lores commands return valdemar vanyel takes tashir back home forst reach begins try discover truly happened tashirs family returns lineas disguised minstrel gather information lineas magic taboo one supposed perform reason shares border baires country ruled mavelan family mages treaty signed end warring two countries sealed marriage tashirs parents treaty exists clause royal family lineas dies mavelan take lineas throne vice versa vanyel meets old servant remoerdis family tells tashirs sad childhood tashir physically emotionally abused father sexually abused mother mother mentally unstable made seductive overtures tashir even young child tashir looks much like mothers uncle vedric rumor product incestuous affair returning forst reach vanyel recruits savil jervis help together tashir return lineas breaking palaces magic shields search place find secret room contains heartstone ordinary rock connected magical node keeping deep dangerous fault sealed stone unstable magic done area could disturb guardian family without magic appointed stone removed giant earthquake would occur destroying lineas parts outlands border valdemar magic anathema lineas also everyone palace blood related member remoerdis family sworn protect node palace vanyel savil discover trapspell targets one person also kills targets entire family tashirs family victims trapspell placed tashirs uncle vedric whose intention control lineas baires however tashirs father vedric tries trick vanyel already caught sent savil away along tashir keeping jervis defending vanyel ends killing baires family well vedric king baires lineas tashir considers young inexperienced allows king randale annex two smaller countries valdemar vanyel finally sorts actually gay shavri good friend\n",
            "-----------------------------------------------------------------\n",
            " apres stemming: book open heraldmag vanyel return countri valdemar extens campaign along border kars neighbor enemi countri check valdemar king randal lifebond mate shavri daughter jisa select know jisa vanyel daughter king randal steril ask vanyel father heir shavri confid vanyel fear randal mortal ill vanyel mentor savil return vanyel famili home forst reach find littl rest peac parent tri chang mind shayachern homosexu vanyel becom somewhat confus sexual wonder truli love shavri yfand vanyel companion doesnt buy find situat amus vanyel also meet illegitim nephew medren medren small age vanyel like appear often bulli armsmast jervi boy power bardic gift vanyel sponsor bardic collegium vanyel confront jervi learn armsmast intent rough also apolog beat vanyel long ago explain difficult posit vanyel father also mention knew vanyel shayachern begin also knew armi servic gay keep men courag warrior vanyel accept form uneasi friendship main plot focus vanyel assist young princ tashir remoerdi vanyel yand receiv psychic summon neighbor countri linea upon arriv find tashir becom herald companion leshya nicknam ghost yfand anoth herald lore beat child attack ghost tri interfer believ tashir actual evil sorcer murder famili vanyel immedi stop lore command return valdemar vanyel take tashir back home forst reach begin tri discov truli happen tashir famili return linea disguis minstrel gather inform linea magic taboo one suppos perform reason share border bair countri rule mavelan famili mage treati sign end war two countri seal marriag tashir parent treati exist claus royal famili linea die mavelan take linea throne vice versa vanyel meet old servant remoerdi famili tell tashir sad childhood tashir physic emot abus father sexual abus mother mother mental unstabl made seduct overtur tashir even young child tashir look much like mother uncl vedric rumor product incestu affair return forst reach vanyel recruit savil jervi help togeth tashir return linea break palac magic shield search place find secret room contain heartston ordinari rock connect magic node keep deep danger fault seal stone unstabl magic done area could disturb guardian famili without magic appoint stone remov giant earthquak would occur destroy linea part outland border valdemar magic anathema linea also everyon palac blood relat member remoerdi famili sworn protect node palac vanyel savil discov trapspel target one person also kill target entir famili tashir famili victim trapspel place tashir uncl vedric whose intent control linea bair howev tashir father vedric tri trick vanyel alreadi caught sent savil away along tashir keep jervi defend vanyel end kill bair famili well vedric king bair linea tashir consid young inexperienc allow king randal annex two smaller countri valdemar vanyel final sort actual gay shavri good friend\n"
          ]
        }
      ]
    },
    {
      "cell_type": "markdown",
      "source": [
        "application a la ligne 10"
      ],
      "metadata": {
        "id": "E9UxAscC4IxM"
      }
    },
    {
      "cell_type": "code",
      "source": [
        "\n",
        "print(books_old['summary'].iloc[10])\n",
        "\n",
        "example = stemmer_instance.get_example(books, 'summary', 10)\n",
        "print(f\"Processed example: \\n{example}\")"
      ],
      "metadata": {
        "colab": {
          "base_uri": "https://localhost:8080/"
        },
        "id": "sN_7uAp94IAs",
        "outputId": "14741d45-a5f4-43d6-f5bc-e627c54151c6"
      },
      "execution_count": 11,
      "outputs": [
        {
          "output_type": "stream",
          "name": "stdout",
          "text": [
            "rhys mason former monk majere begins novel trying escape death knight auseric krell rhys retrieved soul dark knight ariakan imprisoned chemosh khas piece hands piece zeboim sends rhys nightshade back solace sheriff gerard seeks others counsel mounting beloved situation rhys agrees gerard stay solace help way possible encounter beloved rhys nightshade atta rhys dog head creature eventually ending new port rhys finally finds brother lleu beloved introduced first dark disciple novel tracking ever since elsewhere mina imprisoned new tower magic istar bottom blood sea newly erected dark god magic nuitari conclave wizards meeting nuitari reveals cousins tower three agree erect three towers high sorcery one back tower mina begins task set chemosh searching solia febalas hall sacrilege found unable take anything chemosh becomes overwhelmed godpresence hall finally nuitari returns gives mina zeboim begun assault upon tower zeboim takes mina first new port rhys brother meet mina vision rhys insists knows truth rhys brother also pleads mina take life beloved wishes longer mina answer zeboim gives back chemosh irate mina getting artifacts growing increasingly agitated beloved follow command resist krell rhys tails brother finally confronts along new port authority brother tries kill woman womans child attacks beloved behalf mother beloved instantly destroyed leaving child comalike state krell decides would chemoshs best interest krell would kill mina imprisoned chemosh tries follow plan mina something extraordinary makes human believes chemosh would want pulls tower istar sea bottom places top island middle ocean passing exertion novel ends major minor gods showing pondering nature unconscious mina majere finally reveals mina fact god like one light swayed corrupted somehow dark queen takhisis\n",
            "Processed example: \n",
            "rhi mason former monk majer begin novel tri escap death knight auser krell rhi retriev soul dark knight ariakan imprison chemosh kha piec hand piec zeboim send rhi nightshad back solac sheriff gerard seek other counsel mount belov situat rhi agre gerard stay solac help way possibl encount belov rhi nightshad atta rhi dog head creatur eventu end new port rhi final find brother lleu belov introduc first dark discipl novel track ever sinc elsewher mina imprison new tower magic istar bottom blood sea newli erect dark god magic nuitari conclav wizard meet nuitari reveal cousin tower three agre erect three tower high sorceri one back tower mina begin task set chemosh search solia febala hall sacrileg found unabl take anyth chemosh becom overwhelm godpres hall final nuitari return give mina zeboim begun assault upon tower zeboim take mina first new port rhi brother meet mina vision rhi insist know truth rhi brother also plead mina take life belov wish longer mina answer zeboim give back chemosh irat mina get artifact grow increasingli agit belov follow command resist krell rhi tail brother final confront along new port author brother tri kill woman woman child attack belov behalf mother belov instantli destroy leav child comalik state krell decid would chemosh best interest krell would kill mina imprison chemosh tri follow plan mina someth extraordinari make human believ chemosh would want pull tower istar sea bottom place top island middl ocean pass exert novel end major minor god show ponder natur unconsci mina majer final reveal mina fact god like one light sway corrupt somehow dark queen takhisi\n"
          ]
        }
      ]
    },
    {
      "cell_type": "markdown",
      "source": [
        "Convertion du genre en numerique"
      ],
      "metadata": {
        "id": "giDU1qP-315I"
      }
    },
    {
      "cell_type": "code",
      "source": [
        "print(books_old.head())\n",
        "\n",
        "# Convert 'genre' column to numerical values using factorization\n",
        "books['genre'] = pd.factorize(books['genre'])[0]\n",
        "\n",
        "\n",
        "# Display the first few rows of the modified DataFrame\n",
        "\n",
        "print(books.head())"
      ],
      "metadata": {
        "colab": {
          "base_uri": "https://localhost:8080/"
        },
        "id": "pebWqvbkzawb",
        "outputId": "a4e3a8d5-ef21-4024-c7da-e4994782f067"
      },
      "execution_count": 12,
      "outputs": [
        {
          "output_type": "stream",
          "name": "stdout",
          "text": [
            "    book_id                  book_name    genre  \\\n",
            "0   3248537          Drowned Wednesday  Fantasy   \n",
            "1  27796919              The Lost Hero  Fantasy   \n",
            "2   3910776  The Eyes of the Overworld  Fantasy   \n",
            "3   5969644            Magic's Promise  Fantasy   \n",
            "4   3173445             Taran Wanderer  Fantasy   \n",
            "\n",
            "                                             summary  \n",
            "0  drowned wednesday first trustee among morrow d...  \n",
            "1  book opens jason awakens school bus unable rem...  \n",
            "2  cugel easily persuaded merchant fianosther att...  \n",
            "3  book opens heraldmage vanyel returning country...  \n",
            "4  taran gurgi returned caer dallben following ev...  \n",
            "    book_id                  book_name  genre  \\\n",
            "0   3248537          Drowned Wednesday      0   \n",
            "1  27796919              The Lost Hero      0   \n",
            "2   3910776  The Eyes of the Overworld      0   \n",
            "3   5969644            Magic's Promise      0   \n",
            "4   3173445             Taran Wanderer      0   \n",
            "\n",
            "                                             summary  \n",
            "0  drown wednesday first truste among morrow day ...  \n",
            "1  book open jason awaken school bu unabl rememb ...  \n",
            "2  cugel easili persuad merchant fianosth attempt...  \n",
            "3  book open heraldmag vanyel return countri vald...  \n",
            "4  taran gurgi return caer dallben follow event t...  \n"
          ]
        }
      ]
    },
    {
      "cell_type": "markdown",
      "source": [
        "Vectorization"
      ],
      "metadata": {
        "id": "gK1zUCor5-4j"
      }
    },
    {
      "cell_type": "code",
      "source": [
        "\n",
        "# Import necessary libraries for text vectorization\n",
        "from sklearn.feature_extraction.text import CountVectorizer\n",
        "#la vecteur de mots (bag of words) est une representation des textes\n",
        "\n",
        "count_vec = CountVectorizer(max_df=0.90,min_df=2,\n",
        "                            max_features=1000,stop_words='english')\n",
        "bagofword_vec = count_vec.fit_transform(books['summary'])\n",
        "print(bagofword_vec)\n"
      ],
      "metadata": {
        "colab": {
          "base_uri": "https://localhost:8080/"
        },
        "id": "qdH2tGTT596T",
        "outputId": "12446fa0-2c03-4565-85de-c4d6747ba4dc"
      },
      "execution_count": 13,
      "outputs": [
        {
          "output_type": "stream",
          "name": "stdout",
          "text": [
            "<Compressed Sparse Row sparse matrix of dtype 'int64'\n",
            "\twith 242226 stored elements and shape (3000, 1000)>\n",
            "  Coords\tValues\n",
            "  (0, 271)\t3\n",
            "  (0, 225)\t2\n",
            "  (0, 57)\t28\n",
            "  (0, 980)\t2\n",
            "  (0, 49)\t1\n",
            "  (0, 861)\t1\n",
            "  (0, 103)\t1\n",
            "  (0, 88)\t2\n",
            "  (0, 951)\t1\n",
            "  (0, 257)\t1\n",
            "  (0, 452)\t1\n",
            "  (0, 781)\t1\n",
            "  (0, 16)\t1\n",
            "  (0, 412)\t2\n",
            "  (0, 218)\t2\n",
            "  (0, 66)\t2\n",
            "  (0, 295)\t2\n",
            "  (0, 910)\t1\n",
            "  (0, 860)\t1\n",
            "  (0, 750)\t1\n",
            "  (0, 85)\t2\n",
            "  (0, 963)\t1\n",
            "  (0, 916)\t1\n",
            "  (0, 770)\t4\n",
            "  (0, 416)\t3\n",
            "  :\t:\n",
            "  (2999, 276)\t1\n",
            "  (2999, 284)\t1\n",
            "  (2999, 23)\t3\n",
            "  (2999, 800)\t2\n",
            "  (2999, 858)\t1\n",
            "  (2999, 394)\t2\n",
            "  (2999, 822)\t1\n",
            "  (2999, 648)\t9\n",
            "  (2999, 373)\t1\n",
            "  (2999, 492)\t1\n",
            "  (2999, 148)\t1\n",
            "  (2999, 688)\t1\n",
            "  (2999, 399)\t10\n",
            "  (2999, 719)\t2\n",
            "  (2999, 611)\t1\n",
            "  (2999, 731)\t2\n",
            "  (2999, 6)\t1\n",
            "  (2999, 301)\t1\n",
            "  (2999, 839)\t1\n",
            "  (2999, 475)\t1\n",
            "  (2999, 797)\t1\n",
            "  (2999, 329)\t2\n",
            "  (2999, 500)\t9\n",
            "  (2999, 547)\t2\n",
            "  (2999, 448)\t1\n"
          ]
        }
      ]
    },
    {
      "cell_type": "code",
      "source": [
        "#afficher le dictionnaire des mots\n",
        "print(\"Dictionnaire des mots (vocabulaire):\", count_vec.get_feature_names_out())"
      ],
      "metadata": {
        "colab": {
          "base_uri": "https://localhost:8080/"
        },
        "collapsed": true,
        "id": "di9VNTlv6w0j",
        "outputId": "726cba05-c236-41d7-bd6e-878fcba5372a"
      },
      "execution_count": 14,
      "outputs": [
        {
          "output_type": "stream",
          "name": "stdout",
          "text": [
            "Dictionnaire des mots (vocabulaire): ['abandon' 'abil' 'abl' 'aboard' 'abus' 'accept' 'accid' 'accident'\n",
            " 'accompani' 'accus' 'act' 'action' 'activ' 'actual' 'adam' 'admir'\n",
            " 'admit' 'adopt' 'advanc' 'adventur' 'affair' 'afterward' 'age' 'agent'\n",
            " 'ago' 'agre' 'aid' 'air' 'alex' 'alien' 'aliv' 'alli' 'allow' 'alon'\n",
            " 'alreadi' 'alway' 'america' 'american' 'ancient' 'angel' 'anim' 'anita'\n",
            " 'ann' 'anoth' 'answer' 'anyon' 'anyth' 'apart' 'appar' 'appear'\n",
            " 'approach' 'area' 'arm' 'armi' 'arrang' 'arrest' 'arriv' 'arthur' 'ask'\n",
            " 'assassin' 'assault' 'assign' 'assist' 'associ' 'assum' 'attack'\n",
            " 'attempt' 'attend' 'attent' 'attract' 'aubrey' 'aunt' 'author' 'avoid'\n",
            " 'awaken' 'away' 'babi' 'band' 'bank' 'base' 'battl' 'bear' 'beat'\n",
            " 'beauti' 'becam' 'becom' 'bed' 'befriend' 'begin' 'believ' 'ben' 'best'\n",
            " 'betray' 'better' 'big' 'billi' 'birth' 'black' 'blood' 'board' 'boat'\n",
            " 'bodi' 'bomb' 'book' 'born' 'bourn' 'box' 'boy' 'break' 'brief' 'bring'\n",
            " 'british' 'broken' 'brother' 'brought' 'brutal' 'buffi' 'build' 'buri'\n",
            " 'burn' 'busi' 'buy' 'came' 'camp' 'campion' 'capit' 'captain' 'captiv'\n",
            " 'captur' 'car' 'care' 'carri' 'case' 'castl' 'cat' 'catch' 'caught'\n",
            " 'caus' 'cave' 'center' 'central' 'centuri' 'certain' 'challeng' 'chanc'\n",
            " 'chang' 'chapter' 'charact' 'charg' 'charl' 'chase' 'chief' 'child'\n",
            " 'childhood' 'children' 'choic' 'choos' 'christian' 'christin' 'church'\n",
            " 'circl' 'citi' 'civil' 'claim' 'clan' 'clear' 'clone' 'close' 'cloth'\n",
            " 'clue' 'coast' 'cold' 'collect' 'colleg' 'colonel' 'coloni' 'come'\n",
            " 'command' 'commit' 'commun' 'compani' 'companion' 'complet' 'comput'\n",
            " 'concern' 'conclud' 'condit' 'confess' 'confirm' 'conflict' 'confront'\n",
            " 'connect' 'consid' 'contact' 'contain' 'continu' 'control' 'convers'\n",
            " 'convinc' 'corps' 'council' 'count' 'countri' 'coupl' 'cours' 'court'\n",
            " 'cousin' 'cover' 'crash' 'creat' 'creatur' 'crew' 'crime' 'crimin'\n",
            " 'cross' 'cultur' 'current' 'cut' 'damag' 'danc' 'danger' 'dark' 'darren'\n",
            " 'daughter' 'david' 'day' 'dead' 'deal' 'death' 'decid' 'decis' 'declar'\n",
            " 'deep' 'defeat' 'defend' 'deliv' 'demand' 'demon' 'depart' 'descend'\n",
            " 'describ' 'desert' 'design' 'desir' 'desper' 'despit' 'destroy'\n",
            " 'destruct' 'detect' 'determin' 'develop' 'die' 'differ' 'direct'\n",
            " 'disappear' 'discov' 'discoveri' 'discuss' 'disguis' 'doctor' 'doesnt'\n",
            " 'dog' 'domin' 'door' 'dr' 'dragon' 'draw' 'dream' 'drink' 'drive' 'drop'\n",
            " 'drown' 'drug' 'duel' 'duke' 'earli' 'earlier' 'earth' 'east' 'edward'\n",
            " 'effect' 'effort' 'elizabeth' 'els' 'emerg' 'emperor' 'empir' 'employ'\n",
            " 'encount' 'end' 'enemi' 'engag' 'engin' 'england' 'english' 'enter'\n",
            " 'entir' 'escap' 'especi' 'establish' 'estat' 'europ' 'event' 'eventu'\n",
            " 'everi' 'everyon' 'everyth' 'evid' 'evil' 'exchang' 'execut' 'exist'\n",
            " 'expect' 'expedit' 'experi' 'explain' 'explor' 'explos' 'extrem' 'eye'\n",
            " 'face' 'fact' 'fail' 'fall' 'famili' 'far' 'farm' 'fate' 'father' 'fbi'\n",
            " 'fear' 'feel' 'fellow' 'femal' 'fiction' 'field' 'fight' 'figur' 'final'\n",
            " 'finish' 'flee' 'fleet' 'fli' 'follow' 'food' 'forc' 'forest' 'form'\n",
            " 'fortun' 'franc' 'free' 'french' 'friend' 'futur' 'gain' 'game' 'gang'\n",
            " 'garden' 'gate' 'gather' 'gener' 'georg' 'german' 'ghost' 'ghote' 'giant'\n",
            " 'gift' 'girl' 'girlfriend' 'given' 'god' 'goe' 'gold' 'gone' 'good'\n",
            " 'govern' 'grandfath' 'grant' 'great' 'ground' 'group' 'grow' 'guard'\n",
            " 'guest' 'guid' 'gun' 'half' 'hand' 'hang' 'happen' 'happi' 'harri' 'head'\n",
            " 'heal' 'hear' 'heart' 'heir' 'held' 'help' 'henri' 'hero' 'hidden' 'hide'\n",
            " 'high' 'hire' 'histori' 'hit' 'hold' 'home' 'hope' 'hornblow' 'hors'\n",
            " 'hospit' 'hostag' 'hotel' 'hour' 'hous' 'howev' 'human' 'hundr' 'hunt'\n",
            " 'husband' 'idea' 'ident' 'identifi' 'ill' 'immedi' 'import' 'imprison'\n",
            " 'incid' 'includ' 'indian' 'infect' 'influenc' 'inform' 'inhabit'\n",
            " 'inherit' 'initi' 'injur' 'innoc' 'insid' 'insist' 'inspector' 'instead'\n",
            " 'instruct' 'intellig' 'intend' 'intent' 'interview' 'introduc' 'invad'\n",
            " 'investig' 'invit' 'involv' 'island' 'jack' 'jacki' 'jake' 'jame' 'jami'\n",
            " 'jason' 'jeanclaud' 'jimmi' 'job' 'joe' 'john' 'join' 'jonathan'\n",
            " 'journey' 'jump' 'kept' 'key' 'kid' 'kidnap' 'kill' 'killer' 'kind'\n",
            " 'king' 'kingdom' 'knew' 'knight' 'knock' 'know' 'knowledg' 'known' 'kyle'\n",
            " 'la' 'lack' 'ladi' 'lake' 'land' 'larg' 'late' 'later' 'law' 'lead'\n",
            " 'leader' 'learn' 'leav' 'led' 'lee' 'left' 'let' 'letter' 'level'\n",
            " 'librari' 'lie' 'life' 'light' 'like' 'line' 'link' 'littl' 'live'\n",
            " 'local' 'locat' 'lock' 'london' 'long' 'longer' 'look' 'lord' 'lose'\n",
            " 'loss' 'lost' 'loui' 'love' 'lover' 'luci' 'machin' 'magic' 'main'\n",
            " 'major' 'make' 'man' 'manag' 'mani' 'mari' 'mark' 'marri' 'marriag'\n",
            " 'master' 'matt' 'matter' 'max' 'mean' 'meanwhil' 'medic' 'meet' 'member'\n",
            " 'memori' 'men' 'mental' 'mention' 'messag' 'met' 'michael' 'middl'\n",
            " 'militari' 'million' 'mind' 'miss' 'mission' 'moment' 'money' 'monster'\n",
            " 'month' 'moon' 'morn' 'mother' 'motiv' 'mountain' 'mr' 'murder' 'mysteri'\n",
            " 'narrat' 'nation' 'nativ' 'natur' 'near' 'nearbi' 'nearli' 'need' 'new'\n",
            " 'news' 'night' 'normal' 'north' 'note' 'noth' 'notic' 'novel' 'nuclear'\n",
            " 'number' 'nurs' 'obtain' 'occur' 'odd' 'offer' 'offic' 'offici' 'old'\n",
            " 'older' 'open' 'oper' 'order' 'organ' 'origin' 'outsid' 'owner' 'pack'\n",
            " 'pain' 'paint' 'pair' 'palac' 'parent' 'pari' 'park' 'parti' 'partner'\n",
            " 'pass' 'past' 'paul' 'pay' 'peac' 'peopl' 'perci' 'perform' 'period'\n",
            " 'person' 'persuad' 'peter' 'philip' 'phone' 'physic' 'pick' 'piec'\n",
            " 'pirat' 'place' 'plan' 'plane' 'planet' 'plant' 'play' 'plot' 'point'\n",
            " 'poirot' 'poison' 'polic' 'polit' 'popul' 'posit' 'possess' 'possibl'\n",
            " 'power' 'pregnant' 'prepar' 'presenc' 'present' 'presid' 'prevent'\n",
            " 'previou' 'previous' 'priest' 'princ' 'princess' 'prison' 'privat'\n",
            " 'problem' 'process' 'professor' 'project' 'promis' 'propos' 'protagonist'\n",
            " 'protect' 'prove' 'provid' 'public' 'publish' 'pull' 'punish' 'purpos'\n",
            " 'pursu' 'queen' 'quest' 'question' 'quickli' 'race' 'rachel' 'raid'\n",
            " 'rais' 'rape' 'rat' 'reach' 'reacher' 'read' 'reader' 'real' 'realis'\n",
            " 'realiz' 'realli' 'reason' 'receiv' 'recent' 'recogn' 'record' 'recov'\n",
            " 'recruit' 'red' 'refer' 'refus' 'relat' 'relationship' 'releas' 'remain'\n",
            " 'rememb' 'remov' 'replac' 'report' 'repres' 'request' 'rescu' 'research'\n",
            " 'resid' 'resist' 'respect' 'respons' 'rest' 'restor' 'result' 'retir'\n",
            " 'retriev' 'return' 'reunit' 'reveal' 'reveng' 'rich' 'richard' 'ride'\n",
            " 'right' 'ring' 'rise' 'river' 'road' 'robert' 'rock' 'roland' 'role'\n",
            " 'roman' 'room' 'rose' 'royal' 'ruin' 'rule' 'run' 'rush' 'russian'\n",
            " 'sacrific' 'safe' 'safeti' 'said' 'sail' 'sam' 'save' 'saw' 'say' 'scene'\n",
            " 'school' 'scientist' 'sea' 'search' 'second' 'secret' 'secretli' 'secur'\n",
            " 'seek' 'seen' 'sell' 'send' 'sens' 'sent' 'separ' 'seri' 'serv' 'servant'\n",
            " 'servic' 'set' 'seven' 'sever' 'sex' 'sexual' 'shadow' 'share' 'sharp'\n",
            " 'ship' 'shock' 'shoot' 'short' 'shortli' 'shot' 'sign' 'similar' 'simpli'\n",
            " 'sinc' 'sir' 'sister' 'situat' 'skill' 'slave' 'sleep' 'slowli' 'small'\n",
            " 'societi' 'soldier' 'solv' 'someon' 'someth' 'son' 'soon' 'soul' 'sourc'\n",
            " 'south' 'soviet' 'space' 'speak' 'special' 'spell' 'spend' 'spi' 'spirit'\n",
            " 'spot' 'st' 'stab' 'stage' 'stand' 'star' 'start' 'state' 'station'\n",
            " 'statu' 'stay' 'steal' 'step' 'stephen' 'steve' 'stolen' 'stone' 'stop'\n",
            " 'stori' 'storm' 'strang' 'street' 'strike' 'strong' 'struggl' 'student'\n",
            " 'studi' 'subsequ' 'success' 'suddenli' 'suffer' 'suggest' 'suicid'\n",
            " 'summer' 'summon' 'sun' 'suppli' 'support' 'sure' 'surpris' 'surround'\n",
            " 'surviv' 'survivor' 'suspect' 'suspici' 'suspicion' 'sword' 'taken'\n",
            " 'tale' 'talk' 'target' 'task' 'teach' 'teacher' 'team' 'technolog' 'tell'\n",
            " 'templ' 'terrorist' 'test' 'th' 'thing' 'think' 'thoma' 'thorn' 'thought'\n",
            " 'thousand' 'threat' 'threaten' 'throne' 'throw' 'thu' 'time' 'titl'\n",
            " 'togeth' 'told' 'tom' 'took' 'tortur' 'tower' 'town' 'track' 'trade'\n",
            " 'train' 'transform' 'transport' 'trap' 'travel' 'tree' 'tri' 'trial'\n",
            " 'tribe' 'trick' 'trip' 'troop' 'troubl' 'true' 'trust' 'truth' 'turn'\n",
            " 'twin' 'ultim' 'unabl' 'uncl' 'underground' 'understand' 'unfortun'\n",
            " 'unit' 'univers' 'unknown' 'use' 'vampir' 'variou' 'victim' 'victor'\n",
            " 'victori' 'view' 'villag' 'violent' 'vision' 'visit' 'vlad' 'voic' 'wait'\n",
            " 'wake' 'walk' 'wall' 'want' 'war' 'warn' 'warrior' 'watch' 'water' 'way'\n",
            " 'wealthi' 'weapon' 'wear' 'wed' 'week' 'went' 'west' 'white' 'widow'\n",
            " 'wife' 'wild' 'william' 'win' 'window' 'winter' 'wish' 'wit' 'witch'\n",
            " 'wizard' 'wolf' 'woman' 'women' 'wonder' 'wood' 'word' 'work' 'world'\n",
            " 'wound' 'write' 'written' 'wrong' 'year' 'york' 'young' 'younger']\n"
          ]
        }
      ]
    },
    {
      "cell_type": "code",
      "source": [
        "#afficher le 3eme mot du dictionnaire\n",
        "print(\"3eme mot du dictionnaire:\", count_vec.get_feature_names_out()[5])"
      ],
      "metadata": {
        "colab": {
          "base_uri": "https://localhost:8080/"
        },
        "id": "CWFS5ZOP6-N3",
        "outputId": "c3819759-4acd-40bc-a2e1-47e25fc6da5a"
      },
      "execution_count": 15,
      "outputs": [
        {
          "output_type": "stream",
          "name": "stdout",
          "text": [
            "3eme mot du dictionnaire: accept\n"
          ]
        }
      ]
    },
    {
      "cell_type": "code",
      "source": [
        "# Convert the sparse matrix to a dense format\n",
        "bagofword_vec2 = bagofword_vec.toarray()\n",
        "print(\"Shape of the bag-of-words vector:\", bagofword_vec2.shape)\n",
        "print(\"First 5 rows of the bag-of-words vector:\\n\", bagofword_vec2[:5])"
      ],
      "metadata": {
        "colab": {
          "base_uri": "https://localhost:8080/"
        },
        "id": "-MCvVJUx6Tq4",
        "outputId": "d575a4e0-f049-4598-cc31-0a9f4a236932"
      },
      "execution_count": 16,
      "outputs": [
        {
          "output_type": "stream",
          "name": "stdout",
          "text": [
            "Shape of the bag-of-words vector: (3000, 1000)\n",
            "First 5 rows of the bag-of-words vector:\n",
            " [[0 0 2 ... 0 0 0]\n",
            " [0 0 0 ... 0 0 0]\n",
            " [0 0 0 ... 0 0 0]\n",
            " [0 0 0 ... 0 3 0]\n",
            " [0 0 1 ... 0 0 0]]\n"
          ]
        }
      ]
    },
    {
      "cell_type": "markdown",
      "source": [
        "\n",
        "\n",
        "---\n",
        "\n",
        "\n",
        "\n",
        "---\n",
        "\n"
      ],
      "metadata": {
        "id": "UFdi4VWH7Ea8"
      }
    },
    {
      "cell_type": "markdown",
      "source": [
        "Création de la classe BookDataset\n",
        "\n",
        "Le DataLoader de PyTorch va appeler __getitem__ automatiquement pour créer chaque batch, transformant chaque texte en données numériques parfaitement préparées pour le modèle"
      ],
      "metadata": {
        "id": "PwRPzlQ_C2ET"
      }
    },
    {
      "cell_type": "code",
      "source": [
        "import os\n",
        "os.environ['PYTORCH_CUDA_ALLOC_CONF'] = 'max_split_size_mb:128'\n",
        "import torch # PyTorch is a deep learning framework\n",
        "from transformers import RobertaTokenizer, RobertaForSequenceClassification\n",
        "from torch.utils.data import Dataset, DataLoader\n",
        "from sklearn.preprocessing import LabelEncoder\n",
        "from sklearn.metrics import accuracy_score\n",
        "from sklearn.model_selection import train_test_split\n",
        "import numpy as np\n",
        "from tqdm import tqdm\n",
        "\n",
        "# Split the dataset into training and testing sets and define the target variable\n",
        "test = books['genre']\n",
        "X_train, X_test, y_train, y_test = train_test_split(bagofword_vec,test,test_size=0.2)\n",
        "X_train.shape,X_test.shape\n",
        "\n",
        "\n",
        "\n",
        "# Custom Dataset class\n",
        "class BookDataset(Dataset):#hérite de torch.utils.data.Dataset\n",
        "    def __init__(self, texts, labels, tokenizer, max_length=512):\n",
        "        self.texts = texts\n",
        "        self.labels = labels\n",
        "        self.tokenizer = tokenizer\n",
        "        self.max_length = max_length#longueur maximale des séquences de tokens\n",
        "\n",
        "    def __len__(self):\n",
        "        return len(self.texts)\n",
        "\n",
        "    def __getitem__(self, idx):\n",
        "        text = str(self.texts[idx])#récupère le résumé du livre à l'index idx et le convertit en chaîne de caractères\n",
        "        label = self.labels[idx]\n",
        "\n",
        "        encoding = self.tokenizer.encode_plus(\n",
        "            text,\n",
        "            add_special_tokens=True,\n",
        "            max_length=self.max_length,\n",
        "            padding='max_length',\n",
        "            truncation=True,\n",
        "            return_attention_mask=True,#dans le cas du code présenté (classification de résumés de livres avec RoBERTa), il ne s’agit que de padding masks\n",
        "            return_tensors='pt'# 'pt' indique que les tenseurs retournés doivent être au format PyTorch\n",
        "        )\n",
        "\n",
        "        return {\n",
        "            'input_ids': encoding['input_ids'].flatten(),\n",
        "            'attention_mask': encoding['attention_mask'].flatten(),\n",
        "            'labels': torch.tensor(label, dtype=torch.long)\n",
        "        }\n",
        "\n"
      ],
      "metadata": {
        "id": "LWAvC85q7FpX"
      },
      "execution_count": 17,
      "outputs": []
    },
    {
      "cell_type": "markdown",
      "source": [
        "Création des fonctions pour l'entraînement  "
      ],
      "metadata": {
        "id": "91d1u2p4EnxT"
      }
    },
    {
      "cell_type": "code",
      "source": [
        "\n",
        "def train_epoch(model, data_loader, optimizer, device):\n",
        "    model.train()\n",
        "    total_loss = 0\n",
        "\n",
        "\n",
        "\n",
        "    for batch in tqdm(data_loader, desc=\"Training\"):\n",
        "        #tqdm est une bibliothèque Python qui affiche une barre de progression pour toute boucle, ce qui permet de visualiser en temps réel l’avancement du traitement\n",
        "        input_ids = batch['input_ids'].to(device)\n",
        "        attention_mask = batch['attention_mask'].to(device)\n",
        "        #.to(device) permet d’utiliser ce masque avec RoBERTa en accélérant les calculs sur GPU si disponible\n",
        "\n",
        "        labels = batch['labels'].to(device)\n",
        "\n",
        "        optimizer.zero_grad()# Remise à zéro des gradients avant la rétropropagation\n",
        "        outputs = model(input_ids=input_ids, attention_mask=attention_mask, labels=labels)\n",
        "        # Forward pass pour obtenir les sorties du modèle\n",
        "\n",
        "        loss = outputs.loss# Calcul de la perte (loss)\n",
        "        total_loss += loss.item()# Accumulation de la perte totale\n",
        "\n",
        "        loss.backward()# Rétropropagation pour calculer les gradients\n",
        "        optimizer.step()#Mise à jour des poids du modèle\n",
        "\n",
        "    return total_loss / len(data_loader)# Retourne la perte moyenne sur l’ensemble des batches\n"
      ],
      "metadata": {
        "id": "oiUlTjo5EpGM"
      },
      "execution_count": 18,
      "outputs": []
    },
    {
      "cell_type": "markdown",
      "source": [
        "Fonction d'evaluation du modèle pour le jeu de test"
      ],
      "metadata": {
        "id": "E7C6lr2etdKb"
      }
    },
    {
      "cell_type": "code",
      "source": [
        "\n",
        "def evaluate(model, data_loader, device):#évaluation du modèle sur un ensemble de données de test\n",
        "    model.eval()# Met le modèle en mode évaluation\n",
        "    predictions = []\n",
        "    actual_labels = []\n",
        "\n",
        "    with torch.no_grad():\n",
        "        # Désactive le calcul des gradients pour économiser de la mémoire et accélérer les calculs (on est en evaluation)\n",
        "        for batch in tqdm(data_loader, desc=\"Evaluating\"):\n",
        "            input_ids = batch['input_ids'].to(device)\n",
        "            #.to(device) permet d’utiliser ce masque avec RoBERTa en accélérant les calculs sur GPU si disponible\n",
        "\n",
        "            attention_mask = batch['attention_mask'].to(device)\n",
        "            #.to(device) permet d’utiliser ce masque avec RoBERTa en accélérant les calculs sur GPU si disponible\n",
        "\n",
        "            labels = batch['labels']\n",
        "            #labels ne sont pas déplacées sur le device car elles sont utilisées pour le calcul de l’accuracy uniquement\n",
        "\n",
        "            outputs = model(input_ids=input_ids, attention_mask=attention_mask)\n",
        "            # Forward pass pour obtenir les sorties du modèle\n",
        "            _, preds = torch.max(outputs.logits, dim=1)\n",
        "            #torch.max renvoie la valeur maximale et son index le long d’une dimension spécifiée (ici dim=1, c’est-à-dire pour chaque ligne)\n",
        "\n",
        "\n",
        "            predictions.extend(preds.cpu().numpy())\n",
        "            # Déplace les prédictions sur le CPU et les convertit en tableau numpy avant de les ajouter à la liste des prédictions\n",
        "\n",
        "            actual_labels.extend(labels.cpu().numpy())\n",
        "            # Déplace les labels sur le CPU et les convertit en tableau numpy avant de les ajouter à la liste des labels réels\n",
        "\n",
        "\n",
        "    return accuracy_score(actual_labels, predictions)\n",
        "    # Calcule et retourne l’accuracy en comparant les labels réels aux prédictions\n",
        "\n"
      ],
      "metadata": {
        "id": "OM1CY943td12"
      },
      "execution_count": 19,
      "outputs": []
    },
    {
      "cell_type": "markdown",
      "source": [
        "\n",
        "\n",
        "---\n",
        "\n"
      ],
      "metadata": {
        "id": "DgzvVdH5u8lV"
      }
    },
    {
      "cell_type": "markdown",
      "source": [
        "Programme principal"
      ],
      "metadata": {
        "id": "cn8CX3Weu9Hz"
      }
    },
    {
      "cell_type": "code",
      "source": [
        "def train_roberta_classifier(books, num_epochs=6, batch_size=8):\n",
        "    # Prepare data\n",
        "    X_train, X_test, y_train, y_test = train_test_split(\n",
        "        books['summary'].values,\n",
        "        books['genre'].values,\n",
        "        test_size=0.2,\n",
        "        random_state=42\n",
        "    )\n",
        "\n",
        "    # Initialize tokenizer and encode labels\n",
        "    tokenizer = RobertaTokenizer.from_pretrained('roberta-base')\n",
        "    label_encoder = LabelEncoder()\n",
        "    y_train_encoded = label_encoder.fit_transform(y_train)\n",
        "    y_test_encoded = label_encoder.transform(y_test)\n",
        "\n",
        "    # Create datasets\n",
        "    train_dataset = BookDataset(X_train, y_train_encoded, tokenizer)\n",
        "    test_dataset = BookDataset(X_test, y_test_encoded, tokenizer)\n",
        "\n",
        "    train_loader = DataLoader(train_dataset, batch_size=batch_size, shuffle=True)\n",
        "    test_loader = DataLoader(test_dataset, batch_size=batch_size)\n",
        "\n",
        "    # Initialize model\n",
        "    device = torch.device('cuda' if torch.cuda.is_available() else 'cpu')\n",
        "    model = RobertaForSequenceClassification.from_pretrained(\n",
        "        'roberta-base',\n",
        "        num_labels=len(label_encoder.classes_)\n",
        "    ).to(device)\n",
        "\n",
        "    # Initialize optimizer\n",
        "    optimizer = torch.optim.AdamW(model.parameters(), lr=2e-5)\n",
        "\n",
        "    # Training loop\n",
        "    best_accuracy = 0\n",
        "\n",
        "    for epoch in range(num_epochs):\n",
        "        print(f\"\\nEpoch {epoch + 1}/{num_epochs}\")\n",
        "        avg_loss = train_epoch(model, train_loader, optimizer, device)\n",
        "        accuracy = evaluate(model, test_loader, device)\n",
        "\n",
        "        print(f\"Average loss: {avg_loss:.4f}\")\n",
        "        print(f\"Accuracy: {accuracy:.4f}\")\n",
        "\n",
        "        if accuracy > best_accuracy:\n",
        "            best_accuracy = accuracy\n",
        "            # Optionally save the best model\n",
        "            #torch.save(model.state_dict(), 'best_model.pth')\n",
        "\n",
        "    return model, label_encoder, best_accuracy\n"
      ],
      "metadata": {
        "id": "FK1OGjxuu-Bc"
      },
      "execution_count": 20,
      "outputs": []
    },
    {
      "cell_type": "markdown",
      "source": [],
      "metadata": {
        "id": "3DvaS9uZv_cU"
      }
    },
    {
      "cell_type": "code",
      "source": [
        "model, label_encoder, best_accuracy = train_roberta_classifier(books)\n",
        "print(f\"\\nBest accuracy achieved: {best_accuracy:.4f}\")\n",
        "print(\"Model and label encoder are ready for use.\")\n",
        "\n",
        "#sauvegarder le model\n",
        "torch.save(model.state_dict(), 'roberta_book_genre_classifier.pth')"
      ],
      "metadata": {
        "colab": {
          "base_uri": "https://localhost:8080/",
          "height": 1000,
          "referenced_widgets": [
            "46c816871615413cbf5155b7554e9c34",
            "a65eb050b42c4c6f94ef9f8a7f11a69b",
            "5a61916a9c90433499e8905ea5299145",
            "1ac5cc1417cb4844a67ea78751ff18fc",
            "2941d6470a37430594b78da976e8a015",
            "5d4564861fc94fc9a3b11f72d4a32279",
            "b0cfa026f18d416f8e43d7879dcdfcf9",
            "eda28e93da25463f8d01357b8e2edacf",
            "3c3be083e137456a8fb4d763623cb3af",
            "88dc904c35a04a918730134ebfb74fd2",
            "193aa4338d1746ed8305d3e793e325aa",
            "6b1b0f25807943589c7f5f3d65d6e48a",
            "d079deff437a4e7a9e897e74b49148ca",
            "9c3bf13043ab4d2ca0506635ae3cec05",
            "bab2cac5338f4bffaa8b14a488e593d5",
            "5ebffe489a674790a9cce450a9cc73a2",
            "0b9ed7844e86495b82bc4d3eb97de2d6",
            "22d04b6d12894bc4a5f5586388bbeefe",
            "b5a1861779f846c89756e52801659575",
            "833be936dd3a47ed80fe5484cc54fe76",
            "a07a1bd20e2b421185e8fe4ac5e067f9",
            "84754ba595104bada0712d1c0f4abb83",
            "cada0820f84e46e191ac26a203b75cbb",
            "ca8e34735b23403792794305e0e5e594",
            "ba49477a186743aca42b1fd6d9033063",
            "7d71c9ba07f8441ca63186336b3afd2b",
            "f91ac93c22a24c4ab800bf69a26951d7",
            "fd5b4f915ef146398a4fed50fc1310e4",
            "e06d44916b6841f2beb4885cd4e00669",
            "7f84006c48cb4303b510ddf6e5fff4a3",
            "af91ffc28824483b85184adcdf9dc45f",
            "658d6078528140dd850496a47912e736",
            "a582065ca2044c21876e74f35501b95e",
            "1fc18d4e0fdf4f37828623a967b207d3",
            "051ec1e706dc448bb4a7a87edf4733be",
            "4d0a614bf18e4596aa76e9a92fa85985",
            "b501963412414666a82eaba781a10c0a",
            "42e3c0f2f6934523be128e5fc462abf8",
            "63971a9d80c74fc19d99e2150150e7fd",
            "efaffb59993e41f39cab592465e52418",
            "22638ead3d4d4681a33e951a4b8a846d",
            "c8d0667e9d1b40d5b3f77f1d2a2c5eb1",
            "e4275796e5c046fe806cabaf5c349728",
            "d834c1823905451a9bdfd732687bb432",
            "465a0fe5a12949acaa5be6ca995560cb",
            "e4d5911a44654f2d925efa183238ed10",
            "b190ff7be329417fbb650426d54da5de",
            "b11e3be2def547a5a913fa4e3dbe0777",
            "a3c6b1dee37a4afd9e6518db997c6664",
            "6edfdf5cfe6247e1b0604082300126cf",
            "33badfedbd1a42ddaa7f8d186ef21ee1",
            "cdfa879d687b4cdaacb5e5a6644c41c3",
            "2565e3bcba074f739970fba6934e5794",
            "a772d33d16bb432abedd1d78f07c3343",
            "6b98c669eefa41c5a37c6c0baccfa3b6",
            "16d568870c1049fbb6ca6170d2209360",
            "7595f6de190e43c287a02c95d6afc54b",
            "f76b543494a04139be27d739dc845cca",
            "a80ab5e3448e41a08fc16584352990c5",
            "ca69a3e972e14ee381d2bb1387e59b3a",
            "f2710c5726724f3ca9da5dbcaffda898",
            "219a7e5ddb8d47f79f082f99279ba89f",
            "88a977f44796405fb3685f01d00fa1d2",
            "db01a93a63ec49e98331a0cacc856ed0",
            "b241984545c34f248ff99df9a3353f3c",
            "31a27bee10274f2dbaf991923733d960"
          ]
        },
        "id": "EhGZS-CtwE95",
        "outputId": "66285651-b8f4-4e47-9c05-02e367d8dfd9"
      },
      "execution_count": 21,
      "outputs": [
        {
          "output_type": "stream",
          "name": "stderr",
          "text": [
            "/usr/local/lib/python3.12/dist-packages/huggingface_hub/utils/_auth.py:94: UserWarning: \n",
            "The secret `HF_TOKEN` does not exist in your Colab secrets.\n",
            "To authenticate with the Hugging Face Hub, create a token in your settings tab (https://huggingface.co/settings/tokens), set it as secret in your Google Colab and restart your session.\n",
            "You will be able to reuse this secret in all of your notebooks.\n",
            "Please note that authentication is recommended but still optional to access public models or datasets.\n",
            "  warnings.warn(\n"
          ]
        },
        {
          "output_type": "display_data",
          "data": {
            "text/plain": [
              "tokenizer_config.json:   0%|          | 0.00/25.0 [00:00<?, ?B/s]"
            ],
            "application/vnd.jupyter.widget-view+json": {
              "version_major": 2,
              "version_minor": 0,
              "model_id": "46c816871615413cbf5155b7554e9c34"
            }
          },
          "metadata": {}
        },
        {
          "output_type": "display_data",
          "data": {
            "text/plain": [
              "vocab.json:   0%|          | 0.00/899k [00:00<?, ?B/s]"
            ],
            "application/vnd.jupyter.widget-view+json": {
              "version_major": 2,
              "version_minor": 0,
              "model_id": "6b1b0f25807943589c7f5f3d65d6e48a"
            }
          },
          "metadata": {}
        },
        {
          "output_type": "display_data",
          "data": {
            "text/plain": [
              "merges.txt:   0%|          | 0.00/456k [00:00<?, ?B/s]"
            ],
            "application/vnd.jupyter.widget-view+json": {
              "version_major": 2,
              "version_minor": 0,
              "model_id": "cada0820f84e46e191ac26a203b75cbb"
            }
          },
          "metadata": {}
        },
        {
          "output_type": "display_data",
          "data": {
            "text/plain": [
              "tokenizer.json:   0%|          | 0.00/1.36M [00:00<?, ?B/s]"
            ],
            "application/vnd.jupyter.widget-view+json": {
              "version_major": 2,
              "version_minor": 0,
              "model_id": "1fc18d4e0fdf4f37828623a967b207d3"
            }
          },
          "metadata": {}
        },
        {
          "output_type": "display_data",
          "data": {
            "text/plain": [
              "config.json:   0%|          | 0.00/481 [00:00<?, ?B/s]"
            ],
            "application/vnd.jupyter.widget-view+json": {
              "version_major": 2,
              "version_minor": 0,
              "model_id": "465a0fe5a12949acaa5be6ca995560cb"
            }
          },
          "metadata": {}
        },
        {
          "output_type": "display_data",
          "data": {
            "text/plain": [
              "model.safetensors:   0%|          | 0.00/499M [00:00<?, ?B/s]"
            ],
            "application/vnd.jupyter.widget-view+json": {
              "version_major": 2,
              "version_minor": 0,
              "model_id": "16d568870c1049fbb6ca6170d2209360"
            }
          },
          "metadata": {}
        },
        {
          "output_type": "stream",
          "name": "stderr",
          "text": [
            "Some weights of RobertaForSequenceClassification were not initialized from the model checkpoint at roberta-base and are newly initialized: ['classifier.dense.bias', 'classifier.dense.weight', 'classifier.out_proj.bias', 'classifier.out_proj.weight']\n",
            "You should probably TRAIN this model on a down-stream task to be able to use it for predictions and inference.\n"
          ]
        },
        {
          "output_type": "stream",
          "name": "stdout",
          "text": [
            "\n",
            "Epoch 1/6\n"
          ]
        },
        {
          "output_type": "stream",
          "name": "stderr",
          "text": [
            "Training: 100%|██████████| 300/300 [03:46<00:00,  1.32it/s]\n",
            "Evaluating: 100%|██████████| 75/75 [00:18<00:00,  4.15it/s]\n"
          ]
        },
        {
          "output_type": "stream",
          "name": "stdout",
          "text": [
            "Average loss: 1.4580\n",
            "Accuracy: 0.5967\n",
            "\n",
            "Epoch 2/6\n"
          ]
        },
        {
          "output_type": "stream",
          "name": "stderr",
          "text": [
            "Training: 100%|██████████| 300/300 [03:50<00:00,  1.30it/s]\n",
            "Evaluating: 100%|██████████| 75/75 [00:18<00:00,  4.16it/s]\n"
          ]
        },
        {
          "output_type": "stream",
          "name": "stdout",
          "text": [
            "Average loss: 0.9826\n",
            "Accuracy: 0.6567\n",
            "\n",
            "Epoch 3/6\n"
          ]
        },
        {
          "output_type": "stream",
          "name": "stderr",
          "text": [
            "Training: 100%|██████████| 300/300 [03:50<00:00,  1.30it/s]\n",
            "Evaluating: 100%|██████████| 75/75 [00:18<00:00,  4.13it/s]\n"
          ]
        },
        {
          "output_type": "stream",
          "name": "stdout",
          "text": [
            "Average loss: 0.7915\n",
            "Accuracy: 0.6600\n",
            "\n",
            "Epoch 4/6\n"
          ]
        },
        {
          "output_type": "stream",
          "name": "stderr",
          "text": [
            "Training: 100%|██████████| 300/300 [03:50<00:00,  1.30it/s]\n",
            "Evaluating: 100%|██████████| 75/75 [00:18<00:00,  4.14it/s]\n"
          ]
        },
        {
          "output_type": "stream",
          "name": "stdout",
          "text": [
            "Average loss: 0.6416\n",
            "Accuracy: 0.6617\n",
            "\n",
            "Epoch 5/6\n"
          ]
        },
        {
          "output_type": "stream",
          "name": "stderr",
          "text": [
            "Training: 100%|██████████| 300/300 [03:50<00:00,  1.30it/s]\n",
            "Evaluating: 100%|██████████| 75/75 [00:18<00:00,  4.12it/s]\n"
          ]
        },
        {
          "output_type": "stream",
          "name": "stdout",
          "text": [
            "Average loss: 0.4980\n",
            "Accuracy: 0.6650\n",
            "\n",
            "Epoch 6/6\n"
          ]
        },
        {
          "output_type": "stream",
          "name": "stderr",
          "text": [
            "Training: 100%|██████████| 300/300 [03:50<00:00,  1.30it/s]\n",
            "Evaluating: 100%|██████████| 75/75 [00:18<00:00,  4.00it/s]\n"
          ]
        },
        {
          "output_type": "stream",
          "name": "stdout",
          "text": [
            "Average loss: 0.3686\n",
            "Accuracy: 0.6917\n",
            "\n",
            "Best accuracy achieved: 0.6917\n",
            "Model and label encoder are ready for use.\n"
          ]
        }
      ]
    },
    {
      "cell_type": "markdown",
      "source": [],
      "metadata": {
        "id": "hULL7Px7wPA9"
      }
    },
    {
      "cell_type": "code",
      "source": [
        "torch.save(model.state_dict(), 'drive/MyDrive/roberta_books/roberta_book_genre_classifier.pth')"
      ],
      "metadata": {
        "id": "_C05Iufq8jXS"
      },
      "execution_count": 22,
      "outputs": []
    },
    {
      "cell_type": "code",
      "source": [
        "# print(\"Model saved to 'roberta_book_genre_classifier.pth'\")\n",
        "\n",
        "# # Charger le modèle sauvegardé\n",
        "# model.load_state_dict(torch.load('roberta_book_genre_classifier.pth'))"
      ],
      "metadata": {
        "id": "aapQ9ZN8xj_A"
      },
      "execution_count": 23,
      "outputs": []
    },
    {
      "cell_type": "code",
      "source": [
        "summary_topredict_1 = \"A thrilling mystery novel set in a small town, where a detective unravels secrets and solves crimes.\"\n",
        "\n"
      ],
      "metadata": {
        "id": "EeGuQqJW7bpG"
      },
      "execution_count": 24,
      "outputs": []
    },
    {
      "cell_type": "code",
      "source": [
        "tokenizer = RobertaTokenizer.from_pretrained('roberta-base')\n",
        "encoding = tokenizer.encode_plus(\n",
        "        summary_topredict_1,\n",
        "        add_special_tokens=True,\n",
        "        max_length=512,\n",
        "        padding='max_length',\n",
        "        truncation=True,\n",
        "        return_attention_mask=True,\n",
        "        return_tensors='pt'\n",
        "    )\n",
        "input_ids = encoding['input_ids'].to(torch.device('cuda' if torch.cuda.is_available() else 'cpu'))\n",
        "attention_mask = encoding['attention_mask'].to(torch.device('cuda' if torch.cuda.is_available() else 'cpu'))\n"
      ],
      "metadata": {
        "id": "ulHQnRim7hD2"
      },
      "execution_count": 25,
      "outputs": []
    },
    {
      "cell_type": "code",
      "source": [
        "genre_num = 5\n",
        "genre_unique = books_old[books['genre'] == genre_num]['genre'].unique()\n",
        "print(\"Le genre associé à la valeur 5 est :\", genre_unique)"
      ],
      "metadata": {
        "id": "u7OdE0CnE2YR",
        "colab": {
          "base_uri": "https://localhost:8080/"
        },
        "outputId": "03e56d19-b035-4a57-c71a-1fc330c74dc0"
      },
      "execution_count": 26,
      "outputs": [
        {
          "output_type": "stream",
          "name": "stdout",
          "text": [
            "Le genre associé à la valeur 5 est : ['Thriller']\n"
          ]
        }
      ]
    },
    {
      "cell_type": "code",
      "source": [
        "\n",
        "model.eval()\n",
        "with torch.no_grad():\n",
        "    outputs = model(input_ids=input_ids, attention_mask=attention_mask)\n",
        "    logits = outputs.logits\n",
        "    predicted_class_idx = torch.argmax(logits, dim=1).item()\n",
        "\n",
        "# Convertir l’indice en nom de genre\n",
        "predicted_genre = label_encoder.inverse_transform([predicted_class_idx])\n",
        "print(f\"Résumé : {summary_topredict_1}\")\n",
        "\n",
        "\n",
        "print(f\"Genre prédit : {predicted_genre[0]}\")\n",
        "\n",
        "genre_unique = books_old[books['genre'] == predicted_genre[0]]['genre'].unique()\n",
        "print(\"Le genre associé à la valeur 5 est :\", genre_unique[0])\n"
      ],
      "metadata": {
        "id": "0nwG-f777x44",
        "colab": {
          "base_uri": "https://localhost:8080/"
        },
        "outputId": "602fb342-4a25-442f-b125-d87cd988b537"
      },
      "execution_count": 27,
      "outputs": [
        {
          "output_type": "stream",
          "name": "stdout",
          "text": [
            "Résumé : A thrilling mystery novel set in a small town, where a detective unravels secrets and solves crimes.\n",
            "Genre prédit : 2\n",
            "Le genre associé à la valeur 5 est : Crime Fiction\n"
          ]
        }
      ]
    },
    {
      "cell_type": "markdown",
      "source": [
        "\n",
        "\n",
        "---\n",
        "\n",
        "\n",
        "\n",
        "---\n",
        "\n"
      ],
      "metadata": {
        "id": "sqhEUHU0VPas"
      }
    },
    {
      "cell_type": "markdown",
      "source": [
        "Fonction pour la prediction pour un seul summary"
      ],
      "metadata": {
        "id": "nzdXQuaBWZ56"
      }
    },
    {
      "cell_type": "code",
      "source": [
        "\n",
        "def predict_genre(text, model, tokenizer, label_encoder, device, max_length=512):\n",
        "    \"\"\"\n",
        "    Predict genre for a single text using the trained RoBERTa model\n",
        "    \"\"\"\n",
        "    # Prepare the text\n",
        "    encoding = tokenizer.encode_plus(\n",
        "        text,\n",
        "        add_special_tokens=True,\n",
        "        max_length=max_length,\n",
        "        padding='max_length',\n",
        "        truncation=True,\n",
        "        return_attention_mask=True,\n",
        "        return_tensors='pt'\n",
        "    )\n",
        "\n",
        "    # Move to device\n",
        "    input_ids = encoding['input_ids'].to(device)\n",
        "    attention_mask = encoding['attention_mask'].to(device)\n",
        "\n",
        "    # Get prediction\n",
        "    model.eval()\n",
        "    with torch.no_grad():\n",
        "        outputs = model(input_ids=input_ids, attention_mask=attention_mask)\n",
        "        _, prediction = torch.max(outputs.logits, dim=1)\n",
        "\n",
        "    # Convert prediction to genre label\n",
        "    predicted_genre = label_encoder.inverse_transform([prediction.item()])[0]\n",
        "    return predicted_genre"
      ],
      "metadata": {
        "id": "lZHXPNadWaqi"
      },
      "execution_count": 28,
      "outputs": []
    },
    {
      "cell_type": "markdown",
      "source": [
        "Prediction pour un seul summary utilisant la fonction"
      ],
      "metadata": {
        "id": "6D9GIaPcgg5E"
      }
    },
    {
      "cell_type": "code",
      "source": [
        "summary_topredict_2 = \"A heartwarming romance between two people from different worlds, overcoming obstacles to be together.\"\n",
        "\n",
        "prediction2= predict_genre(summary_topredict_2, model, tokenizer, label_encoder, torch.device('cuda' if torch.cuda.is_available() else 'cpu'))\n",
        "\n",
        "print(prediction2)\n",
        "# Convert prediction to genre label\n",
        "genre_unique = books_old[books['genre'] == prediction2]['genre'].unique()\n",
        "print(\"Le genre associé  est :\", genre_unique[0])\n"
      ],
      "metadata": {
        "id": "hJVjzzCtXSlR",
        "colab": {
          "base_uri": "https://localhost:8080/"
        },
        "outputId": "9d0d73ae-e98d-4cc0-e354-79e65969bb70"
      },
      "execution_count": 37,
      "outputs": [
        {
          "output_type": "stream",
          "name": "stdout",
          "text": [
            "4\n",
            "Le genre associé  est : Horror\n"
          ]
        }
      ]
    },
    {
      "cell_type": "markdown",
      "source": [
        "Fonction de Prediction pour un batch de \"summaries\""
      ],
      "metadata": {
        "id": "9ZFU9T9XWiBf"
      }
    },
    {
      "cell_type": "code",
      "source": [
        "\n",
        "def predict_genres_batch(texts, model, tokenizer, label_encoder, device, batch_size=2, max_length=512):\n",
        "    \"\"\"\n",
        "    Predict genres for a batch of texts\n",
        "    \"\"\"\n",
        "    model.eval()\n",
        "    predictions = []\n",
        "\n",
        "    for i in range(0, len(texts), batch_size):\n",
        "        batch_texts = texts[i:i + batch_size]\n",
        "\n",
        "        # Prepare batch\n",
        "        encodings = tokenizer(\n",
        "            batch_texts,\n",
        "            add_special_tokens=True,\n",
        "            max_length=max_length,\n",
        "            padding='max_length',\n",
        "            truncation=True,\n",
        "            return_attention_mask=True,\n",
        "            return_tensors='pt'\n",
        "        )\n",
        "\n",
        "        # Move to device\n",
        "        input_ids = encodings['input_ids'].to(device)\n",
        "        attention_mask = encodings['attention_mask'].to(device)\n",
        "\n",
        "        # Get predictions\n",
        "        with torch.no_grad():\n",
        "            outputs = model(input_ids=input_ids, attention_mask=attention_mask)\n",
        "            _, batch_predictions = torch.max(outputs.logits, dim=1)\n",
        "\n",
        "        # Convert predictions to genre labels\n",
        "        batch_genres = label_encoder.inverse_transform(batch_predictions.cpu().numpy())\n",
        "        predictions.extend(batch_genres)\n",
        "\n",
        "    return predictions"
      ],
      "metadata": {
        "id": "9bpsKRPdWigf"
      },
      "execution_count": 43,
      "outputs": []
    },
    {
      "cell_type": "markdown",
      "source": [
        "Applel a fonction pour un batch de summaries"
      ],
      "metadata": {
        "id": "TBt0owPhgycu"
      }
    },
    {
      "cell_type": "code",
      "source": [
        "# create a batch of 10 book summaries and predict its genre using the function predict_genres_batch\n",
        "summaries_batch = [ \"A thrilling mystery novel set in a small town, where a detective unravels secrets and solves crimes.\",\n",
        "         \"A heartwarming romance between two people from different worlds, overcoming obstacles to be together.\",\n",
        "         \"An epic fantasy adventure in a magical realm, where heroes embark on quests to save their world.\",\n",
        "         \"A science fiction tale exploring futuristic technology and its impact on society.\",\n",
        "         \"A historical fiction novel set during World War II, following the lives of ordinary people in extraordinary times.\",\n",
        "         \"A gripping thriller about a journalist uncovering a major conspiracy that puts their life at risk.\",\n",
        "         \"A coming-of-age story about a young protagonist navigating the challenges of adolescence and self-discovery.\",\n",
        "         \"A dystopian novel depicting a bleak future where society is controlled by an oppressive regime.\",\n",
        "         \"A lighthearted comedy about a group of friends embarking on hilarious misadventures.\",\n",
        "         \"A non-fiction book exploring the wonders of the natural world and the importance of conservation.\"\n",
        "    ]\n",
        "\n",
        "predicted_genres_batch = predict_genres_batch(summaries_batch, model, tokenizer, label_encoder, torch.device('cuda' if torch.cuda.is_available() else 'cpu'))\n",
        "for summary, genre in zip(summaries_batch, predicted_genres_batch):\n",
        "    print(\"----------------------------------------------\\n\")\n",
        "\n",
        "    print(f\"Résumé : {summary}\\nGenre prédit : {genre}\\n\\n\")\n",
        "\n",
        "\n"
      ],
      "metadata": {
        "id": "HkkDQ75Eg3e6",
        "colab": {
          "base_uri": "https://localhost:8080/"
        },
        "outputId": "7af38086-ad45-4b72-ca75-7c5169ffdcad"
      },
      "execution_count": 44,
      "outputs": [
        {
          "output_type": "stream",
          "name": "stdout",
          "text": [
            "----------------------------------------------\n",
            "\n",
            "Résumé : A thrilling mystery novel set in a small town, where a detective unravels secrets and solves crimes.\n",
            "Genre prédit : 2\n",
            "\n",
            "\n",
            "----------------------------------------------\n",
            "\n",
            "Résumé : A heartwarming romance between two people from different worlds, overcoming obstacles to be together.\n",
            "Genre prédit : 4\n",
            "\n",
            "\n",
            "----------------------------------------------\n",
            "\n",
            "Résumé : An epic fantasy adventure in a magical realm, where heroes embark on quests to save their world.\n",
            "Genre prédit : 0\n",
            "\n",
            "\n",
            "----------------------------------------------\n",
            "\n",
            "Résumé : A science fiction tale exploring futuristic technology and its impact on society.\n",
            "Genre prédit : 1\n",
            "\n",
            "\n",
            "----------------------------------------------\n",
            "\n",
            "Résumé : A historical fiction novel set during World War II, following the lives of ordinary people in extraordinary times.\n",
            "Genre prédit : 0\n",
            "\n",
            "\n",
            "----------------------------------------------\n",
            "\n",
            "Résumé : A gripping thriller about a journalist uncovering a major conspiracy that puts their life at risk.\n",
            "Genre prédit : 5\n",
            "\n",
            "\n",
            "----------------------------------------------\n",
            "\n",
            "Résumé : A coming-of-age story about a young protagonist navigating the challenges of adolescence and self-discovery.\n",
            "Genre prédit : 0\n",
            "\n",
            "\n",
            "----------------------------------------------\n",
            "\n",
            "Résumé : A dystopian novel depicting a bleak future where society is controlled by an oppressive regime.\n",
            "Genre prédit : 1\n",
            "\n",
            "\n",
            "----------------------------------------------\n",
            "\n",
            "Résumé : A lighthearted comedy about a group of friends embarking on hilarious misadventures.\n",
            "Genre prédit : 4\n",
            "\n",
            "\n",
            "----------------------------------------------\n",
            "\n",
            "Résumé : A non-fiction book exploring the wonders of the natural world and the importance of conservation.\n",
            "Genre prédit : 1\n",
            "\n",
            "\n"
          ]
        }
      ]
    },
    {
      "cell_type": "markdown",
      "source": [
        "Fonction d'evaluations ???"
      ],
      "metadata": {
        "id": "bKOI2staWzGz"
      }
    },
    {
      "cell_type": "code",
      "source": [
        "def evaluate_model_performance(books, model, tokenizer, label_encoder):\n",
        "    \"\"\"\n",
        "    Evaluate model performance and add predictions to the books DataFrame\n",
        "    \"\"\"\n",
        "    device = torch.device('cuda' if torch.cuda.is_available() else 'cpu')\n",
        "\n",
        "    # Get predictions for all books\n",
        "    predicted_genres = predict_genres_batch(\n",
        "        books['summary'],\n",
        "        model,\n",
        "        tokenizer,\n",
        "        label_encoder,\n",
        "        device\n",
        "    )\n",
        "\n",
        "    # Add predictions to DataFrame\n",
        "    books_with_predictions = books.copy()\n",
        "    books_with_predictions['predicted_genre'] = predicted_genres\n",
        "\n",
        "    # Calculate accuracy\n",
        "    accuracy = (books_with_predictions['genre'] == books_with_predictions['predicted_genre']).mean()\n",
        "\n",
        "    return books_with_predictions, accuracy"
      ],
      "metadata": {
        "id": "pWtir14fW0Bl"
      },
      "execution_count": 31,
      "outputs": []
    }
  ]
}